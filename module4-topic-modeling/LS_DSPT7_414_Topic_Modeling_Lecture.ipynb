{
 "cells": [
  {
   "cell_type": "markdown",
   "metadata": {
    "colab_type": "text",
    "id": "cOMBkFKn6uEK"
   },
   "source": [
    "# Topic Modeling (Prepare)\n",
    "\n",
    "On Monday we talked about summarizing your documents using just token counts. Today, we're going to learn about a much more sophisticated approach - learning 'topics' from documents. Topics are a latent structure. They are not directly observable in the data, but we know they're there by reading them.\n",
    "\n",
    "> **latent**: existing but not yet developed or manifest; hidden or concealed.\n",
    "\n",
    "## Use Cases\n",
    "Primary use case: what the hell are your documents about? Who might want to know that in industry - \n",
    "* Identifying common themes in customer reviews\n",
    "* Discovering the needle in a haystack \n",
    "* Monitoring communications (Email - State Department) \n",
    "\n",
    "## Learning Objectives\n",
    "*At the end of the lesson you should be able to:*\n",
    "* Part 0: Warm-Up\n",
    "* Part 1: Describe how an LDA Model works\n",
    "* Part 2: Estimate a LDA Model with Gensim\n",
    "* Part 3: Interpret LDA results & Select the appropriate number of topics"
   ]
  },
  {
   "cell_type": "markdown",
   "metadata": {
    "colab_type": "text",
    "id": "cxH0cRGX6uEL"
   },
   "source": [
    "# Part 0: Warm-Up\n",
    "How do we do a grid search? "
   ]
  },
  {
   "cell_type": "code",
   "execution_count": 33,
   "metadata": {
    "colab": {},
    "colab_type": "code",
    "id": "FFjplZ7r3Lyk"
   },
   "outputs": [],
   "source": [
    "import warnings\n",
    "warnings.filterwarnings(\"ignore\")"
   ]
  },
  {
   "cell_type": "code",
   "execution_count": 2,
   "metadata": {
    "colab": {},
    "colab_type": "code",
    "id": "rnyNg8sQ6uEL"
   },
   "outputs": [],
   "source": [
    "import pandas as pd\n",
    "from sklearn.datasets import fetch_20newsgroups\n",
    "from sklearn.ensemble import RandomForestClassifier\n",
    "from sklearn.model_selection import GridSearchCV\n",
    "from sklearn.feature_extraction.text import TfidfVectorizer"
   ]
  },
  {
   "cell_type": "code",
   "execution_count": 3,
   "metadata": {
    "colab": {},
    "colab_type": "code",
    "id": "boKWVkRz6uEO"
   },
   "outputs": [
    {
     "name": "stdout",
     "output_type": "stream",
     "text": [
      "Training Samples: 11314\n",
      "Testing Samples: 7532\n"
     ]
    }
   ],
   "source": [
    "# Load training data\n",
    "newsgroups_train = fetch_20newsgroups(subset='train', \n",
    "                                      remove=('headers', 'footers', 'quotes'))\n",
    "\n",
    "# Load testing data\n",
    "newsgroups_test = fetch_20newsgroups(subset='test', \n",
    "                                     remove=('headers', 'footers', 'quotes'))\n",
    "\n",
    "print(f'Training Samples: {len(newsgroups_train.data)}')\n",
    "print(f'Testing Samples: {len(newsgroups_test.data)}')"
   ]
  },
  {
   "cell_type": "code",
   "execution_count": 4,
   "metadata": {
    "colab": {},
    "colab_type": "code",
    "id": "hPpukADi7Ofv"
   },
   "outputs": [
    {
     "data": {
      "text/plain": [
       "dict_keys(['data', 'filenames', 'target_names', 'target', 'DESCR'])"
      ]
     },
     "execution_count": 4,
     "metadata": {},
     "output_type": "execute_result"
    }
   ],
   "source": [
    "newsgroups_train.keys()"
   ]
  },
  {
   "cell_type": "code",
   "execution_count": 5,
   "metadata": {
    "colab": {},
    "colab_type": "code",
    "id": "g9Jhb3j-7_e2"
   },
   "outputs": [
    {
     "data": {
      "text/plain": [
       "['alt.atheism',\n",
       " 'comp.graphics',\n",
       " 'comp.os.ms-windows.misc',\n",
       " 'comp.sys.ibm.pc.hardware',\n",
       " 'comp.sys.mac.hardware',\n",
       " 'comp.windows.x',\n",
       " 'misc.forsale',\n",
       " 'rec.autos',\n",
       " 'rec.motorcycles',\n",
       " 'rec.sport.baseball',\n",
       " 'rec.sport.hockey',\n",
       " 'sci.crypt',\n",
       " 'sci.electronics',\n",
       " 'sci.med',\n",
       " 'sci.space',\n",
       " 'soc.religion.christian',\n",
       " 'talk.politics.guns',\n",
       " 'talk.politics.mideast',\n",
       " 'talk.politics.misc',\n",
       " 'talk.religion.misc']"
      ]
     },
     "execution_count": 5,
     "metadata": {},
     "output_type": "execute_result"
    }
   ],
   "source": [
    "newsgroups_train['target_names']"
   ]
  },
  {
   "cell_type": "code",
   "execution_count": 6,
   "metadata": {
    "colab": {},
    "colab_type": "code",
    "id": "JbVoIoMm8HbR"
   },
   "outputs": [
    {
     "data": {
      "text/plain": [
       "\"Anybody seen mouse cursor distortion running the Diamond 1024x768x256 driver?\\nSorry, don't know the version of the driver (no indication in the menus) but it's a recently\\ndelivered Gateway system.  Am going to try the latest drivers from Diamond BBS but wondered\\nif anyone else had seen this.\\n\\npost or email\""
      ]
     },
     "execution_count": 6,
     "metadata": {},
     "output_type": "execute_result"
    }
   ],
   "source": [
    "newsgroups_train['data'][1000]"
   ]
  },
  {
   "cell_type": "markdown",
   "metadata": {
    "colab_type": "text",
    "id": "w-39zg9a6uEQ"
   },
   "source": [
    "### GridSearch on Just Classifier\n",
    "* Fit the vectorizer and prepare BEFORE it goes into the gridsearch"
   ]
  },
  {
   "cell_type": "code",
   "execution_count": 7,
   "metadata": {
    "colab": {},
    "colab_type": "code",
    "id": "2q3NmHEo6uEQ"
   },
   "outputs": [
    {
     "name": "stdout",
     "output_type": "stream",
     "text": [
      "(11314, 18101)\n"
     ]
    }
   ],
   "source": [
    "# Instantiate vectorizer\n",
    "vect = TfidfVectorizer(min_df=5)\n",
    "\n",
    "# Transform the training data\n",
    "X_train = vect.fit_transform(newsgroups_train['data'])\n",
    "print(X_train.shape)"
   ]
  },
  {
   "cell_type": "code",
   "execution_count": 8,
   "metadata": {
    "colab": {},
    "colab_type": "code",
    "id": "7OfA7KNQ6uEU"
   },
   "outputs": [
    {
     "name": "stdout",
     "output_type": "stream",
     "text": [
      "Fitting 5 folds for each of 4 candidates, totalling 20 fits\n"
     ]
    },
    {
     "name": "stderr",
     "output_type": "stream",
     "text": [
      "[Parallel(n_jobs=-1)]: Using backend LokyBackend with 12 concurrent workers.\n",
      "[Parallel(n_jobs=-1)]: Done  18 out of  20 | elapsed:   22.7s remaining:    2.4s\n",
      "[Parallel(n_jobs=-1)]: Done  20 out of  20 | elapsed:   22.8s finished\n"
     ]
    },
    {
     "data": {
      "text/plain": [
       "GridSearchCV(cv=5, error_score=nan,\n",
       "             estimator=RandomForestClassifier(bootstrap=True, ccp_alpha=0.0,\n",
       "                                              class_weight=None,\n",
       "                                              criterion='gini', max_depth=None,\n",
       "                                              max_features='auto',\n",
       "                                              max_leaf_nodes=None,\n",
       "                                              max_samples=None,\n",
       "                                              min_impurity_decrease=0.0,\n",
       "                                              min_impurity_split=None,\n",
       "                                              min_samples_leaf=1,\n",
       "                                              min_samples_split=2,\n",
       "                                              min_weight_fraction_leaf=0.0,\n",
       "                                              n_estimators=100, n_jobs=None,\n",
       "                                              oob_score=False,\n",
       "                                              random_state=None, verbose=0,\n",
       "                                              warm_start=False),\n",
       "             iid='deprecated', n_jobs=-1,\n",
       "             param_grid={'min_samples_leaf': [1, 2, 5, 10]},\n",
       "             pre_dispatch='2*n_jobs', refit=True, return_train_score=False,\n",
       "             scoring=None, verbose=1)"
      ]
     },
     "execution_count": 8,
     "metadata": {},
     "output_type": "execute_result"
    }
   ],
   "source": [
    "params_1 = {\n",
    "    'min_samples_leaf': [1, 2, 5, 10]\n",
    "}\n",
    "\n",
    "# Instantiate classifier\n",
    "clf = RandomForestClassifier()\n",
    "\n",
    "# GridSearch\n",
    "gs1 = GridSearchCV(clf, params_1, cv=5, n_jobs=-1, verbose=1)\n",
    "gs1.fit(X_train, newsgroups_train['target'])"
   ]
  },
  {
   "cell_type": "code",
   "execution_count": 9,
   "metadata": {},
   "outputs": [
    {
     "data": {
      "text/plain": [
       "0.6406224689416059"
      ]
     },
     "execution_count": 9,
     "metadata": {},
     "output_type": "execute_result"
    }
   ],
   "source": [
    "gs1.best_score_"
   ]
  },
  {
   "cell_type": "code",
   "execution_count": 10,
   "metadata": {},
   "outputs": [
    {
     "data": {
      "text/plain": [
       "{'min_samples_leaf': 2}"
      ]
     },
     "execution_count": 10,
     "metadata": {},
     "output_type": "execute_result"
    }
   ],
   "source": [
    "gs1.best_params_"
   ]
  },
  {
   "cell_type": "code",
   "execution_count": 11,
   "metadata": {
    "colab": {},
    "colab_type": "code",
    "id": "gDkMaXvG83Zt"
   },
   "outputs": [
    {
     "data": {
      "text/plain": [
       "(1, 18101)"
      ]
     },
     "execution_count": 11,
     "metadata": {},
     "output_type": "execute_result"
    }
   ],
   "source": [
    "test_sample = vect.transform([\"The new york yankees are the best team in the region.\"])\n",
    "test_sample.shape"
   ]
  },
  {
   "cell_type": "code",
   "execution_count": 12,
   "metadata": {
    "colab": {},
    "colab_type": "code",
    "id": "cMq_hw5W6uEX"
   },
   "outputs": [
    {
     "data": {
      "text/plain": [
       "10"
      ]
     },
     "execution_count": 12,
     "metadata": {},
     "output_type": "execute_result"
    }
   ],
   "source": [
    "gs1.predict(test_sample)[0]"
   ]
  },
  {
   "cell_type": "code",
   "execution_count": 13,
   "metadata": {},
   "outputs": [
    {
     "data": {
      "text/plain": [
       "'rec.sport.baseball'"
      ]
     },
     "execution_count": 13,
     "metadata": {},
     "output_type": "execute_result"
    }
   ],
   "source": [
    "newsgroups_train['target_names'][9]"
   ]
  },
  {
   "cell_type": "markdown",
   "metadata": {
    "colab_type": "text",
    "id": "WdVTuXKl6uEZ"
   },
   "source": [
    "### GridSearch with BOTH the Vectoizer & Classifier"
   ]
  },
  {
   "cell_type": "code",
   "execution_count": 14,
   "metadata": {
    "colab": {},
    "colab_type": "code",
    "id": "97TjUtoI6uEZ"
   },
   "outputs": [
    {
     "name": "stdout",
     "output_type": "stream",
     "text": [
      "Fitting 5 folds for each of 8 candidates, totalling 40 fits\n"
     ]
    },
    {
     "name": "stderr",
     "output_type": "stream",
     "text": [
      "[Parallel(n_jobs=-1)]: Using backend LokyBackend with 12 concurrent workers.\n",
      "[Parallel(n_jobs=-1)]: Done  40 out of  40 | elapsed:  1.2min finished\n"
     ]
    },
    {
     "data": {
      "text/plain": [
       "GridSearchCV(cv=5, error_score=nan,\n",
       "             estimator=Pipeline(memory=None,\n",
       "                                steps=[('vect',\n",
       "                                        TfidfVectorizer(analyzer='word',\n",
       "                                                        binary=False,\n",
       "                                                        decode_error='strict',\n",
       "                                                        dtype=<class 'numpy.float64'>,\n",
       "                                                        encoding='utf-8',\n",
       "                                                        input='content',\n",
       "                                                        lowercase=True,\n",
       "                                                        max_df=1.0,\n",
       "                                                        max_features=None,\n",
       "                                                        min_df=1,\n",
       "                                                        ngram_range=(1, 1),\n",
       "                                                        norm='l2',\n",
       "                                                        preprocessor=None,\n",
       "                                                        smooth_idf=True,\n",
       "                                                        stop_words=None,\n",
       "                                                        strip_acce...\n",
       "                                                               min_samples_split=2,\n",
       "                                                               min_weight_fraction_leaf=0.0,\n",
       "                                                               n_estimators=100,\n",
       "                                                               n_jobs=None,\n",
       "                                                               oob_score=False,\n",
       "                                                               random_state=42,\n",
       "                                                               verbose=0,\n",
       "                                                               warm_start=False))],\n",
       "                                verbose=False),\n",
       "             iid='deprecated', n_jobs=-1,\n",
       "             param_grid={'clf__max_depth': (10, None), 'vect__min_df': (2, 5),\n",
       "                         'vect__stop_words': (None, 'english')},\n",
       "             pre_dispatch='2*n_jobs', refit=True, return_train_score=False,\n",
       "             scoring=None, verbose=1)"
      ]
     },
     "execution_count": 14,
     "metadata": {},
     "output_type": "execute_result"
    }
   ],
   "source": [
    "from sklearn.pipeline import Pipeline\n",
    "\n",
    "# 1. Create a pipeline with a vectorize and a classifier\n",
    "# 2. Use Grid Search to optimize the entire pipeline\n",
    "pipe = Pipeline([\n",
    "    ('vect', TfidfVectorizer()),\n",
    "    ('clf', RandomForestClassifier(random_state=42))\n",
    "])\n",
    "\n",
    "params_2 = {\n",
    "    'vect__stop_words': (None, 'english'), \n",
    "    'vect__min_df': (2, 5),\n",
    "    'clf__max_depth': (10, None)\n",
    "}\n",
    "\n",
    "gs2 = GridSearchCV(pipe, params_2, cv=5, n_jobs=-1, verbose=1)\n",
    "gs2.fit(newsgroups_train['data'], newsgroups_train['target'])"
   ]
  },
  {
   "cell_type": "code",
   "execution_count": 15,
   "metadata": {},
   "outputs": [
    {
     "data": {
      "text/plain": [
       "0.6607746264533867"
      ]
     },
     "execution_count": 15,
     "metadata": {},
     "output_type": "execute_result"
    }
   ],
   "source": [
    "gs2.best_score_"
   ]
  },
  {
   "cell_type": "code",
   "execution_count": 16,
   "metadata": {},
   "outputs": [
    {
     "data": {
      "text/plain": [
       "{'clf__max_depth': None, 'vect__min_df': 2, 'vect__stop_words': 'english'}"
      ]
     },
     "execution_count": 16,
     "metadata": {},
     "output_type": "execute_result"
    }
   ],
   "source": [
    "gs2.best_params_"
   ]
  },
  {
   "cell_type": "code",
   "execution_count": 17,
   "metadata": {
    "colab": {},
    "colab_type": "code",
    "id": "IdIE67Us6uEc"
   },
   "outputs": [
    {
     "data": {
      "text/plain": [
       "array([9])"
      ]
     },
     "execution_count": 17,
     "metadata": {},
     "output_type": "execute_result"
    }
   ],
   "source": [
    "pred = gs2.predict([\"The new york yankees are the best team in the region.\"])\n",
    "pred"
   ]
  },
  {
   "cell_type": "code",
   "execution_count": 18,
   "metadata": {
    "colab": {},
    "colab_type": "code",
    "id": "xhcb5G0W-Dch"
   },
   "outputs": [
    {
     "data": {
      "text/plain": [
       "'rec.sport.baseball'"
      ]
     },
     "execution_count": 18,
     "metadata": {},
     "output_type": "execute_result"
    }
   ],
   "source": [
    "newsgroups_train['target_names'][pred[0]]"
   ]
  },
  {
   "cell_type": "markdown",
   "metadata": {
    "colab_type": "text",
    "id": "F2R2ACd36uEd"
   },
   "source": [
    "Advantages to using GS with the Pipe:\n",
    "* Allows us to make predictions on raw text increasing reproducibility. :)\n",
    "* Allows us to tune the parameters of the vectorizer along side the classifier. :D "
   ]
  },
  {
   "cell_type": "markdown",
   "metadata": {
    "colab_type": "text",
    "id": "xbZjG6U86uEe"
   },
   "source": [
    "# Part 1: Describe how an LDA Model works"
   ]
  },
  {
   "cell_type": "markdown",
   "metadata": {
    "colab_type": "text",
    "id": "dMzU-XOM3LzW"
   },
   "source": [
    "[Your Guide to Latent Dirichlet Allocation](https://medium.com/@lettier/how-does-lda-work-ill-explain-using-emoji-108abf40fa7d)\n",
    "\n",
    "[LDA Topic Modeling](https://lettier.com/projects/lda-topic-modeling/)\n",
    "\n",
    "[Topic Modeling with Gensim](https://www.machinelearningplus.com/nlp/topic-modeling-gensim-python/)"
   ]
  },
  {
   "cell_type": "code",
   "execution_count": 19,
   "metadata": {
    "colab": {},
    "colab_type": "code",
    "id": "yPIlE_IeF0cX"
   },
   "outputs": [
    {
     "name": "stdout",
     "output_type": "stream",
     "text": [
      "✔ Download and installation successful\n",
      "You can now load the model via spacy.load('en_core_web_lg')\n"
     ]
    }
   ],
   "source": [
    "# Download spacy model\n",
    "import spacy.cli\n",
    "spacy.cli.download(\"en_core_web_lg\")"
   ]
  },
  {
   "cell_type": "code",
   "execution_count": 20,
   "metadata": {
    "colab": {},
    "colab_type": "code",
    "id": "qapChu_UGBFc"
   },
   "outputs": [],
   "source": [
    "import re\n",
    "import numpy as np\n",
    "import pandas as pd\n",
    "from pprint import pprint\n",
    "\n",
    "import gensim\n",
    "import gensim.corpora as corpora\n",
    "from gensim.utils import simple_preprocess\n",
    "from gensim.models import CoherenceModel\n",
    "\n",
    "import spacy\n",
    "import pyLDAvis\n",
    "import pyLDAvis.gensim \n",
    "import matplotlib.pyplot as plt\n",
    "%matplotlib inline"
   ]
  },
  {
   "cell_type": "code",
   "execution_count": 21,
   "metadata": {
    "colab": {},
    "colab_type": "code",
    "id": "qaMsy1XAGLxc"
   },
   "outputs": [
    {
     "name": "stdout",
     "output_type": "stream",
     "text": [
      "(11314, 3)\n"
     ]
    },
    {
     "name": "stderr",
     "output_type": "stream",
     "text": [
      "C:\\Users\\keith\\.conda\\envs\\U4-S1-NLP\\lib\\site-packages\\ipykernel\\ipkernel.py:287: DeprecationWarning: `should_run_async` will not call `transform_cell` automatically in the future. Please pass the result to `transformed_cell` argument and any exception that happen during thetransform in `preprocessing_exc_tuple` in IPython 7.17 and above.\n",
      "  and should_run_async(code)\n"
     ]
    }
   ],
   "source": [
    "df = pd.DataFrame({\n",
    "    'content': newsgroups_train['data'],\n",
    "    'target': newsgroups_train['target'],\n",
    "    'target_names': [newsgroups_train['target_names'][i] for i in newsgroups_train['target']]\n",
    "})\n",
    "print(df.shape)"
   ]
  },
  {
   "cell_type": "code",
   "execution_count": 22,
   "metadata": {},
   "outputs": [
    {
     "name": "stderr",
     "output_type": "stream",
     "text": [
      "C:\\Users\\keith\\.conda\\envs\\U4-S1-NLP\\lib\\site-packages\\ipykernel\\ipkernel.py:287: DeprecationWarning: `should_run_async` will not call `transform_cell` automatically in the future. Please pass the result to `transformed_cell` argument and any exception that happen during thetransform in `preprocessing_exc_tuple` in IPython 7.17 and above.\n",
      "  and should_run_async(code)\n"
     ]
    },
    {
     "data": {
      "text/html": [
       "<div>\n",
       "<style scoped>\n",
       "    .dataframe tbody tr th:only-of-type {\n",
       "        vertical-align: middle;\n",
       "    }\n",
       "\n",
       "    .dataframe tbody tr th {\n",
       "        vertical-align: top;\n",
       "    }\n",
       "\n",
       "    .dataframe thead th {\n",
       "        text-align: right;\n",
       "    }\n",
       "</style>\n",
       "<table border=\"1\" class=\"dataframe\">\n",
       "  <thead>\n",
       "    <tr style=\"text-align: right;\">\n",
       "      <th></th>\n",
       "      <th>content</th>\n",
       "      <th>target</th>\n",
       "      <th>target_names</th>\n",
       "    </tr>\n",
       "  </thead>\n",
       "  <tbody>\n",
       "    <tr>\n",
       "      <th>9216</th>\n",
       "      <td>\\n\\nYou appear to be stunningly ignorant of the underlying concept of health\\ninsurance.\\n</td>\n",
       "      <td>19</td>\n",
       "      <td>talk.religion.misc</td>\n",
       "    </tr>\n",
       "    <tr>\n",
       "      <th>4108</th>\n",
       "      <td>I need some used scanners.  I'm limiting my selection to HP models\\nwith document feeders.  I think this means the ScanJet Plus and the\\nScanJet IIc.\\n\\nso...if you have one of these and want to sell it, please tell me.\\n\\n--kyler</td>\n",
       "      <td>6</td>\n",
       "      <td>misc.forsale</td>\n",
       "    </tr>\n",
       "    <tr>\n",
       "      <th>720</th>\n",
       "      <td>Just out of curiosity, what happened to the weekly AL and NL Game\\nScore Reports?  I used to enjoy reading them throughout the summer\\nfor the last two years.\\n\\nInquisitively yours,\\n\\nJoel</td>\n",
       "      <td>9</td>\n",
       "      <td>rec.sport.baseball</td>\n",
       "    </tr>\n",
       "  </tbody>\n",
       "</table>\n",
       "</div>"
      ],
      "text/plain": [
       "                                                                                                                                                                                                                                     content  \\\n",
       "9216  \\n\\nYou appear to be stunningly ignorant of the underlying concept of health\\ninsurance.\\n                                                                                                                                               \n",
       "4108  I need some used scanners.  I'm limiting my selection to HP models\\nwith document feeders.  I think this means the ScanJet Plus and the\\nScanJet IIc.\\n\\nso...if you have one of these and want to sell it, please tell me.\\n\\n--kyler   \n",
       "720   Just out of curiosity, what happened to the weekly AL and NL Game\\nScore Reports?  I used to enjoy reading them throughout the summer\\nfor the last two years.\\n\\nInquisitively yours,\\n\\nJoel                                           \n",
       "\n",
       "      target        target_names  \n",
       "9216  19      talk.religion.misc  \n",
       "4108  6       misc.forsale        \n",
       "720   9       rec.sport.baseball  "
      ]
     },
     "execution_count": 22,
     "metadata": {},
     "output_type": "execute_result"
    }
   ],
   "source": [
    "pd.set_option('display.max_colwidth', 0)\n",
    "df.sample(3)"
   ]
  },
  {
   "cell_type": "code",
   "execution_count": 23,
   "metadata": {},
   "outputs": [
    {
     "name": "stderr",
     "output_type": "stream",
     "text": [
      "C:\\Users\\keith\\.conda\\envs\\U4-S1-NLP\\lib\\site-packages\\ipykernel\\ipkernel.py:287: DeprecationWarning: `should_run_async` will not call `transform_cell` automatically in the future. Please pass the result to `transformed_cell` argument and any exception that happen during thetransform in `preprocessing_exc_tuple` in IPython 7.17 and above.\n",
      "  and should_run_async(code)\n"
     ]
    },
    {
     "data": {
      "text/plain": [
       "'The apple has fallen from the tree.'"
      ]
     },
     "execution_count": 23,
     "metadata": {},
     "output_type": "execute_result"
    }
   ],
   "source": [
    "' '.join(\"  The apple has         fallen from the tree.  \".split())"
   ]
  },
  {
   "cell_type": "code",
   "execution_count": 24,
   "metadata": {
    "colab": {},
    "colab_type": "code",
    "id": "na2bkOcFGter"
   },
   "outputs": [
    {
     "name": "stderr",
     "output_type": "stream",
     "text": [
      "C:\\Users\\keith\\.conda\\envs\\U4-S1-NLP\\lib\\site-packages\\ipykernel\\ipkernel.py:287: DeprecationWarning: `should_run_async` will not call `transform_cell` automatically in the future. Please pass the result to `transformed_cell` argument and any exception that happen during thetransform in `preprocessing_exc_tuple` in IPython 7.17 and above.\n",
      "  and should_run_async(code)\n",
      "<>:5: DeprecationWarning: invalid escape sequence \\s\n",
      "<>:8: DeprecationWarning: invalid escape sequence \\S\n",
      "<>:5: DeprecationWarning: invalid escape sequence \\s\n",
      "<>:8: DeprecationWarning: invalid escape sequence \\S\n",
      "<>:5: DeprecationWarning: invalid escape sequence \\s\n",
      "<>:8: DeprecationWarning: invalid escape sequence \\S\n",
      "<ipython-input-24-ef192abb48ae>:5: DeprecationWarning: invalid escape sequence \\s\n",
      "  df['clean_text'] = df['content'].apply(lambda x: re.sub('\\s+', ' ', x))\n",
      "<ipython-input-24-ef192abb48ae>:8: DeprecationWarning: invalid escape sequence \\S\n",
      "  df['clean_text'] = df['clean_text'].apply(lambda x: re.sub('From: \\S+@\\S+', '', x))\n"
     ]
    }
   ],
   "source": [
    "# For reference on regex: https://docs.python.org/3/library/re.html\n",
    "# From 'content' column: \n",
    "\n",
    "# 1. Remove new line characters\n",
    "df['clean_text'] = df['content'].apply(lambda x: re.sub('\\s+', ' ', x))\n",
    "\n",
    "# 2. Remove Emails\n",
    "df['clean_text'] = df['clean_text'].apply(lambda x: re.sub('From: \\S+@\\S+', '', x))\n",
    "\n",
    "# 3. Remove non-alphanumeric characters\n",
    "df['clean_text'] = df['clean_text'].apply(lambda x: re.sub('[^a-zA-Z]', ' ', x))\n",
    "\n",
    "# 4. Remove extra whitespace \n",
    "df['clean_text'] = df['clean_text'].apply(lambda x: ' '.join(x.split()))"
   ]
  },
  {
   "cell_type": "code",
   "execution_count": 25,
   "metadata": {
    "colab": {},
    "colab_type": "code",
    "id": "2prKILFo3Lzg"
   },
   "outputs": [
    {
     "name": "stderr",
     "output_type": "stream",
     "text": [
      "C:\\Users\\keith\\.conda\\envs\\U4-S1-NLP\\lib\\site-packages\\ipykernel\\ipkernel.py:287: DeprecationWarning: `should_run_async` will not call `transform_cell` automatically in the future. Please pass the result to `transformed_cell` argument and any exception that happen during thetransform in `preprocessing_exc_tuple` in IPython 7.17 and above.\n",
      "  and should_run_async(code)\n"
     ]
    },
    {
     "data": {
      "text/html": [
       "<div>\n",
       "<style scoped>\n",
       "    .dataframe tbody tr th:only-of-type {\n",
       "        vertical-align: middle;\n",
       "    }\n",
       "\n",
       "    .dataframe tbody tr th {\n",
       "        vertical-align: top;\n",
       "    }\n",
       "\n",
       "    .dataframe thead th {\n",
       "        text-align: right;\n",
       "    }\n",
       "</style>\n",
       "<table border=\"1\" class=\"dataframe\">\n",
       "  <thead>\n",
       "    <tr style=\"text-align: right;\">\n",
       "      <th></th>\n",
       "      <th>content</th>\n",
       "      <th>target</th>\n",
       "      <th>target_names</th>\n",
       "      <th>clean_text</th>\n",
       "    </tr>\n",
       "  </thead>\n",
       "  <tbody>\n",
       "    <tr>\n",
       "      <th>9447</th>\n",
       "      <td>\\n\\nThere were many injustices in the middle ages.  And this is truely sad.\\nI would hate to see a day when churches put people to death or torchured\\nthem for practicing homosexuality, or any other crime.  The church is not\\ncalled to take over the governments of the world.  It may be that homosexuals\\ntreated cruelly today, but that does not mean that we should teach \\nChristians to practice homosexual immorality.  Do you think that we should\\nalso teach Christians to practice divination and channelling because\\nthe witches in the middle ages were persecuted.\\n\\n\\n\\nAnd you accuse me of judging?  When did you look into my heart and see\\nif I have love.  I have been writing that we should not teach Christians\\nto practice homosexual immorality, and you pretend to have divine knowledge\\nto look into my heart.  I can't say that I love homosexuals as I should-\\nI can't say that I love my neighbor as I should either.  I don't know\\nvery many homosexuals as it is.  \\n\\nBut Jesus loves homosexuals, just as He loves everyone else.  If His love\\nwere conditional, I not know Him at all.  Yes.  We should show love to \\nhomosexuals, but it is not love to encourage brothers in the church to \\nstumble and continue in their sin.  That is a very damaging and dangerous \\nthing.\\n\\n\\nThat is slander.   I could just as easily say  that NAMBLA has been able\\nto implement legislation to make child molesting easier because of\\nthe tearing down of societies morality due to people accepting homosexuality\\nas normal, and that this is what you are embracing.  I do believe\\nthat homosexual sex is immoral, that does not mean I endorse using violence\\nagainst them.  There is a problem of hatred in the church.  But there\\nis also the problem of what has been called \"unsanctified mercy.\"\\nMany in the conservative churches have seen the moral breakdown in \\nthis country and the storm on the horizon, and have gotten militant in \\nthe flesh.  This is truely sad.  Yet others in other churches have \\nembraced immorality in society, and have pointed to the carnality in the\\nconservative churches to justify their actions.  \\n\\n\\nCertainly we should not use a bullwhip to drive people from Jesus.\\nBut we shouldn't water down the gospel to draw people in.  Jesus didn't\\ngo out of His way to show only what might be considered positive aspects\\nto draw people in.  He told one man to sell all He had.  He told\\nanother not to say good bye to His family.  His words were hard at times.\\nWe should present people with the cost of the tower before we allow them\\nto begin construction.  many people have already been innoculated to the\\ngospel.\\n\\nLink Hudson.\\n\\n\\n</td>\n",
       "      <td>19</td>\n",
       "      <td>talk.religion.misc</td>\n",
       "      <td>There were many injustices in the middle ages And this is truely sad I would hate to see a day when churches put people to death or torchured them for practicing homosexuality or any other crime The church is not called to take over the governments of the world It may be that homosexuals treated cruelly today but that does not mean that we should teach Christians to practice homosexual immorality Do you think that we should also teach Christians to practice divination and channelling because the witches in the middle ages were persecuted And you accuse me of judging When did you look into my heart and see if I have love I have been writing that we should not teach Christians to practice homosexual immorality and you pretend to have divine knowledge to look into my heart I can t say that I love homosexuals as I should I can t say that I love my neighbor as I should either I don t know very many homosexuals as it is But Jesus loves homosexuals just as He loves everyone else If His love were conditional I not know Him at all Yes We should show love to homosexuals but it is not love to encourage brothers in the church to stumble and continue in their sin That is a very damaging and dangerous thing That is slander I could just as easily say that NAMBLA has been able to implement legislation to make child molesting easier because of the tearing down of societies morality due to people accepting homosexuality as normal and that this is what you are embracing I do believe that homosexual sex is immoral that does not mean I endorse using violence against them There is a problem of hatred in the church But there is also the problem of what has been called unsanctified mercy Many in the conservative churches have seen the moral breakdown in this country and the storm on the horizon and have gotten militant in the flesh This is truely sad Yet others in other churches have embraced immorality in society and have pointed to the carnality in the conservative churches to justify their actions Certainly we should not use a bullwhip to drive people from Jesus But we shouldn t water down the gospel to draw people in Jesus didn t go out of His way to show only what might be considered positive aspects to draw people in He told one man to sell all He had He told another not to say good bye to His family His words were hard at times We should present people with the cost of the tower before we allow them to begin construction many people have already been innoculated to the gospel Link Hudson</td>\n",
       "    </tr>\n",
       "    <tr>\n",
       "      <th>7393</th>\n",
       "      <td>Coming from a long line of \"hot tempered\" people, I know temper when I see\\nit.  One of the tell tale signs/fruits that give non-christians away - is\\nwhen their net replies are acrid, angry and sarcastic.  \\n\\nWe in the net village do have a laugh or two when professed, born again\\nchristians verbally attack people who might otherwise have been won to\\nchristianity and had originally joined the discussions because they were\\n\"spiritually hungry.\"  Instead of answering questions with sweetness and\\nsincerity, these chrisitan net-warriors, \"flame\" the queries. \\n\\nYou don't need any enemies.  You already do yourselves the greatest harm.</td>\n",
       "      <td>15</td>\n",
       "      <td>soc.religion.christian</td>\n",
       "      <td>Coming from a long line of hot tempered people I know temper when I see it One of the tell tale signs fruits that give non christians away is when their net replies are acrid angry and sarcastic We in the net village do have a laugh or two when professed born again christians verbally attack people who might otherwise have been won to christianity and had originally joined the discussions because they were spiritually hungry Instead of answering questions with sweetness and sincerity these chrisitan net warriors flame the queries You don t need any enemies You already do yourselves the greatest harm</td>\n",
       "    </tr>\n",
       "    <tr>\n",
       "      <th>11058</th>\n",
       "      <td></td>\n",
       "      <td>5</td>\n",
       "      <td>comp.windows.x</td>\n",
       "      <td></td>\n",
       "    </tr>\n",
       "  </tbody>\n",
       "</table>\n",
       "</div>"
      ],
      "text/plain": [
       "                                                                                                                                                                                                                                                                                                                                                                                                                                                                                                                                                                                                                                                                                                                                                                                                                                                                                                                                                                                                                                                                                                                                                                                                                                                                                                                                                                                                                                                                                                                                                                                                                                                                                                                                                                                                                                                                                                                                                                                                                                                                                                                                                                                                                                                                                                                                                                                                                                                                                                                                                                                                                                                                                                                                                                        content  \\\n",
       "9447   \\n\\nThere were many injustices in the middle ages.  And this is truely sad.\\nI would hate to see a day when churches put people to death or torchured\\nthem for practicing homosexuality, or any other crime.  The church is not\\ncalled to take over the governments of the world.  It may be that homosexuals\\ntreated cruelly today, but that does not mean that we should teach \\nChristians to practice homosexual immorality.  Do you think that we should\\nalso teach Christians to practice divination and channelling because\\nthe witches in the middle ages were persecuted.\\n\\n\\n\\nAnd you accuse me of judging?  When did you look into my heart and see\\nif I have love.  I have been writing that we should not teach Christians\\nto practice homosexual immorality, and you pretend to have divine knowledge\\nto look into my heart.  I can't say that I love homosexuals as I should-\\nI can't say that I love my neighbor as I should either.  I don't know\\nvery many homosexuals as it is.  \\n\\nBut Jesus loves homosexuals, just as He loves everyone else.  If His love\\nwere conditional, I not know Him at all.  Yes.  We should show love to \\nhomosexuals, but it is not love to encourage brothers in the church to \\nstumble and continue in their sin.  That is a very damaging and dangerous \\nthing.\\n\\n\\nThat is slander.   I could just as easily say  that NAMBLA has been able\\nto implement legislation to make child molesting easier because of\\nthe tearing down of societies morality due to people accepting homosexuality\\nas normal, and that this is what you are embracing.  I do believe\\nthat homosexual sex is immoral, that does not mean I endorse using violence\\nagainst them.  There is a problem of hatred in the church.  But there\\nis also the problem of what has been called \"unsanctified mercy.\"\\nMany in the conservative churches have seen the moral breakdown in \\nthis country and the storm on the horizon, and have gotten militant in \\nthe flesh.  This is truely sad.  Yet others in other churches have \\nembraced immorality in society, and have pointed to the carnality in the\\nconservative churches to justify their actions.  \\n\\n\\nCertainly we should not use a bullwhip to drive people from Jesus.\\nBut we shouldn't water down the gospel to draw people in.  Jesus didn't\\ngo out of His way to show only what might be considered positive aspects\\nto draw people in.  He told one man to sell all He had.  He told\\nanother not to say good bye to His family.  His words were hard at times.\\nWe should present people with the cost of the tower before we allow them\\nto begin construction.  many people have already been innoculated to the\\ngospel.\\n\\nLink Hudson.\\n\\n\\n   \n",
       "7393   Coming from a long line of \"hot tempered\" people, I know temper when I see\\nit.  One of the tell tale signs/fruits that give non-christians away - is\\nwhen their net replies are acrid, angry and sarcastic.  \\n\\nWe in the net village do have a laugh or two when professed, born again\\nchristians verbally attack people who might otherwise have been won to\\nchristianity and had originally joined the discussions because they were\\n\"spiritually hungry.\"  Instead of answering questions with sweetness and\\nsincerity, these chrisitan net-warriors, \"flame\" the queries. \\n\\nYou don't need any enemies.  You already do yourselves the greatest harm.                                                                                                                                                                                                                                                                                                                                                                                                                                                                                                                                                                                                                                                                                                                                                                                                                                                                                                                                                                                                                                                                                                                                                                                                                                                                                                                                                                                                                                                                                                                                                                                                                                                                                                                                                                                                                                                                                                                                                                                                                                                                                                        \n",
       "11058                                                                                                                                                                                                                                                                                                                                                                                                                                                                                                                                                                                                                                                                                                                                                                                                                                                                                                                                                                                                                                                                                                                                                                                                                                                                                                                                                                                                                                                                                                                                                                                                                                                                                                                                                                                                                                                                                                                                                                                                                                                                                                                                                                                                                                                                                                                                                                                                                                                                                                                                                                                                                                                                                                                                                                             \n",
       "\n",
       "       target            target_names  \\\n",
       "9447   19      talk.religion.misc       \n",
       "7393   15      soc.religion.christian   \n",
       "11058  5       comp.windows.x           \n",
       "\n",
       "                                                                                                                                                                                                                                                                                                                                                                                                                                                                                                                                                                                                                                                                                                                                                                                                                                                                                                                                                                                                                                                                                                                                                                                                                                                                                                                                                                                                                                                                                                                                                                                                                                                                                                                                                                                                                                                                                                                                                                                                                                                                                                                                                                                                                                                                                                                                                                                                                                                                                                                                                                                                                clean_text  \n",
       "9447   There were many injustices in the middle ages And this is truely sad I would hate to see a day when churches put people to death or torchured them for practicing homosexuality or any other crime The church is not called to take over the governments of the world It may be that homosexuals treated cruelly today but that does not mean that we should teach Christians to practice homosexual immorality Do you think that we should also teach Christians to practice divination and channelling because the witches in the middle ages were persecuted And you accuse me of judging When did you look into my heart and see if I have love I have been writing that we should not teach Christians to practice homosexual immorality and you pretend to have divine knowledge to look into my heart I can t say that I love homosexuals as I should I can t say that I love my neighbor as I should either I don t know very many homosexuals as it is But Jesus loves homosexuals just as He loves everyone else If His love were conditional I not know Him at all Yes We should show love to homosexuals but it is not love to encourage brothers in the church to stumble and continue in their sin That is a very damaging and dangerous thing That is slander I could just as easily say that NAMBLA has been able to implement legislation to make child molesting easier because of the tearing down of societies morality due to people accepting homosexuality as normal and that this is what you are embracing I do believe that homosexual sex is immoral that does not mean I endorse using violence against them There is a problem of hatred in the church But there is also the problem of what has been called unsanctified mercy Many in the conservative churches have seen the moral breakdown in this country and the storm on the horizon and have gotten militant in the flesh This is truely sad Yet others in other churches have embraced immorality in society and have pointed to the carnality in the conservative churches to justify their actions Certainly we should not use a bullwhip to drive people from Jesus But we shouldn t water down the gospel to draw people in Jesus didn t go out of His way to show only what might be considered positive aspects to draw people in He told one man to sell all He had He told another not to say good bye to His family His words were hard at times We should present people with the cost of the tower before we allow them to begin construction many people have already been innoculated to the gospel Link Hudson  \n",
       "7393   Coming from a long line of hot tempered people I know temper when I see it One of the tell tale signs fruits that give non christians away is when their net replies are acrid angry and sarcastic We in the net village do have a laugh or two when professed born again christians verbally attack people who might otherwise have been won to christianity and had originally joined the discussions because they were spiritually hungry Instead of answering questions with sweetness and sincerity these chrisitan net warriors flame the queries You don t need any enemies You already do yourselves the greatest harm                                                                                                                                                                                                                                                                                                                                                                                                                                                                                                                                                                                                                                                                                                                                                                                                                                                                                                                                                                                                                                                                                                                                                                                                                                                                                                                                                                                                                                                                                                                                                                                                                                                                                                                                                                                                                                                                                                                                                                                       \n",
       "11058                                                                                                                                                                                                                                                                                                                                                                                                                                                                                                                                                                                                                                                                                                                                                                                                                                                                                                                                                                                                                                                                                                                                                                                                                                                                                                                                                                                                                                                                                                                                                                                                                                                                                                                                                                                                                                                                                                                                                                                                                                                                                                                                                                                                                                                                                                                                                                                                                                                                                                                                                                                                                       "
      ]
     },
     "execution_count": 25,
     "metadata": {},
     "output_type": "execute_result"
    }
   ],
   "source": [
    "df.sample(3)"
   ]
  },
  {
   "cell_type": "code",
   "execution_count": 26,
   "metadata": {
    "colab": {},
    "colab_type": "code",
    "id": "kSW10Cb33Lzk"
   },
   "outputs": [
    {
     "name": "stderr",
     "output_type": "stream",
     "text": [
      "C:\\Users\\keith\\.conda\\envs\\U4-S1-NLP\\lib\\site-packages\\ipykernel\\ipkernel.py:287: DeprecationWarning: `should_run_async` will not call `transform_cell` automatically in the future. Please pass the result to `transformed_cell` argument and any exception that happen during thetransform in `preprocessing_exc_tuple` in IPython 7.17 and above.\n",
      "  and should_run_async(code)\n"
     ]
    }
   ],
   "source": [
    "nlp = spacy.load(\"en_core_web_lg\")"
   ]
  },
  {
   "cell_type": "code",
   "execution_count": 27,
   "metadata": {
    "colab": {},
    "colab_type": "code",
    "id": "pkgfv9tc3Lzi"
   },
   "outputs": [
    {
     "name": "stderr",
     "output_type": "stream",
     "text": [
      "C:\\Users\\keith\\.conda\\envs\\U4-S1-NLP\\lib\\site-packages\\ipykernel\\ipkernel.py:287: DeprecationWarning: `should_run_async` will not call `transform_cell` automatically in the future. Please pass the result to `transformed_cell` argument and any exception that happen during thetransform in `preprocessing_exc_tuple` in IPython 7.17 and above.\n",
      "  and should_run_async(code)\n"
     ]
    }
   ],
   "source": [
    "# Leverage tqdm for progress_apply\n",
    "from tqdm import tqdm\n",
    "tqdm.pandas()\n",
    "\n",
    "# If you're on macOS, Linux, or python session executed from Windows Subsystem for Linux (WSL)\n",
    "# conda activate U4-S1-NLP\n",
    "# pip install pandarallel\n",
    "#\n",
    "# from pandarallel import pandarallel\n",
    "# pandarallel.initialize(progress_bar=True)\n",
    "#\n",
    "# df['lemmas'] = df['content'].parallel_apply(get_lemmas)\n",
    "#\n",
    "# Ref: https://github.com/nalepae/pandarallel"
   ]
  },
  {
   "cell_type": "code",
   "execution_count": 28,
   "metadata": {
    "colab": {},
    "colab_type": "code",
    "id": "6EBPQXqEKE9P"
   },
   "outputs": [
    {
     "name": "stderr",
     "output_type": "stream",
     "text": [
      "C:\\Users\\keith\\.conda\\envs\\U4-S1-NLP\\lib\\site-packages\\ipykernel\\ipkernel.py:287: DeprecationWarning: `should_run_async` will not call `transform_cell` automatically in the future. Please pass the result to `transformed_cell` argument and any exception that happen during thetransform in `preprocessing_exc_tuple` in IPython 7.17 and above.\n",
      "  and should_run_async(code)\n",
      "100%|████████████████████████████████████████████████████████████████████████████| 11314/11314 [04:12<00:00, 44.84it/s]\n"
     ]
    }
   ],
   "source": [
    "# Create 'lemmas' column\n",
    "def get_lemmas(x):\n",
    "    lemmas = []\n",
    "    for token in nlp(x):\n",
    "        if (token.is_stop!=True) and (token.is_punct!=True):\n",
    "            lemmas.append(token.lemma_)\n",
    "    return lemmas\n",
    "\n",
    "df['lemmas'] = df['clean_text'].progress_apply(get_lemmas)"
   ]
  },
  {
   "cell_type": "code",
   "execution_count": 29,
   "metadata": {
    "colab": {},
    "colab_type": "code",
    "id": "-yvsyIpvKBlw"
   },
   "outputs": [
    {
     "name": "stderr",
     "output_type": "stream",
     "text": [
      "C:\\Users\\keith\\.conda\\envs\\U4-S1-NLP\\lib\\site-packages\\ipykernel\\ipkernel.py:287: DeprecationWarning: `should_run_async` will not call `transform_cell` automatically in the future. Please pass the result to `transformed_cell` argument and any exception that happen during thetransform in `preprocessing_exc_tuple` in IPython 7.17 and above.\n",
      "  and should_run_async(code)\n"
     ]
    },
    {
     "data": {
      "text/html": [
       "<div>\n",
       "<style scoped>\n",
       "    .dataframe tbody tr th:only-of-type {\n",
       "        vertical-align: middle;\n",
       "    }\n",
       "\n",
       "    .dataframe tbody tr th {\n",
       "        vertical-align: top;\n",
       "    }\n",
       "\n",
       "    .dataframe thead th {\n",
       "        text-align: right;\n",
       "    }\n",
       "</style>\n",
       "<table border=\"1\" class=\"dataframe\">\n",
       "  <thead>\n",
       "    <tr style=\"text-align: right;\">\n",
       "      <th></th>\n",
       "      <th>content</th>\n",
       "      <th>target</th>\n",
       "      <th>target_names</th>\n",
       "      <th>clean_text</th>\n",
       "      <th>lemmas</th>\n",
       "    </tr>\n",
       "  </thead>\n",
       "  <tbody>\n",
       "    <tr>\n",
       "      <th>0</th>\n",
       "      <td>I was wondering if anyone out there could enlighten me on this car I saw\\nthe other day. It was a 2-door sports car, looked to be from the late 60s/\\nearly 70s. It was called a Bricklin. The doors were really small. In addition,\\nthe front bumper was separate from the rest of the body. This is \\nall I know. If anyone can tellme a model name, engine specs, years\\nof production, where this car is made, history, or whatever info you\\nhave on this funky looking car, please e-mail.</td>\n",
       "      <td>7</td>\n",
       "      <td>rec.autos</td>\n",
       "      <td>I was wondering if anyone out there could enlighten me on this car I saw the other day It was a door sports car looked to be from the late s early s It was called a Bricklin The doors were really small In addition the front bumper was separate from the rest of the body This is all I know If anyone can tellme a model name engine specs years of production where this car is made history or whatever info you have on this funky looking car please e mail</td>\n",
       "      <td>[wonder, enlighten, car, see, day, door, sport, car, look, late, s, early, s, call, Bricklin, door, small, addition, bumper, separate, rest, body, know, tellme, model, engine, spec, year, production, car, history, info, funky, look, car, e, mail]</td>\n",
       "    </tr>\n",
       "    <tr>\n",
       "      <th>1</th>\n",
       "      <td>A fair number of brave souls who upgraded their SI clock oscillator have\\nshared their experiences for this poll. Please send a brief message detailing\\nyour experiences with the procedure. Top speed attained, CPU rated speed,\\nadd on cards and adapters, heat sinks, hour of usage per day, floppy disk\\nfunctionality with 800 and 1.4 m floppies are especially requested.\\n\\nI will be summarizing in the next two days, so please add to the network\\nknowledge base if you have done the clock upgrade and haven't answered this\\npoll. Thanks.</td>\n",
       "      <td>4</td>\n",
       "      <td>comp.sys.mac.hardware</td>\n",
       "      <td>A fair number of brave souls who upgraded their SI clock oscillator have shared their experiences for this poll Please send a brief message detailing your experiences with the procedure Top speed attained CPU rated speed add on cards and adapters heat sinks hour of usage per day floppy disk functionality with and m floppies are especially requested I will be summarizing in the next two days so please add to the network knowledge base if you have done the clock upgrade and haven t answered this poll Thanks</td>\n",
       "      <td>[fair, number, brave, soul, upgrade, SI, clock, oscillator, share, experience, poll, send, brief, message, detail, experience, procedure, speed, attain, CPU, rate, speed, add, card, adapter, heat, sink, hour, usage, day, floppy, disk, functionality, m, floppy, especially, request, summarize, day, add, network, knowledge, base, clock, upgrade, haven, t, answer, poll, thank]</td>\n",
       "    </tr>\n",
       "    <tr>\n",
       "      <th>2</th>\n",
       "      <td>well folks, my mac plus finally gave up the ghost this weekend after\\nstarting life as a 512k way back in 1985.  sooo, i'm in the market for a\\nnew machine a bit sooner than i intended to be...\\n\\ni'm looking into picking up a powerbook 160 or maybe 180 and have a bunch\\nof questions that (hopefully) somebody can answer:\\n\\n* does anybody know any dirt on when the next round of powerbook\\nintroductions are expected?  i'd heard the 185c was supposed to make an\\nappearence \"this summer\" but haven't heard anymore on it - and since i\\ndon't have access to macleak, i was wondering if anybody out there had\\nmore info...\\n\\n* has anybody heard rumors about price drops to the powerbook line like the\\nones the duo's just went through recently?\\n\\n* what's the impression of the display on the 180?  i could probably swing\\na 180 if i got the 80Mb disk rather than the 120, but i don't really have\\na feel for how much \"better\" the display is (yea, it looks great in the\\nstore, but is that all \"wow\" or is it really that good?).  could i solicit\\nsome opinions of people who use the 160 and 180 day-to-day on if its worth\\ntaking the disk size and money hit to get the active display?  (i realize\\nthis is a real subjective question, but i've only played around with the\\nmachines in a computer store breifly and figured the opinions of somebody\\nwho actually uses the machine daily might prove helpful).\\n\\n* how well does hellcats perform?  ;)\\n\\nthanks a bunch in advance for any info - if you could email, i'll post a\\nsummary (news reading time is at a premium with finals just around the\\ncorner... :( )\\n--\\nTom Willis  \\  twillis@ecn.purdue.edu    \\    Purdue Electrical Engineering</td>\n",
       "      <td>4</td>\n",
       "      <td>comp.sys.mac.hardware</td>\n",
       "      <td>well folks my mac plus finally gave up the ghost this weekend after starting life as a k way back in sooo i m in the market for a new machine a bit sooner than i intended to be i m looking into picking up a powerbook or maybe and have a bunch of questions that hopefully somebody can answer does anybody know any dirt on when the next round of powerbook introductions are expected i d heard the c was supposed to make an appearence this summer but haven t heard anymore on it and since i don t have access to macleak i was wondering if anybody out there had more info has anybody heard rumors about price drops to the powerbook line like the ones the duo s just went through recently what s the impression of the display on the i could probably swing a if i got the Mb disk rather than the but i don t really have a feel for how much better the display is yea it looks great in the store but is that all wow or is it really that good could i solicit some opinions of people who use the and day to day on if its worth taking the disk size and money hit to get the active display i realize this is a real subjective question but i ve only played around with the machines in a computer store breifly and figured the opinions of somebody who actually uses the machine daily might prove helpful how well does hellcats perform thanks a bunch in advance for any info if you could email i ll post a summary news reading time is at a premium with finals just around the corner Tom Willis twillis ecn purdue edu Purdue Electrical Engineering</td>\n",
       "      <td>[folk, mac, plus, finally, give, ghost, weekend, start, life, k, way, sooo, m, market, new, machine, bit, sooner, intend, m, look, pick, powerbook, maybe, bunch, question, hopefully, somebody, answer, anybody, know, dirt, round, powerbook, introduction, expect, d, hear, c, suppose, appearence, summer, haven, t, hear, anymore, don, t, access, macleak, wonder, anybody, info, anybody, hear, rumor, price, drop, powerbook, line, like, one, duo, s, go, recently, s, impression, display, probably, swing, get, Mb, disk, don, t, feel, well, display, yea, look, great, store, wow, good, solicit, opinion, people, use, day, day, worth, take, disk, size, money, hit, active, display, realize, ...]</td>\n",
       "    </tr>\n",
       "    <tr>\n",
       "      <th>3</th>\n",
       "      <td>\\nDo you have Weitek's address/phone number?  I'd like to get some information\\nabout this chip.\\n</td>\n",
       "      <td>1</td>\n",
       "      <td>comp.graphics</td>\n",
       "      <td>Do you have Weitek s address phone number I d like to get some information about this chip</td>\n",
       "      <td>[Weitek, s, address, phone, number, d, like, information, chip]</td>\n",
       "    </tr>\n",
       "    <tr>\n",
       "      <th>4</th>\n",
       "      <td>From article &lt;C5owCB.n3p@world.std.com&gt;, by tombaker@world.std.com (Tom A Baker):\\n\\n\\nMy understanding is that the 'expected errors' are basically\\nknown bugs in the warning system software - things are checked\\nthat don't have the right values in yet because they aren't\\nset till after launch, and suchlike. Rather than fix the code\\nand possibly introduce new bugs, they just tell the crew\\n'ok, if you see a warning no. 213 before liftoff, ignore it'.</td>\n",
       "      <td>14</td>\n",
       "      <td>sci.space</td>\n",
       "      <td>From article C owCB n p world std com by tombaker world std com Tom A Baker My understanding is that the expected errors are basically known bugs in the warning system software things are checked that don t have the right values in yet because they aren t set till after launch and suchlike Rather than fix the code and possibly introduce new bugs they just tell the crew ok if you see a warning no before liftoff ignore it</td>\n",
       "      <td>[article, C, owCB, n, p, world, std, com, tombaker, world, std, com, Tom, Baker, understanding, expect, error, basically, know, bug, warning, system, software, thing, check, don, t, right, value, aren, t, set, till, launch, suchlike, fix, code, possibly, introduce, new, bug, tell, crew, ok, warning, liftoff, ignore]</td>\n",
       "    </tr>\n",
       "  </tbody>\n",
       "</table>\n",
       "</div>"
      ],
      "text/plain": [
       "                                                                                                                                                                                                                                                                                                                                                                                                                                                                                                                                                                                                                                                                                                                                                                                                                                                                                                                                                                                                                                                                                                                                                                                                                                                                                                                                                                                                                                                                                                                                                                                                                                                                                                                                                       content  \\\n",
       "0  I was wondering if anyone out there could enlighten me on this car I saw\\nthe other day. It was a 2-door sports car, looked to be from the late 60s/\\nearly 70s. It was called a Bricklin. The doors were really small. In addition,\\nthe front bumper was separate from the rest of the body. This is \\nall I know. If anyone can tellme a model name, engine specs, years\\nof production, where this car is made, history, or whatever info you\\nhave on this funky looking car, please e-mail.                                                                                                                                                                                                                                                                                                                                                                                                                                                                                                                                                                                                                                                                                                                                                                                                                                                                                                                                                                                                                                                                                                                                                                                                                                                             \n",
       "1  A fair number of brave souls who upgraded their SI clock oscillator have\\nshared their experiences for this poll. Please send a brief message detailing\\nyour experiences with the procedure. Top speed attained, CPU rated speed,\\nadd on cards and adapters, heat sinks, hour of usage per day, floppy disk\\nfunctionality with 800 and 1.4 m floppies are especially requested.\\n\\nI will be summarizing in the next two days, so please add to the network\\nknowledge base if you have done the clock upgrade and haven't answered this\\npoll. Thanks.                                                                                                                                                                                                                                                                                                                                                                                                                                                                                                                                                                                                                                                                                                                                                                                                                                                                                                                                                                                                                                                                                                                                                                                                    \n",
       "2  well folks, my mac plus finally gave up the ghost this weekend after\\nstarting life as a 512k way back in 1985.  sooo, i'm in the market for a\\nnew machine a bit sooner than i intended to be...\\n\\ni'm looking into picking up a powerbook 160 or maybe 180 and have a bunch\\nof questions that (hopefully) somebody can answer:\\n\\n* does anybody know any dirt on when the next round of powerbook\\nintroductions are expected?  i'd heard the 185c was supposed to make an\\nappearence \"this summer\" but haven't heard anymore on it - and since i\\ndon't have access to macleak, i was wondering if anybody out there had\\nmore info...\\n\\n* has anybody heard rumors about price drops to the powerbook line like the\\nones the duo's just went through recently?\\n\\n* what's the impression of the display on the 180?  i could probably swing\\na 180 if i got the 80Mb disk rather than the 120, but i don't really have\\na feel for how much \"better\" the display is (yea, it looks great in the\\nstore, but is that all \"wow\" or is it really that good?).  could i solicit\\nsome opinions of people who use the 160 and 180 day-to-day on if its worth\\ntaking the disk size and money hit to get the active display?  (i realize\\nthis is a real subjective question, but i've only played around with the\\nmachines in a computer store breifly and figured the opinions of somebody\\nwho actually uses the machine daily might prove helpful).\\n\\n* how well does hellcats perform?  ;)\\n\\nthanks a bunch in advance for any info - if you could email, i'll post a\\nsummary (news reading time is at a premium with finals just around the\\ncorner... :( )\\n--\\nTom Willis  \\  twillis@ecn.purdue.edu    \\    Purdue Electrical Engineering   \n",
       "3  \\nDo you have Weitek's address/phone number?  I'd like to get some information\\nabout this chip.\\n                                                                                                                                                                                                                                                                                                                                                                                                                                                                                                                                                                                                                                                                                                                                                                                                                                                                                                                                                                                                                                                                                                                                                                                                                                                                                                                                                                                                                                                                                                                                                                                                                                                            \n",
       "4  From article <C5owCB.n3p@world.std.com>, by tombaker@world.std.com (Tom A Baker):\\n\\n\\nMy understanding is that the 'expected errors' are basically\\nknown bugs in the warning system software - things are checked\\nthat don't have the right values in yet because they aren't\\nset till after launch, and suchlike. Rather than fix the code\\nand possibly introduce new bugs, they just tell the crew\\n'ok, if you see a warning no. 213 before liftoff, ignore it'.                                                                                                                                                                                                                                                                                                                                                                                                                                                                                                                                                                                                                                                                                                                                                                                                                                                                                                                                                                                                                                                                                                                                                                                                                                                                                      \n",
       "\n",
       "   target           target_names  \\\n",
       "0  7       rec.autos               \n",
       "1  4       comp.sys.mac.hardware   \n",
       "2  4       comp.sys.mac.hardware   \n",
       "3  1       comp.graphics           \n",
       "4  14      sci.space               \n",
       "\n",
       "                                                                                                                                                                                                                                                                                                                                                                                                                                                                                                                                                                                                                                                                                                                                                                                                                                                                                                                                                                                                                                                                                                                                                                                                                                                                                                                                                                                                                                                                                                                                                                                    clean_text  \\\n",
       "0  I was wondering if anyone out there could enlighten me on this car I saw the other day It was a door sports car looked to be from the late s early s It was called a Bricklin The doors were really small In addition the front bumper was separate from the rest of the body This is all I know If anyone can tellme a model name engine specs years of production where this car is made history or whatever info you have on this funky looking car please e mail                                                                                                                                                                                                                                                                                                                                                                                                                                                                                                                                                                                                                                                                                                                                                                                                                                                                                                                                                                                                                                                                                                                          \n",
       "1  A fair number of brave souls who upgraded their SI clock oscillator have shared their experiences for this poll Please send a brief message detailing your experiences with the procedure Top speed attained CPU rated speed add on cards and adapters heat sinks hour of usage per day floppy disk functionality with and m floppies are especially requested I will be summarizing in the next two days so please add to the network knowledge base if you have done the clock upgrade and haven t answered this poll Thanks                                                                                                                                                                                                                                                                                                                                                                                                                                                                                                                                                                                                                                                                                                                                                                                                                                                                                                                                                                                                                                                                \n",
       "2  well folks my mac plus finally gave up the ghost this weekend after starting life as a k way back in sooo i m in the market for a new machine a bit sooner than i intended to be i m looking into picking up a powerbook or maybe and have a bunch of questions that hopefully somebody can answer does anybody know any dirt on when the next round of powerbook introductions are expected i d heard the c was supposed to make an appearence this summer but haven t heard anymore on it and since i don t have access to macleak i was wondering if anybody out there had more info has anybody heard rumors about price drops to the powerbook line like the ones the duo s just went through recently what s the impression of the display on the i could probably swing a if i got the Mb disk rather than the but i don t really have a feel for how much better the display is yea it looks great in the store but is that all wow or is it really that good could i solicit some opinions of people who use the and day to day on if its worth taking the disk size and money hit to get the active display i realize this is a real subjective question but i ve only played around with the machines in a computer store breifly and figured the opinions of somebody who actually uses the machine daily might prove helpful how well does hellcats perform thanks a bunch in advance for any info if you could email i ll post a summary news reading time is at a premium with finals just around the corner Tom Willis twillis ecn purdue edu Purdue Electrical Engineering   \n",
       "3  Do you have Weitek s address phone number I d like to get some information about this chip                                                                                                                                                                                                                                                                                                                                                                                                                                                                                                                                                                                                                                                                                                                                                                                                                                                                                                                                                                                                                                                                                                                                                                                                                                                                                                                                                                                                                                                                                                    \n",
       "4  From article C owCB n p world std com by tombaker world std com Tom A Baker My understanding is that the expected errors are basically known bugs in the warning system software things are checked that don t have the right values in yet because they aren t set till after launch and suchlike Rather than fix the code and possibly introduce new bugs they just tell the crew ok if you see a warning no before liftoff ignore it                                                                                                                                                                                                                                                                                                                                                                                                                                                                                                                                                                                                                                                                                                                                                                                                                                                                                                                                                                                                                                                                                                                                                       \n",
       "\n",
       "                                                                                                                                                                                                                                                                                                                                                                                                                                                                                                                                                                                                                                                                                                               lemmas  \n",
       "0  [wonder, enlighten, car, see, day, door, sport, car, look, late, s, early, s, call, Bricklin, door, small, addition, bumper, separate, rest, body, know, tellme, model, engine, spec, year, production, car, history, info, funky, look, car, e, mail]                                                                                                                                                                                                                                                                                                                                                                                                                                                              \n",
       "1  [fair, number, brave, soul, upgrade, SI, clock, oscillator, share, experience, poll, send, brief, message, detail, experience, procedure, speed, attain, CPU, rate, speed, add, card, adapter, heat, sink, hour, usage, day, floppy, disk, functionality, m, floppy, especially, request, summarize, day, add, network, knowledge, base, clock, upgrade, haven, t, answer, poll, thank]                                                                                                                                                                                                                                                                                                                             \n",
       "2  [folk, mac, plus, finally, give, ghost, weekend, start, life, k, way, sooo, m, market, new, machine, bit, sooner, intend, m, look, pick, powerbook, maybe, bunch, question, hopefully, somebody, answer, anybody, know, dirt, round, powerbook, introduction, expect, d, hear, c, suppose, appearence, summer, haven, t, hear, anymore, don, t, access, macleak, wonder, anybody, info, anybody, hear, rumor, price, drop, powerbook, line, like, one, duo, s, go, recently, s, impression, display, probably, swing, get, Mb, disk, don, t, feel, well, display, yea, look, great, store, wow, good, solicit, opinion, people, use, day, day, worth, take, disk, size, money, hit, active, display, realize, ...]  \n",
       "3  [Weitek, s, address, phone, number, d, like, information, chip]                                                                                                                                                                                                                                                                                                                                                                                                                                                                                                                                                                                                                                                     \n",
       "4  [article, C, owCB, n, p, world, std, com, tombaker, world, std, com, Tom, Baker, understanding, expect, error, basically, know, bug, warning, system, software, thing, check, don, t, right, value, aren, t, set, till, launch, suchlike, fix, code, possibly, introduce, new, bug, tell, crew, ok, warning, liftoff, ignore]                                                                                                                                                                                                                                                                                                                                                                                       "
      ]
     },
     "execution_count": 29,
     "metadata": {},
     "output_type": "execute_result"
    }
   ],
   "source": [
    "df.head()"
   ]
  },
  {
   "cell_type": "markdown",
   "metadata": {
    "colab_type": "text",
    "id": "cPuCuK0z3Lzs"
   },
   "source": [
    "### The two main inputs to the LDA topic model are the dictionary (id2word) and the corpus."
   ]
  },
  {
   "cell_type": "code",
   "execution_count": 30,
   "metadata": {
    "colab": {},
    "colab_type": "code",
    "id": "1klqRpqtJxWc"
   },
   "outputs": [
    {
     "name": "stderr",
     "output_type": "stream",
     "text": [
      "C:\\Users\\keith\\.conda\\envs\\U4-S1-NLP\\lib\\site-packages\\ipykernel\\ipkernel.py:287: DeprecationWarning: `should_run_async` will not call `transform_cell` automatically in the future. Please pass the result to `transformed_cell` argument and any exception that happen during thetransform in `preprocessing_exc_tuple` in IPython 7.17 and above.\n",
      "  and should_run_async(code)\n"
     ]
    }
   ],
   "source": [
    "# Create Dictionary\n",
    "id2word = corpora.Dictionary(df['lemmas'])"
   ]
  },
  {
   "cell_type": "code",
   "execution_count": 34,
   "metadata": {},
   "outputs": [
    {
     "data": {
      "text/plain": [
       "78702"
      ]
     },
     "execution_count": 34,
     "metadata": {},
     "output_type": "execute_result"
    }
   ],
   "source": [
    "# How many words do we have?\n",
    "len(id2word.keys())"
   ]
  },
  {
   "cell_type": "code",
   "execution_count": 35,
   "metadata": {},
   "outputs": [],
   "source": [
    "# Let's remove extreme values from the dataset\n",
    "id2word.filter_extremes(no_below=3, no_above=0.75)"
   ]
  },
  {
   "cell_type": "code",
   "execution_count": 36,
   "metadata": {},
   "outputs": [
    {
     "data": {
      "text/plain": [
       "22810"
      ]
     },
     "execution_count": 36,
     "metadata": {},
     "output_type": "execute_result"
    }
   ],
   "source": [
    "# How many words do we have?\n",
    "len(id2word.keys())"
   ]
  },
  {
   "cell_type": "code",
   "execution_count": 37,
   "metadata": {},
   "outputs": [],
   "source": [
    "# Term Document Frequency\n",
    "corpus = [id2word.doc2bow(text) for text in df['lemmas']]"
   ]
  },
  {
   "cell_type": "code",
   "execution_count": 38,
   "metadata": {
    "colab": {},
    "colab_type": "code",
    "id": "ArZPxcP5LH1J"
   },
   "outputs": [
    {
     "data": {
      "text/plain": [
       "'hear'"
      ]
     },
     "execution_count": 38,
     "metadata": {},
     "output_type": "execute_result"
    }
   ],
   "source": [
    "id2word[109]"
   ]
  },
  {
   "cell_type": "code",
   "execution_count": 39,
   "metadata": {
    "colab": {},
    "colab_type": "code",
    "id": "_IIBnI2e3Lzw"
   },
   "outputs": [
    {
     "data": {
      "text/plain": [
       "'Of course The term must be rigidly defined in any bill I doubt she uses this term for that You are using a quote allegedly from her can you back it up I read the article as presenting first an argument about weapons of mass destruction as commonly understood and then switching to other topics The first point evidently was to show that not all weapons should be allowed and then the later analysis was given this understanding to consider another class'"
      ]
     },
     "execution_count": 39,
     "metadata": {},
     "output_type": "execute_result"
    }
   ],
   "source": [
    "df.iloc[5]['clean_text']"
   ]
  },
  {
   "cell_type": "code",
   "execution_count": 40,
   "metadata": {
    "colab": {},
    "colab_type": "code",
    "id": "bGFG9E2j3Lzz"
   },
   "outputs": [
    {
     "data": {
      "text/plain": [
       "[(105, 1),\n",
       " (162, 1),\n",
       " (179, 1),\n",
       " (205, 1),\n",
       " (209, 1),\n",
       " (210, 1),\n",
       " (211, 1),\n",
       " (212, 1),\n",
       " (213, 1),\n",
       " (214, 1),\n",
       " (215, 1),\n",
       " (216, 1),\n",
       " (217, 1),\n",
       " (218, 1),\n",
       " (219, 1),\n",
       " (220, 1),\n",
       " (221, 1),\n",
       " (222, 1),\n",
       " (223, 1),\n",
       " (224, 1),\n",
       " (225, 1),\n",
       " (226, 1),\n",
       " (227, 1),\n",
       " (228, 1),\n",
       " (229, 2),\n",
       " (230, 1),\n",
       " (231, 1),\n",
       " (232, 2)]"
      ]
     },
     "execution_count": 40,
     "metadata": {},
     "output_type": "execute_result"
    }
   ],
   "source": [
    "corpus[5]"
   ]
  },
  {
   "cell_type": "code",
   "execution_count": 41,
   "metadata": {
    "colab": {},
    "colab_type": "code",
    "id": "TB6wox963Lz2"
   },
   "outputs": [
    {
     "data": {
      "text/plain": [
       "'give'"
      ]
     },
     "execution_count": 41,
     "metadata": {},
     "output_type": "execute_result"
    }
   ],
   "source": [
    "id2word[105]"
   ]
  },
  {
   "cell_type": "code",
   "execution_count": 42,
   "metadata": {
    "colab": {},
    "colab_type": "code",
    "id": "kk3g75XX3Lz4"
   },
   "outputs": [
    {
     "data": {
      "text/plain": [
       "'weapon'"
      ]
     },
     "execution_count": 42,
     "metadata": {},
     "output_type": "execute_result"
    }
   ],
   "source": [
    "id2word[232]"
   ]
  },
  {
   "cell_type": "code",
   "execution_count": 43,
   "metadata": {
    "colab": {},
    "colab_type": "code",
    "id": "6K2jWxHJLOzK"
   },
   "outputs": [
    {
     "data": {
      "text/plain": [
       "[('give', 1),\n",
       " ('use', 1),\n",
       " ('article', 1),\n",
       " ('understanding', 1),\n",
       " ('allegedly', 1),\n",
       " ('allow', 1),\n",
       " ('analysis', 1),\n",
       " ('argument', 1),\n",
       " ('bill', 1),\n",
       " ('class', 1),\n",
       " ('commonly', 1),\n",
       " ('consider', 1),\n",
       " ('course', 1),\n",
       " ('define', 1),\n",
       " ('destruction', 1),\n",
       " ('doubt', 1),\n",
       " ('evidently', 1),\n",
       " ('later', 1),\n",
       " ('mass', 1),\n",
       " ('point', 1),\n",
       " ('present', 1),\n",
       " ('quote', 1),\n",
       " ('read', 1),\n",
       " ('switch', 1),\n",
       " ('term', 2),\n",
       " ('topic', 1),\n",
       " ('understand', 1),\n",
       " ('weapon', 2)]"
      ]
     },
     "execution_count": 43,
     "metadata": {},
     "output_type": "execute_result"
    }
   ],
   "source": [
    "# Human readable format of corpus (term-frequency)\n",
    "[(id2word[word_id], word_count) for word_id, word_count in corpus[5]]"
   ]
  },
  {
   "cell_type": "markdown",
   "metadata": {
    "colab_type": "text",
    "id": "le-XzI923Lz8"
   },
   "source": [
    "# Part 2: Estimate a LDA Model with Gensim"
   ]
  },
  {
   "cell_type": "markdown",
   "metadata": {
    "colab_type": "text",
    "id": "AlNG4bSI3Lz8"
   },
   "source": [
    " ### Train an LDA model"
   ]
  },
  {
   "cell_type": "code",
   "execution_count": 44,
   "metadata": {
    "colab": {},
    "colab_type": "code",
    "id": "Fasvjf0VLQ2a"
   },
   "outputs": [
    {
     "name": "stdout",
     "output_type": "stream",
     "text": [
      "Wall time: 1min 19s\n"
     ]
    }
   ],
   "source": [
    "%%time\n",
    "lda_model = gensim.models.ldamodel.LdaModel(corpus=corpus,\n",
    "                                            id2word=id2word,\n",
    "                                            num_topics=20, \n",
    "                                            chunksize=100,\n",
    "                                            passes=10,\n",
    "                                            per_word_topics=True)\n",
    "\n",
    "# https://radimrehurek.com/gensim/models/ldamodel.html"
   ]
  },
  {
   "cell_type": "code",
   "execution_count": 45,
   "metadata": {
    "colab": {},
    "colab_type": "code",
    "id": "49CabmIj3Lz_"
   },
   "outputs": [],
   "source": [
    "lda_model.save('lda_model.model')"
   ]
  },
  {
   "cell_type": "raw",
   "metadata": {
    "colab": {},
    "colab_type": "code",
    "id": "XDgUshRE3L0C"
   },
   "source": [
    "%%time\n",
    "lda_multicore = gensim.models.ldamulticore.LdaMulticore(corpus=corpus,\n",
    "                                                        id2word=id2word,\n",
    "                                                        num_topics=20, \n",
    "                                                        chunksize=100,\n",
    "                                                        passes=10,\n",
    "                                                        per_word_topics=True,\n",
    "                                                        workers=12)\n",
    "\n",
    "# https://radimrehurek.com/gensim/models/ldamulticore.html"
   ]
  },
  {
   "cell_type": "raw",
   "metadata": {
    "colab": {},
    "colab_type": "code",
    "id": "Rgb9AaPq3L0E"
   },
   "source": [
    "lda_multicore.save('lda_multicore.model')"
   ]
  },
  {
   "cell_type": "code",
   "execution_count": 46,
   "metadata": {
    "colab": {},
    "colab_type": "code",
    "id": "VLxvJPoK3L0G"
   },
   "outputs": [],
   "source": [
    "from gensim import models\n",
    "lda =  models.LdaModel.load('lda_model.model')"
   ]
  },
  {
   "cell_type": "markdown",
   "metadata": {
    "colab_type": "text",
    "id": "uDH3tzx13L0I"
   },
   "source": [
    "### View the topics in LDA model"
   ]
  },
  {
   "cell_type": "code",
   "execution_count": 47,
   "metadata": {
    "colab": {},
    "colab_type": "code",
    "id": "JawR8yscLVNS"
   },
   "outputs": [
    {
     "name": "stdout",
     "output_type": "stream",
     "text": [
      "[(0,\n",
      "  '0.247*\"n\" + 0.180*\"y\" + 0.029*\"floppy\" + 0.024*\"sink\" + 0.023*\"doctor\" + '\n",
      "  '0.019*\"step\" + 0.016*\"status\" + 0.015*\"Ron\" + 0.015*\"routine\" + '\n",
      "  '0.013*\"cap\"'),\n",
      " (1,\n",
      "  '0.210*\"p\" + 0.168*\"r\" + 0.109*\"B\" + 0.093*\"z\" + 0.086*\"d\" + 0.078*\"e\" + '\n",
      "  '0.075*\"b\" + 0.035*\"c\" + 0.026*\"m\" + 0.015*\"notice\"'),\n",
      " (2,\n",
      "  '0.043*\"Israel\" + 0.018*\"year\" + 0.017*\"April\" + 0.016*\"press\" + '\n",
      "  '0.014*\"authority\" + 0.013*\"New\" + 0.013*\"young\" + 0.012*\"National\" + '\n",
      "  '0.011*\"community\" + 0.011*\"United\"'),\n",
      " (3,\n",
      "  '0.039*\"drive\" + 0.028*\"use\" + 0.025*\"card\" + 0.024*\"program\" + '\n",
      "  '0.023*\"system\" + 0.020*\"run\" + 0.017*\"cpu\" + 0.017*\"software\" + 0.016*\"Mac\" '\n",
      "  '+ 0.014*\"machine\"'),\n",
      " (4,\n",
      "  '0.149*\"God\" + 0.037*\"man\" + 0.035*\"explain\" + 0.034*\"believe\" + '\n",
      "  '0.033*\"exist\" + 0.029*\"book\" + 0.025*\"pin\" + 0.023*\"accept\" + '\n",
      "  '0.023*\"reality\" + 0.019*\"love\"'),\n",
      " (5,\n",
      "  '0.599*\"ax\" + 0.074*\"Q\" + 0.045*\"f\" + 0.045*\"F\" + 0.035*\"v\" + 0.020*\"q\" + '\n",
      "  '0.015*\"H\" + 0.013*\"t\" + 0.011*\"family\" + 0.010*\"p\"'),\n",
      " (6,\n",
      "  '0.031*\"people\" + 0.024*\"s\" + 0.023*\"evidence\" + 0.016*\"t\" + 0.015*\"reason\" '\n",
      "  '+ 0.014*\"sense\" + 0.013*\"right\" + 0.013*\"law\" + 0.013*\"say\" + '\n",
      "  '0.012*\"government\"'),\n",
      " (7,\n",
      "  '0.490*\"x\" + 0.137*\"X\" + 0.055*\"entry\" + 0.046*\"L\" + 0.025*\"c\" + '\n",
      "  '0.021*\"telnet\" + 0.016*\"session\" + 0.014*\"r\" + 0.012*\"SS\" + '\n",
      "  '0.011*\"greatly\"'),\n",
      " (8,\n",
      "  '0.026*\"space\" + 0.013*\"contain\" + 0.013*\"high\" + 0.012*\"field\" + '\n",
      "  '0.011*\"report\" + 0.011*\"launch\" + 0.011*\"black\" + 0.011*\"Space\" + '\n",
      "  '0.011*\"replace\" + 0.010*\"power\"'),\n",
      " (9,\n",
      "  '0.034*\"physical\" + 0.034*\"say\" + 0.026*\"go\" + 0.023*\"day\" + 0.023*\"home\" + '\n",
      "  '0.022*\"come\" + 0.022*\"st\" + 0.021*\"child\" + 0.015*\"ftp\" + 0.015*\"man\"'),\n",
      " (10,\n",
      "  '0.051*\"s\" + 0.046*\"game\" + 0.043*\"team\" + 0.037*\"year\" + 0.036*\"play\" + '\n",
      "  '0.032*\"win\" + 0.018*\"speak\" + 0.017*\"oh\" + 0.015*\"trade\" + 0.015*\"good\"'),\n",
      " (11,\n",
      "  '0.089*\"W\" + 0.080*\"S\" + 0.077*\"M\" + 0.064*\"t\" + 0.063*\"m\" + 0.057*\"o\" + '\n",
      "  '0.052*\"c\" + 0.051*\"v\" + 0.045*\"K\" + 0.044*\"h\"'),\n",
      " (12,\n",
      "  '0.045*\"key\" + 0.023*\"use\" + 0.020*\"number\" + 0.017*\"chip\" + 0.015*\"public\" '\n",
      "  '+ 0.015*\"message\" + 0.014*\"system\" + 0.013*\"new\" + 0.013*\"net\" + '\n",
      "  '0.012*\"vs\"'),\n",
      " (13,\n",
      "  '0.030*\"Jesus\" + 0.022*\"Bible\" + 0.019*\"Christians\" + 0.016*\"die\" + '\n",
      "  '0.016*\"religion\" + 0.016*\"question\" + 0.014*\"claim\" + 0.013*\"point\" + '\n",
      "  '0.011*\"risk\" + 0.011*\"child\"'),\n",
      " (14,\n",
      "  '0.032*\"soldier\" + 0.032*\"village\" + 0.020*\"attack\" + 0.020*\"war\" + '\n",
      "  '0.020*\"Jews\" + 0.019*\"kill\" + 0.017*\"civilian\" + 0.017*\"Armenians\" + '\n",
      "  '0.016*\"turkish\" + 0.015*\"population\"'),\n",
      " (15,\n",
      "  '0.162*\"David\" + 0.071*\"wing\" + 0.052*\"expand\" + 0.038*\"blue\" + '\n",
      "  '0.030*\"scope\" + 0.028*\"wow\" + 0.010*\"ATF\" + 0.003*\"Student\" + '\n",
      "  '0.003*\"Firearms\" + 0.002*\"Drug\"'),\n",
      " (16,\n",
      "  '0.497*\"g\" + 0.088*\"patient\" + 0.053*\"season\" + 0.028*\"disease\" + '\n",
      "  '0.026*\"printer\" + 0.021*\"Toronto\" + 0.020*\"trial\" + 0.015*\"PS\" + 0.012*\"BJ\" '\n",
      "  '+ 0.012*\"domain\"'),\n",
      " (17,\n",
      "  '0.069*\"edu\" + 0.065*\"file\" + 0.052*\"com\" + 0.032*\"list\" + 0.028*\"send\" + '\n",
      "  '0.026*\"G\" + 0.024*\"copy\" + 0.024*\"information\" + 0.024*\"image\" + '\n",
      "  '0.023*\"include\"'),\n",
      " (18,\n",
      "  '0.054*\"driver\" + 0.048*\"window\" + 0.044*\"discussion\" + 0.036*\"video\" + '\n",
      "  '0.036*\"screen\" + 0.030*\"publish\" + 0.030*\"hi\" + 0.023*\"engine\" + '\n",
      "  '0.022*\"stuff\" + 0.022*\"mouse\"'),\n",
      " (19,\n",
      "  '0.041*\"t\" + 0.034*\"s\" + 0.020*\"like\" + 0.018*\"know\" + 0.014*\"don\" + '\n",
      "  '0.014*\"good\" + 0.013*\"time\" + 0.012*\"think\" + 0.010*\"look\" + 0.010*\"m\"')]\n"
     ]
    }
   ],
   "source": [
    "# View the top 10 words per topic\n",
    "pprint(lda.print_topics())"
   ]
  },
  {
   "cell_type": "code",
   "execution_count": 48,
   "metadata": {},
   "outputs": [
    {
     "data": {
      "text/plain": [
       "[(6, 0.19111507),\n",
       " (12, 0.052410536),\n",
       " (13, 0.030940833),\n",
       " (18, 0.032444887),\n",
       " (19, 0.6716478)]"
      ]
     },
     "execution_count": 48,
     "metadata": {},
     "output_type": "execute_result"
    }
   ],
   "source": [
    "# Extract Document-Topic distributions for each document in corpus\n",
    "doc_lda = lda[corpus]\n",
    "doc_lda[0][0]"
   ]
  },
  {
   "cell_type": "code",
   "execution_count": 57,
   "metadata": {},
   "outputs": [
    {
     "data": {
      "text/plain": [
       "[(6, 0.9269869), (12, 0.043974705)]"
      ]
     },
     "execution_count": 57,
     "metadata": {},
     "output_type": "execute_result"
    }
   ],
   "source": [
    "doc_lda[5][0]"
   ]
  },
  {
   "cell_type": "markdown",
   "metadata": {
    "colab_type": "text",
    "id": "gKEP0bIC3L0K"
   },
   "source": [
    "### What is topic Perplexity?\n",
    "Perplexity is a statistical measure of how well a probability model predicts a sample. As applied to LDA, for a given value of , you estimate the LDA model. Then given the theoretical word distributions represented by the topics, compare that to the actual topic mixtures, or distribution of words in your documents.\n",
    "\n",
    "### What is topic coherence?\n",
    "Topic Coherence measures score a single topic by measuring the degree of semantic similarity between high scoring words in the topic. These measurements help distinguish between topics that are semantically interpretable topics and topics that are artifacts of statistical inference.\n",
    "A set of statements or facts is said to be coherent, if they support each other. Thus, a coherent fact set can be interpreted in a context that covers all or most of the facts. An example of a coherent fact set is “the game is a team sport”, “the game is played with a ball”, “the game demands great physical efforts”"
   ]
  },
  {
   "cell_type": "code",
   "execution_count": 50,
   "metadata": {
    "colab": {},
    "colab_type": "code",
    "id": "xCjhr8k4LXSy"
   },
   "outputs": [
    {
     "name": "stdout",
     "output_type": "stream",
     "text": [
      "\n",
      "Perplexity:  -14.265030321397365\n",
      "\n",
      "Coherence Score:  0.5811182993569716\n"
     ]
    }
   ],
   "source": [
    "# Compute Perplexity\n",
    "print('\\nPerplexity: ', lda.log_perplexity(corpus))  # a measure of how good the model is. lower the better.\n",
    "\n",
    "# Compute Coherence Score\n",
    "coherence_model_lda = CoherenceModel(model=lda, \n",
    "                                     texts=df['lemmas'], \n",
    "                                     dictionary=id2word, \n",
    "                                     coherence='c_v')\n",
    "coherence_lda = coherence_model_lda.get_coherence()\n",
    "print('\\nCoherence Score: ', coherence_lda)"
   ]
  },
  {
   "cell_type": "markdown",
   "metadata": {
    "colab_type": "text",
    "id": "7UvfgYt93L0X"
   },
   "source": [
    "# Part 3: Interpret LDA results & Select the appropriate number of topics"
   ]
  },
  {
   "cell_type": "code",
   "execution_count": 51,
   "metadata": {
    "colab": {},
    "colab_type": "code",
    "id": "CYXi480VLaHK"
   },
   "outputs": [
    {
     "data": {
      "text/html": [
       "\n",
       "<link rel=\"stylesheet\" type=\"text/css\" href=\"https://cdn.rawgit.com/bmabey/pyLDAvis/files/ldavis.v1.0.0.css\">\n",
       "\n",
       "\n",
       "<div id=\"ldavis_el1382020893289488327227759484\"></div>\n",
       "<script type=\"text/javascript\">\n",
       "\n",
       "var ldavis_el1382020893289488327227759484_data = {\"mdsDat\": {\"x\": [-0.27297097243796675, -0.28132025577179254, 0.17548877842110322, 0.12564871117526516, -0.09697530956595121, -0.10817204413684703, -0.09409000183809063, -0.13442054115922733, 0.04497168901216171, -0.12825674931967607, 0.1988876249161746, -0.0033765613705017345, -0.12288409544082124, -0.0164439518464242, 0.17823119808231735, 0.08760485157811226, -0.051217915369867285, 0.17029608117588121, 0.16662303592030972, 0.16237642797584156], \"y\": [-0.13096501629860693, -0.06496679981686401, -0.2576924190822523, -0.3370842025575076, 0.026025011771143046, 0.04026582092745514, 0.0747458127689532, 0.043963097215478586, 0.0793367138463215, -0.0514537837031575, -0.19520951033716238, 0.060491966324232864, -0.0017006812481520897, 0.09395165863589992, 0.004739463507771142, 0.11251037268455073, 0.04943390506158155, 0.14263048832165848, 0.14495222985104986, 0.16602587212760947], \"topics\": [1, 2, 3, 4, 5, 6, 7, 8, 9, 10, 11, 12, 13, 14, 15, 16, 17, 18, 19, 20], \"cluster\": [1, 1, 1, 1, 1, 1, 1, 1, 1, 1, 1, 1, 1, 1, 1, 1, 1, 1, 1, 1], \"Freq\": [25.70974137927302, 9.955269878826345, 9.195147185036351, 7.726564989858225, 5.794739856926491, 5.17846048089938, 4.636883364862661, 3.8637206497191254, 3.7281579927958117, 3.5697786088099543, 3.3778572611032063, 3.3646249978730274, 3.3466571144966935, 2.3691473016635625, 1.9218116371275222, 1.9020842102498294, 1.8937984074368666, 1.1577145896814878, 1.1075938162648296, 0.20024627709561432]}, \"tinfo\": {\"Term\": [\"ax\", \"x\", \"g\", \"p\", \"r\", \"W\", \"Q\", \"t\", \"d\", \"M\", \"S\", \"s\", \"m\", \"v\", \"B\", \"n\", \"e\", \"c\", \"God\", \"z\", \"o\", \"X\", \"f\", \"F\", \"y\", \"K\", \"h\", \"b\", \"edu\", \"J\", \"ve\", \"look\", \"lot\", \"mail\", \"buy\", \"car\", \"price\", \"sell\", \"disk\", \"sound\", \"advance\", \"test\", \"easy\", \"sale\", \"wire\", \"server\", \"guess\", \"scan\", \"nice\", \"compare\", \"bike\", \"spend\", \"graphic\", \"draw\", \"anybody\", \"longer\", \"series\", \"review\", \"worth\", \"fit\", \"like\", \"will\", \"want\", \"get\", \"know\", \"don\", \"money\", \"good\", \"time\", \"probably\", \"sure\", \"thank\", \"doesn\", \"find\", \"work\", \"order\", \"t\", \"little\", \"think\", \"s\", \"thing\", \"try\", \"way\", \"go\", \"post\", \"need\", \"problem\", \"new\", \"come\", \"m\", \"tell\", \"d\", \"evidence\", \"sense\", \"law\", \"faith\", \"gun\", \"belief\", \"argument\", \"country\", \"weapon\", \"safety\", \"self\", \"drug\", \"terrorist\", \"crime\", \"firearm\", \"citizen\", \"legal\", \"Iran\", \"deny\", \"tax\", \"peace\", \"meaning\", \"protection\", \"oppose\", \"court\", \"topic\", \"debate\", \"justify\", \"poor\", \"door\", \"human\", \"government\", \"private\", \"agree\", \"apply\", \"matter\", \"person\", \"statement\", \"people\", \"reason\", \"state\", \"act\", \"fact\", \"death\", \"right\", \"claim\", \"believe\", \"say\", \"mean\", \"case\", \"s\", \"force\", \"think\", \"t\", \"group\", \"don\", \"way\", \"ax\", \"Q\", \"f\", \"H\", \"family\", \"Office\", \"Saturn\", \"Mail\", \"dog\", \"locate\", \"helmet\", \"MO\", \"Illinois\", \"SR\", \"angle\", \"contrib\", \"DE\", \"lcs\", \"RT\", \"LX\", \"Player\", \"Home\", \"tricky\", \"VR\", \"SALE\", \"FM\", \"Soderstrom\", \"Golden\", \"dec\", \"Mountain\", \"F\", \"q\", \"v\", \"MA\", \"p\", \"d\", \"M\", \"t\", \"m\", \"e\", \"W\", \"T\", \"z\", \"B\", \"K\", \"h\", \"J\", \"k\", \"MR\", \"SC\", \"MD\", \"LA\", \"belt\", \"DC\", \"HP\", \"zone\", \"ST\", \"fairly\", \"decent\", \"motor\", \"amp\", \"Systems\", \"rs\", \"workstation\", \"VW\", \"tire\", \"Journal\", \"GN\", \"GT\", \"Contact\", \"o\", \"Virginia\", \"Stephen\", \"impressive\", \"S\", \"W\", \"w\", \"M\", \"T\", \"U\", \"c\", \"V\", \"P\", \"O\", \"m\", \"D\", \"v\", \"C\", \"q\", \"t\", \"d\", \"s\", \"F\", \"e\", \"card\", \"cpu\", \"software\", \"Mac\", \"mode\", \"serial\", \"memory\", \"user\", \"display\", \"hardware\", \"input\", \"Windows\", \"package\", \"SCSI\", \"port\", \"controller\", \"motherboard\", \"avoid\", \"IDE\", \"interface\", \"tool\", \"pull\", \"crash\", \"output\", \"bio\", \"Apple\", \"IBM\", \"benefit\", \"background\", \"ram\", \"board\", \"pc\", \"drive\", \"machine\", \"instal\", \"bus\", \"function\", \"version\", \"program\", \"mb\", \"section\", \"run\", \"system\", \"use\", \"computer\", \"bit\", \"set\", \"support\", \"build\", \"work\", \"problem\", \"need\", \"key\", \"net\", \"vs\", \"encryption\", \"phone\", \"license\", \"algorithm\", \"RSA\", \"network\", \"clipper\", \"manual\", \"approach\", \"ride\", \"Apr\", \"minor\", \"DES\", \"round\", \"recommend\", \"switch\", \"upgrade\", \"trap\", \"voice\", \"blind\", \"Law\", \"stick\", \"shouldn\", \"Clipper\", \"export\", \"description\", \"equal\", \"block\", \"message\", \"organization\", \"public\", \"chip\", \"enforcement\", \"number\", \"security\", \"use\", \"system\", \"new\", \"specific\", \"address\", \"standard\", \"information\", \"bit\", \"group\", \"post\", \"provide\", \"space\", \"field\", \"launch\", \"black\", \"Space\", \"replace\", \"research\", \"picture\", \"orbit\", \"NASA\", \"signal\", \"Earth\", \"satellite\", \"warranty\", \"development\", \"mission\", \"plane\", \"mirror\", \"font\", \"surface\", \"cool\", \"hot\", \"heat\", \"energy\", \"cycle\", \"shuttle\", \"rocket\", \"industry\", \"observation\", \"ring\", \"contain\", \"possibility\", \"ground\", \"white\", \"technology\", \"report\", \"high\", \"low\", \"large\", \"power\", \"cost\", \"design\", \"datum\", \"use\", \"area\", \"Jesus\", \"Bible\", \"Christians\", \"die\", \"risk\", \"Christ\", \"revelation\", \"bomb\", \"indicate\", \"Christianity\", \"eat\", \"learn\", \"treatment\", \"Christian\", \"health\", \"moral\", \"interpretation\", \"nature\", \"necessarily\", \"route\", \"expensive\", \"waste\", \"pub\", \"fax\", \"trouble\", \"parent\", \"objective\", \"link\", \"ensure\", \"animal\", \"religion\", \"simply\", \"weight\", \"science\", \"view\", \"ignore\", \"suggest\", \"conclusion\", \"question\", \"claim\", \"grant\", \"child\", \"answer\", \"appear\", \"subject\", \"point\", \"cause\", \"study\", \"address\", \"world\", \"follow\", \"edu\", \"file\", \"com\", \"G\", \"character\", \"format\", \"obviously\", \"box\", \"archive\", \"cable\", \"directory\", \"thread\", \"generate\", \"Division\", \"insert\", \"Computer\", \"Box\", \"club\", \"Blue\", \"pp\", \"publication\", \"capacity\", \"submit\", \"specification\", \"Information\", \"registration\", \"trace\", \"Phone\", \"speaker\", \"Conference\", \"image\", \"copy\", \"list\", \"Sun\", \"request\", \"email\", \"info\", \"send\", \"information\", \"source\", \"include\", \"available\", \"date\", \"University\", \"text\", \"C\", \"program\", \"game\", \"team\", \"play\", \"speak\", \"oh\", \"trade\", \"fan\", \"hit\", \"average\", \"Chicago\", \"kid\", \"hole\", \"score\", \"anti\", \"father\", \"division\", \"hate\", \"Mike\", \"Boston\", \"captain\", \"homosexual\", \"yeah\", \"pitch\", \"baseball\", \"Milwaukee\", \"expansion\", \"unlikely\", \"tie\", \"Bobby\", \"Leafs\", \"road\", \"win\", \"pick\", \"year\", \"St\", \"lose\", \"s\", \"New\", \"run\", \"good\", \"choice\", \"second\", \"John\", \"point\", \"bad\", \"t\", \"think\", \"get\", \"b\", \"notice\", \"internal\", \"Bill\", \"Bay\", \"SF\", \"be\", \"Area\", \"portable\", \"annoying\", \"Tony\", \"handy\", \"r\", \"B\", \"Toshiba\", \"z\", \"p\", \"e\", \"d\", \"ns\", \"c\", \"m\", \"l\", \"u\", \"Y\", \"N\", \"Z\", \"CX\", \"cx\", \"CK\", \"t\", \"Israel\", \"April\", \"press\", \"authority\", \"community\", \"United\", \"Dr\", \"States\", \"withdraw\", \"Lord\", \"camp\", \"prior\", \"State\", \"Press\", \"letter\", \"Germany\", \"meeting\", \"scripture\", \"student\", \"Volume\", \"Church\", \"Medical\", \"East\", \"Society\", \"biblical\", \"rational\", \"Americans\", \"Koresh\", \"South\", \"sight\", \"Center\", \"Research\", \"National\", \"World\", \"independent\", \"young\", \"member\", \"New\", \"year\", \"increase\", \"University\", \"receive\", \"write\", \"state\", \"U\", \"home\", \"st\", \"ftp\", \"night\", \"wait\", \"goal\", \"alt\", \"gift\", \"rider\", \"mother\", \"aware\", \"son\", \"wife\", \"building\", \"pressure\", \"wear\", \"buffer\", \"girl\", \"male\", \"daughter\", \"rd\", \"hello\", \"ticket\", \"Jose\", \"wave\", \"birth\", \"DoD\", \"Sunday\", \"regularly\", \"brother\", \"physical\", \"woman\", \"fire\", \"face\", \"child\", \"day\", \"later\", \"say\", \"nd\", \"go\", \"man\", \"come\", \"see\", \"hour\", \"live\", \"tell\", \"leave\", \"start\", \"take\", \"old\", \"place\", \"s\", \"time\", \"didn\", \"soldier\", \"village\", \"Jews\", \"civilian\", \"Armenians\", \"turkish\", \"greek\", \"count\", \"armenian\", \"Turks\", \"circuit\", \"Turkey\", \"gang\", \"occupy\", \"Northern\", \"March\", \"muslim\", \"percent\", \"inhabitant\", \"Armenia\", \"troop\", \"british\", \"London\", \"Hitler\", \"massacre\", \"army\", \"Arabs\", \"Soviet\", \"slaughter\", \"genocide\", \"population\", \"land\", \"war\", \"attack\", \"prepare\", \"kill\", \"jewish\", \"million\", \"murder\", \"military\", \"destroy\", \"city\", \"force\", \"history\", \"death\", \"people\", \"x\", \"X\", \"entry\", \"telnet\", \"session\", \"SS\", \"greatly\", \"implementation\", \"widget\", \"IP\", \"guilty\", \"Louis\", \"Access\", \"layer\", \"mil\", \"Ford\", \"List\", \"worthless\", \"automobile\", \"partially\", \"stanford\", \"navy\", \"unix\", \"Network\", \"appreciated\", \"login\", \"NCD\", \"dt\", \"L\", \"Terminal\", \"c\", \"mb\", \"r\", \"w\", \"contain\", \"o\", \"driver\", \"discussion\", \"video\", \"screen\", \"publish\", \"engine\", \"mouse\", \"appropriate\", \"period\", \"criminal\", \"manager\", \"map\", \"property\", \"Honda\", \"bank\", \"cross\", \"default\", \"volume\", \"economic\", \"ATI\", \"unknown\", \"Code\", \"icon\", \"gain\", \"lock\", \"bug\", \"useless\", \"mechanism\", \"automatically\", \"bounce\", \"hi\", \"window\", \"responsible\", \"stuff\", \"command\", \"application\", \"event\", \"type\", \"thank\", \"problem\", \"set\", \"God\", \"explain\", \"pin\", \"reality\", \"Paul\", \"respect\", \"universe\", \"cd\", \"concept\", \"proof\", \"acquire\", \"imply\", \"rom\", \"Satan\", \"processor\", \"concerned\", \"definitely\", \"writing\", \"creator\", \"Greeks\", \"historical\", \"superior\", \"stereo\", \"Charles\", \"deck\", \"Joe\", \"conceal\", \"mankind\", \"partner\", \"tree\", \"opposite\", \"catch\", \"newsgroup\", \"love\", \"accept\", \"man\", \"book\", \"exist\", \"prove\", \"truth\", \"believe\", \"refer\", \"word\", \"life\", \"John\", \"earth\", \"world\", \"come\", \"thing\", \"know\", \"write\", \"reason\", \"good\", \"g\", \"patient\", \"season\", \"disease\", \"printer\", \"Toronto\", \"trial\", \"PS\", \"BJ\", \"domain\", \"luck\", \"XT\", \"secular\", \"bj\", \"up\", \"starter\", \"prevention\", \"hr\", \"Stadium\", \"la\", \"MLB\", \"publisher\", \"squad\", \"persistent\", \"MS\", \"u\", \"l\", \"DN\", \"headache\", \"Y\", \"hi\", \"max\", \"n\", \"y\", \"floppy\", \"sink\", \"doctor\", \"status\", \"Ron\", \"routine\", \"cap\", \"red\", \"ah\", \"Thanks\", \"rm\", \"IV\", \"glad\", \"odd\", \"flow\", \"diet\", \"mess\", \"warning\", \"ancient\", \"adapter\", \"oo\", \"bury\", \"SI\", \"appearance\", \"extended\", \"green\", \"concentrate\", \"ain\", \"step\", \"air\", \"ok\", \"David\", \"wing\", \"expand\", \"blue\", \"scope\", \"wow\", \"ATF\", \"Student\", \"Firearms\", \"Drug\", \"Alcohol\", \"DN\", \"headache\", \"sweep\", \"EEG\", \"tumor\", \"brain\", \"diagnosis\", \"cheap\", \"aircraft\", \"Joseph\", \"dn\", \"Aunt\", \"neurologist\", \"benign\", \"Mary\", \"Phil\", \"syndrome\", \"championship\", \"CT\"], \"Freq\": [65561.0, 11216.0, 6857.0, 9820.0, 7101.0, 8775.0, 8104.0, 22395.0, 8564.0, 7960.0, 7915.0, 19825.0, 10677.0, 8443.0, 4630.0, 3261.0, 6369.0, 6878.0, 3354.0, 4170.0, 5296.0, 3128.0, 4980.0, 6387.0, 2374.0, 4178.0, 4047.0, 3010.0, 3075.0, 3846.0, 2603.089862347668, 3193.5573309356305, 1581.4317899058294, 1500.3261786092332, 1306.2246166238206, 1217.672093641347, 1140.4839506223161, 1108.9072682311698, 1027.2175518759698, 904.8403406078595, 848.6044710001979, 813.9788486174792, 789.265400664929, 716.5374045856993, 704.5759426202117, 669.8333851427528, 638.2237612797957, 635.5087993271027, 625.413165141589, 589.5018984337132, 585.7097075716711, 572.9119101221875, 560.3996767302855, 511.3707523076798, 496.5410293323704, 489.7687404506896, 465.6848168587856, 453.46057178862446, 451.8624112925859, 451.82027187734724, 6050.987298908947, 2051.081776004608, 2929.3145340307897, 2781.6055448457478, 5613.235923221285, 4338.8082405176665, 989.7757901628531, 4153.726795053707, 3971.2515761647105, 1408.3212182564469, 1820.6151108003314, 2019.3274806128534, 1307.8313333463036, 2441.0976791514518, 2991.7575894144234, 1573.3768157273034, 12670.081794631176, 1325.382007632817, 3768.4473336589313, 10447.836986719703, 2540.8909446252474, 2216.9607676669634, 2155.8918422502993, 2416.258098160734, 1707.2722051291948, 2215.9304553992843, 2073.246965816357, 1948.5441008987734, 2062.8254820070856, 2999.5565898184877, 1624.7562425070146, 1866.9670415250912, 2705.089420640487, 1630.3700888471244, 1586.8757373761346, 1151.5780497846442, 1060.2893545390605, 922.1958350134458, 851.0384500474761, 682.6797699810238, 633.66862645296, 601.594279711238, 592.5744671622243, 461.04637082992747, 456.8345628250298, 441.9017362807037, 418.0968348775259, 360.7119654548084, 326.1219641855593, 323.3053124055288, 315.82615741331165, 305.6519146570952, 305.2694145712227, 265.67102001646424, 263.823015054158, 263.6919534179781, 261.35727825113344, 250.8097017168624, 250.21968967448507, 248.61337705747462, 246.39416423790288, 238.0106094107697, 763.2340561471437, 1415.7719137743761, 460.1434619004999, 969.0806160026358, 444.1903590335715, 724.7695228257196, 966.2640194413272, 475.459478764721, 3623.5616363684226, 1816.6257088344862, 1361.3435927633561, 691.3888115637764, 1139.269354946811, 744.7455580596466, 1598.5353913579918, 1047.8870087490634, 1274.524742609617, 1543.5941988589418, 1057.5299645735313, 1059.8828343092073, 2851.034269343216, 671.0263557147294, 1373.370892994923, 1934.3193342176771, 794.7244096871641, 846.5142697333854, 697.1961093162128, 65559.64371870985, 8103.30100386947, 4979.109660003929, 1693.822336238455, 1157.1282872705503, 560.7281905085069, 413.3787272709369, 386.19015374309674, 380.94278060080626, 378.3534315048691, 358.57494377988235, 350.48565685211815, 266.7333799100625, 259.0454576479501, 206.81558222703362, 158.2504831844442, 143.61133242371668, 138.23322696307915, 135.16927352172956, 127.32917236373581, 117.06377185210988, 106.04208621766358, 97.12465155650612, 88.86921103073352, 87.93643791567668, 79.42285429509329, 70.24461165523404, 54.34029132894845, 53.28424502031128, 44.40613333484701, 4921.287850879063, 2142.2518605567134, 3786.6803571143964, 293.78100785641357, 1092.892599895006, 984.7000480071016, 913.4478361022922, 1389.8899058469788, 847.7356245421591, 585.2632792180569, 595.6122091764294, 360.8932142560928, 421.6351240947566, 226.8111496086924, 4176.728046551618, 4046.2983372167587, 3844.4342224980596, 1206.355840861594, 963.9920470615035, 933.6578302863445, 704.6229308683742, 566.6285671899634, 358.83594230579763, 344.3009717663139, 338.9852281738691, 327.17642174660375, 232.33022330589287, 222.58233626223128, 202.23947603005806, 168.73514151770271, 158.17671446817172, 154.54583252491844, 129.84593538924295, 126.53913659224733, 123.0420857313765, 119.48174608629039, 110.17424483873526, 108.18151062911937, 100.7455659799604, 91.48865718865456, 5200.064509083502, 82.9797549701603, 80.71728539792178, 65.22098854739619, 7407.6777588595105, 8178.797819948875, 2525.221247342605, 7045.7030271397, 2069.7574849993425, 1618.2548912678635, 4750.598470642973, 429.83209401949335, 261.33697202845235, 244.95712325060228, 5780.244483178116, 1168.8958234082731, 4655.091570294793, 1556.9451485135519, 1928.6010606627485, 5912.220123120195, 2242.092747989758, 3055.5176167138566, 1464.3545679136582, 1380.0515502147182, 1725.1270573732918, 1148.1505530475354, 1145.7863468058101, 1077.0939995371914, 850.8051092807123, 849.0478003995864, 831.1856301954023, 821.6748073699157, 762.7094672106198, 748.5353507478098, 713.402994005765, 685.2071121811535, 624.8076146110986, 613.1589265677901, 562.1466995801254, 548.0278666392004, 505.2143466549826, 458.05631324858945, 444.96212181590255, 429.39653196388207, 355.23478016905995, 354.07003350274255, 322.0413643907988, 313.2580341434189, 290.74536265174277, 274.07169174333694, 267.5239210537612, 265.46121892659494, 264.21274343788787, 260.832895331022, 756.0531383261798, 649.0731594455168, 2702.4935689863078, 989.8177106879655, 593.9619807259098, 499.24931892676415, 610.4683546974488, 798.5184042641051, 1674.3158438425273, 636.8524155170292, 715.0674779966561, 1383.2263734086334, 1573.626422637554, 1922.9581119078562, 706.574257672842, 907.6294343471021, 849.4321494430167, 738.8361139657596, 695.1236260608445, 837.0506333189079, 806.385185145165, 774.9676239411272, 2763.4347144013136, 771.1122022918424, 713.847640120251, 640.4318072749356, 605.2093725391762, 536.3007387839993, 471.03892709691115, 459.61433006849313, 457.8093019313611, 429.6158263395179, 413.80777009580254, 406.404489213509, 405.9059680278678, 388.54421231574366, 384.6103298230584, 384.0310100608323, 373.4074477653689, 349.898221539551, 344.50729340362886, 341.47032394060665, 338.75445198474523, 330.1173627635938, 327.42923749275946, 325.03572686822156, 283.8963259120831, 267.5958090940523, 264.4148785695854, 254.89207839657698, 237.5924654929994, 232.52476038669352, 585.4420711496919, 937.8791430924939, 505.9515525731451, 947.2965288410207, 1049.1901689915153, 368.90291993993804, 1253.9284195284006, 428.1135702591872, 1414.581496048776, 892.749820531364, 823.8070060772408, 392.25658090063536, 519.0158178363134, 467.310731986709, 539.5415860630899, 533.1465209066082, 457.4269089523083, 398.3141475591172, 392.962972437768, 1421.1969545805296, 638.4987357239427, 632.2220899737771, 609.3306605731635, 605.7077857077302, 583.2758576797071, 462.5915488983123, 451.2818894012409, 445.5113998702951, 445.08147571579934, 443.5445920249612, 434.0003580969793, 401.4877168433775, 390.3248117866957, 374.65894245068426, 357.55994116104677, 352.4328718605999, 341.2739532985309, 338.5826322064786, 318.97213931080415, 300.5462011401604, 293.3038463595446, 280.1084977526789, 276.6393472633775, 259.0468436600007, 248.36496704681826, 246.6799657916262, 242.49383781639042, 233.68805700661156, 233.60277174121865, 723.4241878289076, 419.5996221158163, 461.7824705271632, 484.8316622371616, 435.4225850588905, 633.2177362928032, 706.5313268897298, 507.6562728442013, 508.98390414684974, 528.1441289058433, 397.6371231179354, 377.17447198997405, 381.5625480664961, 364.57071918364153, 357.82328127936944, 1369.3215492475845, 1013.2841947069759, 874.9492032406919, 753.0429160898113, 527.6930035008256, 507.16762421422004, 480.6449123336813, 445.73280126018847, 393.66826667681704, 389.06063781059913, 365.6283804802084, 364.4261536702685, 357.706473455104, 345.1591928349387, 337.33561046675624, 334.97729742803426, 330.00129399167025, 311.8969986505268, 307.6191045644746, 289.57447265944074, 268.9406105015756, 260.3582052362068, 246.16795131650792, 223.53557835729262, 222.2115172677971, 214.22041008637166, 210.47552222139717, 210.25814929307134, 200.9803135313827, 198.12626248831958, 719.2086044160386, 520.2638770252552, 327.3141891293877, 324.4925629350436, 490.2372241231973, 302.39128885286374, 413.61792809429676, 416.44671218650745, 716.304255210422, 631.6205799857072, 374.79276141762847, 524.6273229923955, 457.51967310160427, 419.25050792868086, 406.1973739515007, 577.1603355618856, 435.7333465255543, 377.9267634182702, 372.1100070142289, 363.45726575844657, 360.5596886957216, 3073.451970022939, 2898.5067463210034, 2308.389414095076, 1142.2806777517717, 793.4388991766084, 655.8015703447327, 575.1015079512903, 546.8400567204554, 478.6114029335735, 360.79427064150457, 357.6789516562061, 357.5658380244615, 357.50744078569613, 295.90598440560234, 290.2492688729283, 284.50115256286665, 275.11749795602594, 251.74466486526543, 251.3091463646855, 242.77500201482812, 223.8070660268898, 216.2515717201665, 209.00772924964474, 197.86372048500672, 195.88909147307092, 188.11309796062693, 186.3912479312223, 169.44182159992945, 168.09072372839475, 164.555809002378, 1056.6328555387688, 1067.4348558289234, 1419.7364640118467, 439.2881829588407, 557.5016472191028, 697.2464050159424, 696.3769809696776, 1258.203497914116, 1066.839385967915, 933.5153466723846, 1037.7395290541822, 810.9877657194207, 420.36408625779427, 468.88950341367143, 372.1267676608687, 533.4690742184375, 541.5753305851032, 1971.85119948229, 1828.462989054592, 1523.9604323698893, 771.1967613535468, 717.7717197251819, 637.1270683024858, 556.006454173627, 510.8012437317192, 439.8228052144148, 439.1289585903468, 433.2363509959566, 428.83713133834095, 420.3443710420686, 376.09872897798107, 287.48775125804497, 258.67434555277526, 245.82075863022297, 238.27574585581044, 237.79120956400155, 236.3966455670913, 233.37203107421135, 232.48111078284848, 231.13656266894705, 227.19855439807912, 218.05962691015577, 216.97600884625058, 215.74883767394707, 212.59191671619575, 211.45184762993972, 189.62922089809268, 396.08167807473944, 1365.9800979745778, 433.7513997484609, 1585.8841348222923, 324.2406140787482, 505.232689954163, 2175.3964389080834, 428.7279517742433, 537.9451762873888, 625.0332040304346, 280.69509537464063, 336.52448326503236, 286.3653441542291, 348.52013741051024, 312.8080643263377, 401.19549520574736, 338.9753407341803, 322.27243166110713, 3008.5134091163222, 591.6407755216142, 537.8933184204351, 435.74615524066144, 235.7641964899826, 120.39428292243078, 110.78532267126002, 102.36832176642457, 87.62921862590034, 60.921672841656694, 53.48924826841646, 38.72540436936355, 6773.61131743218, 4402.169536364429, 28.15889666715224, 3747.8045209262054, 8452.987851039494, 3146.4147436542744, 3469.8632610578006, 41.2055647063902, 1400.2618067278022, 1048.23841581998, 0.0994513568561231, 0.09939876276416672, 0.0991879838671977, 0.09914940510814742, 0.0991114209944228, 0.09905112395840183, 0.09901614051647434, 0.09897759835098256, 86.90026088862268, 1734.6099843253783, 699.6191587110707, 640.1411523738543, 560.6427925785305, 454.833022936506, 450.2232717845469, 438.56013816667195, 429.01150389302046, 403.84328456219566, 379.00684727706823, 320.64306724519093, 318.9628817589644, 317.5630444497243, 313.84648087269363, 294.1731567283302, 286.48676069463335, 278.4044582419116, 271.66639749070504, 263.7667823169423, 244.13653123824815, 237.08540693565374, 234.6823665739633, 230.08788135255773, 229.89532160750736, 220.75087990589512, 204.1126765656636, 200.482221794958, 198.15657484892216, 197.41076509010762, 192.9855301427728, 409.4860054649338, 320.91841387035794, 477.0423391409258, 280.42312561377287, 279.1841031255348, 504.2307748316753, 439.69619960495424, 511.4280078999219, 731.1593923849398, 381.4275983577016, 381.05069037058803, 415.8013231123527, 411.41010991489446, 358.1975176819428, 362.4564883562932, 897.0886721404662, 866.5818992417845, 604.8720376262556, 449.5668889302825, 449.24133376091925, 425.76319635817345, 400.0814265420706, 356.54023251708105, 303.95069124752956, 266.5718418846381, 262.71073307303436, 259.0075383808156, 258.4212866212745, 250.20845301413084, 243.21865098918988, 233.86800781960332, 232.07182984617805, 224.9153706020249, 224.72879545050986, 209.4656820705757, 196.89509074338292, 184.80137889508984, 184.1744002544002, 183.47478520261927, 171.9069958687749, 168.1923107757216, 165.85177738311634, 163.8052051982906, 160.0924692039249, 157.48815778893095, 1360.9085215708556, 562.1939416258252, 452.7573221649051, 519.2153131706112, 848.134441240271, 902.7749912145181, 425.30306056514246, 1353.409577843024, 248.1577227521049, 1020.6888534416885, 602.8056217605057, 883.3088785503304, 560.1636119300628, 319.49373232469253, 444.510481426374, 586.282462486149, 436.8239787162612, 448.97788986973416, 450.1177599079325, 407.6206887684686, 365.1965324827655, 563.2754500804634, 441.9719752956424, 339.3531916668829, 906.8579518189438, 906.6907994689939, 551.6227290147943, 493.5330823166455, 482.3435991419344, 462.05598202127203, 404.82929875246344, 368.9095991208513, 367.8470252987642, 345.1378542127429, 331.9249077400773, 316.98905681757435, 240.5291040417731, 234.22446432163517, 227.59776722786734, 217.05178117773926, 216.60613356422903, 216.0514426960109, 195.58170573116962, 193.5681112551342, 182.67130238373161, 169.58806981408128, 166.64031446908066, 160.36027452874666, 157.9550021484183, 157.53541295550164, 153.48930109588935, 148.22961324019042, 147.04619562799806, 144.51136703555053, 409.653799157432, 343.9561186367765, 574.0549948871251, 575.229213863707, 249.34917637412858, 528.7028828914778, 274.5810338535916, 337.78627835105567, 274.3582691809225, 321.30768482760027, 236.2079792592244, 284.23431859954155, 303.6903002155712, 261.2608838533401, 272.9101411176774, 326.64539025418384, 11214.677581130969, 3126.3852954981103, 1269.3406854556724, 487.6250158140871, 361.53367591390645, 270.6292331410166, 252.43392843644136, 195.6561497894934, 189.38352558883642, 143.3322941957779, 131.97183714594414, 125.06032507920918, 106.94167412694843, 97.96099043328222, 92.82901585300627, 70.69630817519763, 62.333107712002736, 56.97576619646991, 55.03076917122286, 46.18155662957589, 45.91500069432694, 45.75990769345098, 44.61061307333039, 40.270804549643806, 40.052688861085855, 30.90780080584409, 29.147261532437856, 21.50871671325473, 1046.043859877499, 14.808797943936382, 561.3317506094355, 129.95743495016177, 309.07547638465775, 179.8194909571354, 68.23145992023689, 94.64639520022403, 1233.3120819030928, 1001.4802213079623, 820.6855258687941, 817.1550721638295, 681.3277678436508, 516.6041105643516, 493.10201976700495, 446.9287342372076, 434.9054921998743, 411.5536792676856, 360.97359345952606, 249.07442042748343, 246.38395710921787, 219.45832891451064, 219.09094785437807, 216.52234000807078, 202.29837759691375, 200.0987544498505, 196.32532831898124, 184.69158068110727, 182.81281195942887, 177.5443299653334, 169.0453908329515, 167.9282346363983, 166.4163616630161, 159.28746839496577, 143.88770090685586, 135.87453782216636, 134.35584938256034, 133.22965161549038, 673.1387425198208, 1086.472081391992, 235.3672518205172, 505.50692791287184, 255.59743351859697, 413.2684758902146, 376.9902344926923, 383.2535846508329, 351.35599999405264, 309.68564868724803, 246.7217974488757, 3352.5889145404512, 780.2803081940373, 573.5353335156959, 507.6270363630027, 363.698313503088, 362.70082530855757, 342.4217306484163, 317.9777446213613, 250.8959702554859, 233.1029909694882, 173.7895970990591, 169.68200668097816, 156.18544308459548, 143.04560546848083, 142.24565060901935, 124.9244823986906, 115.14061061902854, 104.0912754833927, 93.943881442272, 92.68076054488479, 90.68352573162622, 71.39561143470934, 70.48162716185566, 70.46277194587859, 69.96155933844369, 69.45273636667712, 63.5559225082545, 63.38922979385893, 55.513085699132006, 54.83916141420693, 95.52118591061965, 195.88453834432974, 364.0915944424647, 436.40465656856395, 516.0863160899027, 828.1910023241128, 643.9835465037227, 750.1851565833405, 367.2235561113904, 382.5458403335812, 767.8104452465763, 197.56974296783974, 364.5988680301886, 355.2972275904013, 255.7782842078044, 168.81805963447923, 222.45598097431895, 262.8564587555042, 253.7203450529684, 250.68145146958975, 206.29158814240705, 201.67064214771602, 198.65878662891947, 6856.360644800547, 1213.0806974904572, 726.199815154864, 390.6503998094287, 362.91186109411825, 290.8053972543189, 272.61358884172444, 211.9288875696564, 168.90635142566853, 164.251051519571, 163.90132513061346, 108.09825508382326, 107.67750075633501, 106.34493546205087, 98.99619910416806, 90.72855604925914, 88.78201423506391, 61.13303583606197, 46.07184433661333, 42.91487047801054, 34.55394907258204, 25.555884069651448, 11.518681092073752, 8.428859811645165, 132.36266006366614, 0.08771596073540865, 0.08771038584130633, 0.08757278817382239, 0.08754364696696805, 0.08758786359049504, 11.881992112073851, 0.08761613940321426, 3260.3156459648267, 2372.4224449897506, 380.50783798341666, 314.06189542484873, 302.08136459595323, 205.27265440512437, 200.77524023006447, 192.61339286680922, 176.6181772638618, 175.97184722208766, 170.36307908853732, 164.65993494884918, 154.4614162665733, 153.05925495054223, 147.54717276833915, 128.6216810847007, 124.77773566506758, 118.83360772009615, 116.11721044930495, 111.04389498747439, 109.74236373136632, 108.72231404336283, 94.8787571117913, 90.00322456504996, 74.11730746003238, 73.31959614191128, 72.47436507327099, 68.3602850770277, 66.9805965790185, 64.70049635313649, 251.7884511311326, 130.54781906805985, 117.01244937434167, 387.32081057149566, 170.1648704834403, 123.91662096127047, 90.13876190785, 72.10683950469226, 66.240273112399, 24.431797059204925, 7.853178938111148, 6.316571966115325, 3.708786811310989, 2.439984103664453, 0.06277474213045073, 0.06276551809301348, 0.06275893197409074, 0.06276101888002081, 0.06276095813847607, 0.06276128787829038, 0.06276097115452137, 0.0627630233509973, 0.06275633744239391, 0.06275692750311426, 0.0627564589254834, 0.06275639384525689, 0.06275639384525689, 0.06275639384525689, 0.06275600336389783, 0.06275507488599963, 0.06275639384525689, 0.06275353899265401, 0.0627564719415287], \"Total\": [65561.0, 11216.0, 6857.0, 9820.0, 7101.0, 8775.0, 8104.0, 22395.0, 8564.0, 7960.0, 7915.0, 19825.0, 10677.0, 8443.0, 4630.0, 3261.0, 6369.0, 6878.0, 3354.0, 4170.0, 5296.0, 3128.0, 4980.0, 6387.0, 2374.0, 4178.0, 4047.0, 3010.0, 3075.0, 3846.0, 2604.736896420739, 3196.8520877353803, 1583.0788239789006, 1501.9732126994138, 1307.8716506968917, 1219.319127714418, 1142.1309846953873, 1110.554302304241, 1028.864585956888, 906.4873746809303, 850.2515051136978, 815.6258827098811, 790.9124347450123, 718.1844386767142, 706.2229767368726, 671.4804192391786, 639.8707953528665, 637.1558334682884, 627.0601992146599, 591.1489325508131, 587.3567416447419, 574.5589461154525, 562.0467108213004, 513.0177864278984, 498.1880634054413, 491.41577458530054, 467.3318509909369, 455.1076059020437, 453.5094453656568, 453.4673061736471, 6330.519519059273, 2129.388917413903, 3248.5756581655014, 3105.432872417253, 6608.926913093371, 5186.899974399662, 1051.078541660235, 5157.515641224638, 5008.58051689348, 1569.2526138653843, 2102.5539560978714, 2372.246763252361, 1459.4563608228377, 3004.512593962853, 3830.481102817066, 1830.0686806374008, 22395.73917692789, 1498.561045346526, 5485.5075161242785, 19825.88078671686, 3449.336104753047, 2908.3289025711847, 3083.713605480166, 3667.7428406698104, 2257.3852609530645, 3500.5775905900973, 3313.013577812552, 3200.6738490185, 3924.590970963147, 10677.069084467845, 2602.8301559475735, 8564.917069694056, 2706.744661631481, 1632.0253298471825, 1588.53097836378, 1153.2332907756384, 1061.9445955196934, 923.8510760044395, 852.6936910436747, 684.3350109616563, 635.3238674335925, 603.2495207233386, 594.229708204715, 462.70161181056017, 458.48980382760794, 443.5569772613364, 419.7520758581586, 362.3672064354411, 327.7772051794836, 324.96055340796954, 317.48139839394435, 307.3071556377279, 306.9246555569845, 267.32626099709694, 265.4782560410698, 265.3471944037399, 263.0125192387786, 252.46494275073647, 251.87493066935934, 250.2686180939037, 248.04940521853555, 239.6658504480738, 798.1698711130159, 1532.207550350426, 479.42929114070415, 1096.3283263133135, 476.3869706878128, 821.0347376505886, 1179.30416963158, 522.1869308765757, 5622.277835646833, 2527.1281595553833, 1890.3476065536588, 837.2110765524085, 1701.1716581352555, 1019.2212710368444, 2962.389798719456, 1686.1994946755913, 2509.953525723043, 3770.6453845514166, 2225.979151469121, 2259.1768477906908, 19825.88078671686, 1024.151351432417, 5485.5075161242785, 22395.73917692789, 1873.0281606743708, 5186.899974399662, 3083.713605480166, 65561.19360571509, 8104.850890947091, 4980.659547155704, 1695.3722235592677, 1158.678174801235, 562.2780779048594, 414.92861451339434, 387.74004129273055, 382.4926677310707, 379.90331898973716, 360.124830940057, 352.035544034237, 268.28326739965036, 260.5953469608461, 208.36546957072326, 159.8003702882157, 145.1612199849159, 139.78311413079257, 136.71916115909087, 128.87905967672873, 118.61365912685592, 107.59197381341112, 98.67454069974639, 90.41909881328297, 89.48632504225729, 80.97274138348418, 71.79449875574656, 55.890179109010056, 54.834132172125926, 45.9560204593093, 6387.113062725127, 4072.323565146665, 8443.242571332456, 476.06258371383433, 9820.807131241734, 8564.917069694056, 7960.621507160044, 22395.73917692789, 10677.069084467845, 6369.661890861926, 8775.880673057718, 2432.121343178695, 4170.890636069384, 4630.431677016338, 4178.373614379171, 4047.943905058669, 3846.0797903347648, 1208.0014087286022, 965.6376149356537, 935.3033981448361, 706.2684987432912, 568.2741350175196, 360.4815110335644, 345.9465397448599, 340.63079605481, 328.8219906524633, 233.97579113344938, 224.22790425124006, 203.88504395331617, 170.3807094047522, 159.82228229572823, 156.19140045413485, 131.49150339427823, 128.18470455254078, 124.68765355893295, 121.12731397629425, 111.81981274121671, 109.82707849765292, 102.39113381666525, 93.134225016211, 5296.2802112420495, 84.62532288804822, 82.36285349615393, 66.8665565044447, 7915.465264755156, 8775.880673057718, 2706.6100452783658, 7960.621507160044, 2432.121343178695, 2101.1084683319627, 6878.159133294386, 495.4730017893271, 289.82604498744297, 272.23227313278863, 10677.069084467845, 1669.300921614954, 8443.242571332456, 2351.1385960574908, 4072.323565146665, 22395.73917692789, 8564.917069694056, 19825.88078671686, 6387.113062725127, 6369.661890861926, 1726.7672841352976, 1149.7907798002914, 1147.426573552287, 1078.7342262836682, 852.4453360271888, 850.6880271530755, 832.8258569418788, 823.3150341163922, 764.3496939777195, 750.1755775056945, 715.0432207522415, 686.8473389328616, 626.4478413575752, 614.7991533142666, 563.7869263266019, 549.6680933856769, 506.8545734014594, 459.69654004897825, 446.60234856237935, 431.03675871035887, 356.8750069820041, 355.71026030107953, 323.6815912146828, 314.8982608898957, 292.38558939821957, 275.71191848981374, 269.164147800238, 267.10144573144703, 265.85297030995724, 262.4731220774988, 767.4229523827349, 673.6640660302274, 3147.377818852551, 1123.647968557469, 645.5428514470227, 541.4270163199935, 700.5855736492767, 1019.8454982944828, 2615.786796279269, 768.3738164613081, 921.0925988992436, 2560.8889525465806, 3382.952800268472, 5349.106355142441, 1041.7675056253527, 1917.776933080373, 1657.79355001002, 1449.5776712337313, 1298.4879855198362, 3830.481102817066, 3313.013577812552, 3500.5775905900973, 2765.0782462417096, 772.7557341684235, 715.4911719703141, 642.0753391153306, 606.8529043795712, 537.9444079520846, 472.68245894251135, 461.2578619088884, 459.45283379786036, 431.2593581799132, 415.45130194404487, 408.04802109546154, 407.54949986826307, 390.1877441662361, 386.25386173753117, 385.67454190122754, 375.05097963593937, 351.5417535027689, 346.1508252609837, 343.113855788849, 340.3979839965955, 331.7608946039891, 329.0727695238914, 326.6792587189781, 285.5398577524784, 269.23934096702965, 266.0584104099807, 256.5356102369722, 239.2359973385237, 234.16829228208329, 605.1764181852596, 1126.9634932854915, 599.9252232497244, 1396.174272288457, 1607.0444411512249, 426.6466149794488, 3091.642725398333, 543.1272414525406, 5349.106355142441, 3382.952800268472, 3200.6738490185, 506.7480507758852, 1174.55584406262, 923.108582022581, 1895.385436727526, 1917.776933080373, 1873.0281606743708, 2257.3852609530645, 1585.6238857945636, 1422.8384451823638, 640.1402263719345, 633.8635805704062, 610.9721511972457, 607.3492763043593, 584.9173483264689, 464.23303950017373, 452.92338015351083, 447.1528904669244, 446.72296631242864, 445.18608263974056, 435.6418487027211, 403.1292074400068, 391.96630243495997, 376.30043306343856, 359.2014317629082, 354.0743624700621, 342.9154439234074, 340.2241228031079, 320.61362990743345, 302.1876917799149, 294.9453369561739, 281.7499883493082, 278.2808378600068, 260.68833425663, 250.00645764344756, 248.32145639467194, 244.1353284278793, 235.32954763070381, 235.244262345695, 793.2208775198673, 499.4787976064493, 580.253576578159, 624.5172043286898, 577.578361997605, 1276.6550217247955, 1824.8468925368327, 1037.5309377448991, 1272.6480359839222, 1497.1788287687464, 1015.8613388712868, 774.3514439915243, 1089.040540433281, 5349.106355142441, 1079.4262966579345, 1370.9737199755507, 1014.9363654400706, 876.6013739805272, 754.6950868429257, 529.3451742796875, 508.81979494731513, 482.29708307351694, 447.3849721421602, 395.3204374606393, 390.7128085504348, 367.2805512081744, 366.0783244025732, 359.3586442406455, 346.8113635629047, 338.9877812260556, 336.62946815600026, 331.65346472484117, 313.5491693784928, 309.2712753021088, 291.2266435396664, 270.59278126098326, 262.0103759641728, 247.82012207463552, 225.18774972036363, 223.8636880196948, 215.87258083893056, 212.12769294936317, 211.91032008058005, 202.6324843041876, 199.77843321628558, 858.8025178698376, 684.2130526976291, 381.91156666338287, 407.1333461517438, 800.761597632948, 377.02103333433445, 647.5423902419901, 663.2424592016321, 2074.9555361921557, 1686.1994946755913, 575.3901674612434, 1509.2114089679137, 1056.2988667108289, 826.9710867461184, 765.3771446051081, 2799.693133968741, 1264.6578433193658, 681.3247046817897, 1174.55584406262, 1189.2358824207495, 1760.9777974567137, 3075.07697371937, 2900.1317500798937, 2310.014417791507, 1143.9056818408924, 795.063902873039, 657.4265740490104, 576.7265117006211, 548.465060416886, 480.23640663000435, 362.4192743457825, 359.30395535263693, 359.19084176702927, 359.1324445262686, 297.53098815209603, 291.8742726394277, 286.1261562592975, 276.74250166784844, 253.36966862142998, 252.93415014298495, 244.4000057444713, 225.43206974559024, 217.87657546299116, 210.6327329800036, 199.48872421168883, 197.51409517861433, 189.73810166407029, 188.01625168335465, 171.0668252963603, 169.71572742995463, 166.18081269880884, 1221.088878208774, 1301.6125640793148, 1884.857597112317, 519.3402273191464, 733.6898866312961, 975.7242787151994, 996.7759976273633, 2213.366566050789, 1895.385436727526, 1686.57903736085, 2400.616451400305, 1639.5199412025627, 629.6968809893744, 851.48431576185, 532.4753113364418, 2351.1385960574908, 2615.786796279269, 1973.4838722343754, 1830.0956618066775, 1525.5931051512569, 772.8294341473267, 719.4043927404965, 638.759741054571, 557.6391269335593, 512.4339164838046, 441.455478033931, 440.76163134243234, 434.8690237961532, 430.4698041019105, 421.9770437941541, 377.73140175233607, 289.12042405182507, 260.3070183673818, 247.45343140582662, 239.9084186078959, 239.423882316087, 238.02931831917675, 235.0047038262968, 234.11378353493393, 232.7692354210325, 228.83122715016458, 219.69229966224123, 218.6086816175343, 217.381510554955, 214.22459014873658, 213.08452039238634, 191.26189365017814, 421.94766305160334, 2128.7213549749727, 582.166257629217, 4592.372382176389, 418.27312313635684, 1001.3355135924745, 19825.88078671686, 1029.8624765832571, 2560.8889525465806, 5157.515641224638, 479.78730408455954, 1216.0697154949025, 653.0919605426329, 2799.693133968741, 1553.77840884892, 22395.73917692789, 5485.5075161242785, 3105.432872417253, 3010.139324063811, 593.2666905631113, 539.519233472873, 437.3720702545445, 237.39011151001236, 122.02019786991909, 112.41123770437474, 103.99423675491455, 89.2551336224555, 62.547587822521244, 55.11516329365543, 40.35131931685188, 7101.685931071659, 4630.431677016338, 29.784811761741416, 4170.890636069384, 9820.807131241734, 6369.661890861926, 8564.917069694056, 128.14095723851355, 6878.159133294386, 10677.069084467845, 1.7267111047715753, 1.7266443268631753, 1.7258970230610828, 1.726074086628605, 1.725755213023472, 1.7255640479369971, 1.7253996910384246, 1.7251973067626807, 22395.73917692789, 1736.253913534454, 701.2630879069891, 641.7850815776198, 562.2867217814614, 456.47695213884106, 451.86720098046555, 440.2040673625906, 430.6554330889391, 405.4872138428109, 380.650776497541, 322.28699649106363, 320.6068110371363, 319.20697364564296, 315.4904100750287, 295.81708592424883, 288.130689890552, 280.04838743783023, 273.31032669698493, 265.4107115128609, 245.78046048108885, 238.72933614193354, 236.32629583954483, 231.73181055814453, 231.53925080970512, 222.3948091446197, 205.75660589663957, 202.12615099087665, 199.80050407534512, 199.05469428602626, 194.6294594841286, 441.9274869038731, 349.83017260628696, 577.2099727645891, 303.73330707988873, 303.36285126356546, 652.5303194310841, 697.5659092815908, 1029.8624765832571, 4592.372382176389, 850.7361393071179, 851.48431576185, 1174.4881092095732, 1764.6578352018016, 1890.3476065536588, 2101.1084683319627, 898.7324099657542, 868.2256370686753, 606.5157754805324, 451.2106267388899, 450.88507156952664, 427.406934176449, 401.7251644106909, 358.1839703581819, 305.59442907271904, 268.2155796932455, 264.3544709058319, 260.651276189423, 260.0650244298819, 251.8521908227382, 244.86238879779725, 235.5117456282107, 233.7155676913185, 226.55910846498998, 226.37253329802712, 211.10941987918306, 198.5388285519903, 186.44511672184728, 185.81813806300758, 185.11852302089483, 173.55073368251132, 169.8360486346389, 167.4955151917237, 165.4489430256787, 161.73620703004752, 159.13189559753832, 1420.4968275697559, 625.642436081146, 559.0111532653005, 727.8694349281708, 1509.2114089679137, 1861.5570353292783, 633.4236317812961, 3770.6453845514166, 303.00878901871914, 3667.7428406698104, 1538.7204528590078, 3924.590970963147, 1775.817178108504, 533.5515575415823, 1235.7711654542898, 2602.8301559475735, 1239.3055587869908, 1703.0665451277782, 1843.8942892935695, 1855.662648590847, 1589.131699768203, 19825.88078671686, 5008.58051689348, 1234.984316815027, 908.4930936171295, 908.3259412483989, 553.2578707941993, 495.16822411190367, 483.97874092133947, 463.6911238006771, 406.4644405318685, 370.54474090992454, 369.48216707816925, 346.77299599214797, 333.5600495257615, 318.6241985969794, 242.16424583024207, 235.85960610104024, 229.23290905149327, 218.6869229974927, 218.2412753436341, 217.6865845181152, 197.2168475105747, 195.20325303453927, 184.3064441631367, 171.22321159976548, 168.27545628433572, 161.99541633949508, 159.59014392782336, 159.17055473490672, 155.12444287529442, 149.86475502633604, 148.68133740740313, 146.1465088149556, 416.8799986079269, 368.007542612455, 659.8424251814122, 820.9801458563754, 296.03098043823167, 1067.2957223073254, 385.5039456964111, 682.106152526466, 455.08121856896713, 690.1194033524611, 342.47779940769465, 621.5902048142925, 1024.151351432417, 685.858222991055, 1019.2212710368444, 5622.277835646833, 11216.326131181731, 3128.0338455488704, 1270.9892355012007, 489.2735658823222, 363.18222602075474, 272.27778326760915, 254.08247850639904, 197.30469990268966, 191.03207563436487, 144.98084426484758, 133.62038732773578, 126.70887515417112, 108.59022424080926, 99.60954061997961, 94.4775659082029, 72.3448582207261, 63.98165782917976, 58.62431669353357, 56.679319568471215, 47.830106807309825, 47.56355083539423, 47.408457772870946, 46.25916312670593, 41.91935459517227, 41.70123893216592, 32.55635085137256, 30.795811577966322, 23.157266758783198, 1154.5813406903833, 16.45734800740904, 6878.159133294386, 768.3738164613081, 7101.685931071659, 2706.6100452783658, 793.2208775198673, 5296.2802112420495, 1234.9531413801374, 1003.121280820055, 822.3265853379918, 818.7961316330271, 682.9688273502227, 518.2451700398284, 494.7430792362026, 448.5697937470259, 436.54655166907196, 413.1947387436238, 362.61465292872373, 250.71547989668113, 248.0250165915726, 221.09938838370834, 220.73200733659547, 218.16339947726848, 203.9394370806991, 201.73981393053225, 197.96638781686497, 186.33264015030497, 184.45387148382625, 179.1853894789779, 170.68645057674195, 169.56929411233654, 168.05742114912474, 160.92852845496574, 145.52876038233268, 137.51559729921112, 135.9969088758723, 134.87071111599064, 686.5743053191148, 1287.6335373067457, 259.45039294871066, 699.3375982951366, 322.6447776985326, 896.8632240918178, 760.7337310296651, 1214.0099699871373, 2372.246763252361, 3313.013577812552, 1657.79355001002, 3354.250157763907, 781.9415514242336, 575.1965767855175, 509.2882796202394, 365.3595567265439, 364.3620685439589, 344.0829738718722, 319.6389881330666, 252.55721353951418, 234.76423423817346, 175.4508404226776, 171.343249904434, 157.84668630805132, 144.70684869193667, 143.9068939068115, 126.58572567002328, 116.80185386819628, 105.75251870684856, 95.60512468320465, 94.34200380344313, 92.34476896149853, 73.05685467118488, 72.14287039315857, 72.1240152613568, 71.62280256623822, 71.11397960989827, 65.21716575781778, 65.05047301731479, 57.17432904741481, 56.500404662619495, 99.72443302863078, 232.40078976051757, 480.0884382309187, 595.900412170313, 812.0770387806961, 1538.7204528590078, 1150.1800219065424, 1434.2101747679706, 622.1817454226734, 743.3822348167814, 2509.953525723043, 315.4548934502837, 868.4470119426906, 1163.2116997922406, 653.0919605426329, 301.304672668759, 1189.2358824207495, 3924.590970963147, 3449.336104753047, 6608.926913093371, 1764.6578352018016, 2527.1281595553833, 5157.515641224638, 6857.99796680949, 1214.7180195004132, 727.8371371590965, 392.28772184555027, 364.54918310693944, 292.44271925855134, 274.2509108585583, 213.5662095821649, 170.54367379378675, 165.88837368752567, 165.5386471536778, 109.73557711966653, 109.31482285116289, 107.98225762763693, 100.6335211539324, 92.36587807965726, 90.41933654880492, 62.77035786513747, 47.70916636531122, 44.55219249772337, 36.19127109563109, 27.19320614361688, 13.156003099470967, 10.066181870526094, 333.58237963079205, 1.7266443268631753, 1.7267111047715753, 1.725008415075433, 1.7249430361002784, 1.7258970230610828, 686.5743053191148, 1.726882754801991, 3261.9552650233836, 2374.0620640659304, 382.14745702181625, 315.70151456804933, 303.7209836420443, 206.91227348814908, 202.4148592599822, 194.25301191902798, 178.25779629377953, 177.6114662526984, 172.0026981231668, 166.29955396909872, 156.10103533357824, 154.6988739770709, 149.18679181593868, 130.26130011692294, 126.4173547139518, 120.4732267403457, 117.7568294917754, 112.68351403644706, 111.38198279843958, 110.36193307145943, 96.5183762941734, 91.6428435979951, 75.75692650250892, 74.95921520246634, 74.11398409352053, 69.99990409727724, 68.6202156664912, 66.34011541453053, 396.0889155804721, 258.6771606836664, 397.40821749876255, 388.98287422099554, 171.82693413921928, 125.5786846348846, 91.80082565061575, 73.76890315419212, 67.90233676189885, 26.09386070870478, 9.515242587611006, 7.978635615615183, 5.3708504675514135, 4.102047753164311, 1.725008415075433, 1.7249430361002784, 1.7248466789462238, 1.7249046662710505, 1.724914817665369, 1.7249359048349868, 1.7249276229850696, 1.7249847034735055, 1.724832527475885, 1.7248764786825634, 1.7248725823204878, 1.7248724352355769, 1.724875564048509, 1.724875656830126, 1.724875312883314, 1.7248630478981322, 1.7249029098654236, 1.7248349223376147, 1.7249228070258122], \"Category\": [\"Default\", \"Default\", \"Default\", \"Default\", \"Default\", \"Default\", \"Default\", \"Default\", \"Default\", \"Default\", \"Default\", \"Default\", \"Default\", \"Default\", \"Default\", \"Default\", \"Default\", \"Default\", \"Default\", \"Default\", \"Default\", \"Default\", \"Default\", \"Default\", \"Default\", \"Default\", \"Default\", \"Default\", \"Default\", \"Default\", \"Topic1\", \"Topic1\", \"Topic1\", \"Topic1\", \"Topic1\", \"Topic1\", \"Topic1\", \"Topic1\", \"Topic1\", \"Topic1\", \"Topic1\", \"Topic1\", \"Topic1\", \"Topic1\", \"Topic1\", \"Topic1\", \"Topic1\", \"Topic1\", \"Topic1\", \"Topic1\", \"Topic1\", \"Topic1\", \"Topic1\", \"Topic1\", \"Topic1\", \"Topic1\", \"Topic1\", \"Topic1\", \"Topic1\", \"Topic1\", \"Topic1\", \"Topic1\", \"Topic1\", \"Topic1\", \"Topic1\", \"Topic1\", \"Topic1\", \"Topic1\", \"Topic1\", \"Topic1\", \"Topic1\", \"Topic1\", \"Topic1\", \"Topic1\", \"Topic1\", \"Topic1\", \"Topic1\", \"Topic1\", \"Topic1\", \"Topic1\", \"Topic1\", \"Topic1\", \"Topic1\", \"Topic1\", \"Topic1\", \"Topic1\", \"Topic1\", \"Topic1\", \"Topic1\", \"Topic1\", \"Topic1\", \"Topic1\", \"Topic2\", \"Topic2\", \"Topic2\", \"Topic2\", \"Topic2\", \"Topic2\", \"Topic2\", \"Topic2\", \"Topic2\", \"Topic2\", \"Topic2\", \"Topic2\", \"Topic2\", \"Topic2\", \"Topic2\", \"Topic2\", \"Topic2\", \"Topic2\", \"Topic2\", \"Topic2\", \"Topic2\", \"Topic2\", \"Topic2\", \"Topic2\", \"Topic2\", \"Topic2\", \"Topic2\", \"Topic2\", \"Topic2\", \"Topic2\", \"Topic2\", \"Topic2\", \"Topic2\", \"Topic2\", \"Topic2\", \"Topic2\", \"Topic2\", \"Topic2\", \"Topic2\", \"Topic2\", \"Topic2\", \"Topic2\", \"Topic2\", \"Topic2\", \"Topic2\", \"Topic2\", \"Topic2\", \"Topic2\", \"Topic2\", \"Topic2\", \"Topic2\", \"Topic2\", \"Topic2\", \"Topic2\", \"Topic2\", \"Topic2\", \"Topic2\", \"Topic3\", \"Topic3\", \"Topic3\", \"Topic3\", \"Topic3\", \"Topic3\", \"Topic3\", \"Topic3\", \"Topic3\", \"Topic3\", \"Topic3\", \"Topic3\", \"Topic3\", \"Topic3\", \"Topic3\", \"Topic3\", \"Topic3\", \"Topic3\", \"Topic3\", \"Topic3\", \"Topic3\", \"Topic3\", \"Topic3\", \"Topic3\", \"Topic3\", \"Topic3\", \"Topic3\", \"Topic3\", \"Topic3\", \"Topic3\", \"Topic3\", \"Topic3\", \"Topic3\", \"Topic3\", \"Topic3\", \"Topic3\", \"Topic3\", \"Topic3\", \"Topic3\", \"Topic3\", \"Topic3\", \"Topic3\", \"Topic3\", \"Topic3\", \"Topic4\", \"Topic4\", \"Topic4\", \"Topic4\", \"Topic4\", \"Topic4\", \"Topic4\", \"Topic4\", \"Topic4\", \"Topic4\", \"Topic4\", \"Topic4\", \"Topic4\", \"Topic4\", \"Topic4\", \"Topic4\", \"Topic4\", \"Topic4\", \"Topic4\", \"Topic4\", \"Topic4\", \"Topic4\", \"Topic4\", \"Topic4\", \"Topic4\", \"Topic4\", \"Topic4\", \"Topic4\", \"Topic4\", \"Topic4\", \"Topic4\", \"Topic4\", \"Topic4\", \"Topic4\", \"Topic4\", \"Topic4\", \"Topic4\", \"Topic4\", \"Topic4\", \"Topic4\", \"Topic4\", \"Topic4\", \"Topic4\", \"Topic4\", \"Topic4\", \"Topic4\", \"Topic4\", \"Topic4\", \"Topic4\", \"Topic4\", \"Topic5\", \"Topic5\", \"Topic5\", \"Topic5\", \"Topic5\", \"Topic5\", \"Topic5\", \"Topic5\", \"Topic5\", \"Topic5\", \"Topic5\", \"Topic5\", \"Topic5\", \"Topic5\", \"Topic5\", \"Topic5\", \"Topic5\", \"Topic5\", \"Topic5\", \"Topic5\", \"Topic5\", \"Topic5\", \"Topic5\", \"Topic5\", \"Topic5\", \"Topic5\", \"Topic5\", \"Topic5\", \"Topic5\", \"Topic5\", \"Topic5\", \"Topic5\", \"Topic5\", \"Topic5\", \"Topic5\", \"Topic5\", \"Topic5\", \"Topic5\", \"Topic5\", \"Topic5\", \"Topic5\", \"Topic5\", \"Topic5\", \"Topic5\", \"Topic5\", \"Topic5\", \"Topic5\", \"Topic5\", \"Topic5\", \"Topic5\", \"Topic5\", \"Topic5\", \"Topic6\", \"Topic6\", \"Topic6\", \"Topic6\", \"Topic6\", \"Topic6\", \"Topic6\", \"Topic6\", \"Topic6\", \"Topic6\", \"Topic6\", \"Topic6\", \"Topic6\", \"Topic6\", \"Topic6\", \"Topic6\", \"Topic6\", \"Topic6\", \"Topic6\", \"Topic6\", \"Topic6\", \"Topic6\", \"Topic6\", \"Topic6\", \"Topic6\", \"Topic6\", \"Topic6\", \"Topic6\", \"Topic6\", \"Topic6\", \"Topic6\", \"Topic6\", \"Topic6\", \"Topic6\", \"Topic6\", \"Topic6\", \"Topic6\", \"Topic6\", \"Topic6\", \"Topic6\", \"Topic6\", \"Topic6\", \"Topic6\", \"Topic6\", \"Topic6\", \"Topic6\", \"Topic6\", \"Topic6\", \"Topic6\", \"Topic7\", \"Topic7\", \"Topic7\", \"Topic7\", \"Topic7\", \"Topic7\", \"Topic7\", \"Topic7\", \"Topic7\", \"Topic7\", \"Topic7\", \"Topic7\", \"Topic7\", \"Topic7\", \"Topic7\", \"Topic7\", \"Topic7\", \"Topic7\", \"Topic7\", \"Topic7\", \"Topic7\", \"Topic7\", \"Topic7\", \"Topic7\", \"Topic7\", \"Topic7\", \"Topic7\", \"Topic7\", \"Topic7\", \"Topic7\", \"Topic7\", \"Topic7\", \"Topic7\", \"Topic7\", \"Topic7\", \"Topic7\", \"Topic7\", \"Topic7\", \"Topic7\", \"Topic7\", \"Topic7\", \"Topic7\", \"Topic7\", \"Topic7\", \"Topic7\", \"Topic8\", \"Topic8\", \"Topic8\", \"Topic8\", \"Topic8\", \"Topic8\", \"Topic8\", \"Topic8\", \"Topic8\", \"Topic8\", \"Topic8\", \"Topic8\", \"Topic8\", \"Topic8\", \"Topic8\", \"Topic8\", \"Topic8\", \"Topic8\", \"Topic8\", \"Topic8\", \"Topic8\", \"Topic8\", \"Topic8\", \"Topic8\", \"Topic8\", \"Topic8\", \"Topic8\", \"Topic8\", \"Topic8\", \"Topic8\", \"Topic8\", \"Topic8\", \"Topic8\", \"Topic8\", \"Topic8\", \"Topic8\", \"Topic8\", \"Topic8\", \"Topic8\", \"Topic8\", \"Topic8\", \"Topic8\", \"Topic8\", \"Topic8\", \"Topic8\", \"Topic8\", \"Topic8\", \"Topic8\", \"Topic8\", \"Topic8\", \"Topic8\", \"Topic9\", \"Topic9\", \"Topic9\", \"Topic9\", \"Topic9\", \"Topic9\", \"Topic9\", \"Topic9\", \"Topic9\", \"Topic9\", \"Topic9\", \"Topic9\", \"Topic9\", \"Topic9\", \"Topic9\", \"Topic9\", \"Topic9\", \"Topic9\", \"Topic9\", \"Topic9\", \"Topic9\", \"Topic9\", \"Topic9\", \"Topic9\", \"Topic9\", \"Topic9\", \"Topic9\", \"Topic9\", \"Topic9\", \"Topic9\", \"Topic9\", \"Topic9\", \"Topic9\", \"Topic9\", \"Topic9\", \"Topic9\", \"Topic9\", \"Topic9\", \"Topic9\", \"Topic9\", \"Topic9\", \"Topic9\", \"Topic9\", \"Topic9\", \"Topic9\", \"Topic9\", \"Topic9\", \"Topic10\", \"Topic10\", \"Topic10\", \"Topic10\", \"Topic10\", \"Topic10\", \"Topic10\", \"Topic10\", \"Topic10\", \"Topic10\", \"Topic10\", \"Topic10\", \"Topic10\", \"Topic10\", \"Topic10\", \"Topic10\", \"Topic10\", \"Topic10\", \"Topic10\", \"Topic10\", \"Topic10\", \"Topic10\", \"Topic10\", \"Topic10\", \"Topic10\", \"Topic10\", \"Topic10\", \"Topic10\", \"Topic10\", \"Topic10\", \"Topic10\", \"Topic10\", \"Topic10\", \"Topic10\", \"Topic10\", \"Topic10\", \"Topic10\", \"Topic10\", \"Topic10\", \"Topic10\", \"Topic10\", \"Topic10\", \"Topic10\", \"Topic10\", \"Topic10\", \"Topic10\", \"Topic10\", \"Topic10\", \"Topic11\", \"Topic11\", \"Topic11\", \"Topic11\", \"Topic11\", \"Topic11\", \"Topic11\", \"Topic11\", \"Topic11\", \"Topic11\", \"Topic11\", \"Topic11\", \"Topic11\", \"Topic11\", \"Topic11\", \"Topic11\", \"Topic11\", \"Topic11\", \"Topic11\", \"Topic11\", \"Topic11\", \"Topic11\", \"Topic11\", \"Topic11\", \"Topic11\", \"Topic11\", \"Topic11\", \"Topic11\", \"Topic11\", \"Topic11\", \"Topic11\", \"Topic12\", \"Topic12\", \"Topic12\", \"Topic12\", \"Topic12\", \"Topic12\", \"Topic12\", \"Topic12\", \"Topic12\", \"Topic12\", \"Topic12\", \"Topic12\", \"Topic12\", \"Topic12\", \"Topic12\", \"Topic12\", \"Topic12\", \"Topic12\", \"Topic12\", \"Topic12\", \"Topic12\", \"Topic12\", \"Topic12\", \"Topic12\", \"Topic12\", \"Topic12\", \"Topic12\", \"Topic12\", \"Topic12\", \"Topic12\", \"Topic12\", \"Topic12\", \"Topic12\", \"Topic12\", \"Topic12\", \"Topic12\", \"Topic12\", \"Topic12\", \"Topic12\", \"Topic12\", \"Topic12\", \"Topic12\", \"Topic12\", \"Topic12\", \"Topic12\", \"Topic13\", \"Topic13\", \"Topic13\", \"Topic13\", \"Topic13\", \"Topic13\", \"Topic13\", \"Topic13\", \"Topic13\", \"Topic13\", \"Topic13\", \"Topic13\", \"Topic13\", \"Topic13\", \"Topic13\", \"Topic13\", \"Topic13\", \"Topic13\", \"Topic13\", \"Topic13\", \"Topic13\", \"Topic13\", \"Topic13\", \"Topic13\", \"Topic13\", \"Topic13\", \"Topic13\", \"Topic13\", \"Topic13\", \"Topic13\", \"Topic13\", \"Topic13\", \"Topic13\", \"Topic13\", \"Topic13\", \"Topic13\", \"Topic13\", \"Topic13\", \"Topic13\", \"Topic13\", \"Topic13\", \"Topic13\", \"Topic13\", \"Topic13\", \"Topic13\", \"Topic13\", \"Topic13\", \"Topic13\", \"Topic13\", \"Topic13\", \"Topic13\", \"Topic13\", \"Topic13\", \"Topic13\", \"Topic14\", \"Topic14\", \"Topic14\", \"Topic14\", \"Topic14\", \"Topic14\", \"Topic14\", \"Topic14\", \"Topic14\", \"Topic14\", \"Topic14\", \"Topic14\", \"Topic14\", \"Topic14\", \"Topic14\", \"Topic14\", \"Topic14\", \"Topic14\", \"Topic14\", \"Topic14\", \"Topic14\", \"Topic14\", \"Topic14\", \"Topic14\", \"Topic14\", \"Topic14\", \"Topic14\", \"Topic14\", \"Topic14\", \"Topic14\", \"Topic14\", \"Topic14\", \"Topic14\", \"Topic14\", \"Topic14\", \"Topic14\", \"Topic14\", \"Topic14\", \"Topic14\", \"Topic14\", \"Topic14\", \"Topic14\", \"Topic14\", \"Topic14\", \"Topic14\", \"Topic14\", \"Topic15\", \"Topic15\", \"Topic15\", \"Topic15\", \"Topic15\", \"Topic15\", \"Topic15\", \"Topic15\", \"Topic15\", \"Topic15\", \"Topic15\", \"Topic15\", \"Topic15\", \"Topic15\", \"Topic15\", \"Topic15\", \"Topic15\", \"Topic15\", \"Topic15\", \"Topic15\", \"Topic15\", \"Topic15\", \"Topic15\", \"Topic15\", \"Topic15\", \"Topic15\", \"Topic15\", \"Topic15\", \"Topic15\", \"Topic15\", \"Topic15\", \"Topic15\", \"Topic15\", \"Topic15\", \"Topic15\", \"Topic15\", \"Topic16\", \"Topic16\", \"Topic16\", \"Topic16\", \"Topic16\", \"Topic16\", \"Topic16\", \"Topic16\", \"Topic16\", \"Topic16\", \"Topic16\", \"Topic16\", \"Topic16\", \"Topic16\", \"Topic16\", \"Topic16\", \"Topic16\", \"Topic16\", \"Topic16\", \"Topic16\", \"Topic16\", \"Topic16\", \"Topic16\", \"Topic16\", \"Topic16\", \"Topic16\", \"Topic16\", \"Topic16\", \"Topic16\", \"Topic16\", \"Topic16\", \"Topic16\", \"Topic16\", \"Topic16\", \"Topic16\", \"Topic16\", \"Topic16\", \"Topic16\", \"Topic16\", \"Topic16\", \"Topic16\", \"Topic17\", \"Topic17\", \"Topic17\", \"Topic17\", \"Topic17\", \"Topic17\", \"Topic17\", \"Topic17\", \"Topic17\", \"Topic17\", \"Topic17\", \"Topic17\", \"Topic17\", \"Topic17\", \"Topic17\", \"Topic17\", \"Topic17\", \"Topic17\", \"Topic17\", \"Topic17\", \"Topic17\", \"Topic17\", \"Topic17\", \"Topic17\", \"Topic17\", \"Topic17\", \"Topic17\", \"Topic17\", \"Topic17\", \"Topic17\", \"Topic17\", \"Topic17\", \"Topic17\", \"Topic17\", \"Topic17\", \"Topic17\", \"Topic17\", \"Topic17\", \"Topic17\", \"Topic17\", \"Topic17\", \"Topic17\", \"Topic17\", \"Topic17\", \"Topic17\", \"Topic17\", \"Topic17\", \"Topic17\", \"Topic17\", \"Topic17\", \"Topic17\", \"Topic17\", \"Topic17\", \"Topic18\", \"Topic18\", \"Topic18\", \"Topic18\", \"Topic18\", \"Topic18\", \"Topic18\", \"Topic18\", \"Topic18\", \"Topic18\", \"Topic18\", \"Topic18\", \"Topic18\", \"Topic18\", \"Topic18\", \"Topic18\", \"Topic18\", \"Topic18\", \"Topic18\", \"Topic18\", \"Topic18\", \"Topic18\", \"Topic18\", \"Topic18\", \"Topic18\", \"Topic18\", \"Topic18\", \"Topic18\", \"Topic18\", \"Topic18\", \"Topic18\", \"Topic18\", \"Topic19\", \"Topic19\", \"Topic19\", \"Topic19\", \"Topic19\", \"Topic19\", \"Topic19\", \"Topic19\", \"Topic19\", \"Topic19\", \"Topic19\", \"Topic19\", \"Topic19\", \"Topic19\", \"Topic19\", \"Topic19\", \"Topic19\", \"Topic19\", \"Topic19\", \"Topic19\", \"Topic19\", \"Topic19\", \"Topic19\", \"Topic19\", \"Topic19\", \"Topic19\", \"Topic19\", \"Topic19\", \"Topic19\", \"Topic19\", \"Topic19\", \"Topic19\", \"Topic19\", \"Topic20\", \"Topic20\", \"Topic20\", \"Topic20\", \"Topic20\", \"Topic20\", \"Topic20\", \"Topic20\", \"Topic20\", \"Topic20\", \"Topic20\", \"Topic20\", \"Topic20\", \"Topic20\", \"Topic20\", \"Topic20\", \"Topic20\", \"Topic20\", \"Topic20\", \"Topic20\", \"Topic20\", \"Topic20\", \"Topic20\", \"Topic20\", \"Topic20\", \"Topic20\", \"Topic20\", \"Topic20\", \"Topic20\", \"Topic20\"], \"logprob\": [30.0, 29.0, 28.0, 27.0, 26.0, 25.0, 24.0, 23.0, 22.0, 21.0, 20.0, 19.0, 18.0, 17.0, 16.0, 15.0, 14.0, 13.0, 12.0, 11.0, 10.0, 9.0, 8.0, 7.0, 6.0, 5.0, 4.0, 3.0, 2.0, 1.0, -4.7677001953125, -4.563199996948242, -5.265999794006348, -5.318699836730957, -5.457200050354004, -5.527400016784668, -5.592899799346924, -5.620999813079834, -5.697500228881836, -5.824399948120117, -5.888500213623047, -5.930200099945068, -5.960999965667725, -6.057700157165527, -6.07450008392334, -6.125100135803223, -6.173399925231934, -6.177700042724609, -6.193699836730957, -6.252799987792969, -6.259300231933594, -6.281400203704834, -6.303500175476074, -6.394999980926514, -6.424499988555908, -6.438199996948242, -6.48859977722168, -6.515200138092041, -6.518700122833252, -6.518799781799316, -3.924099922180176, -5.00600004196167, -4.649600028991699, -4.701300144195557, -3.9992001056671143, -4.256800174713135, -5.734600067138672, -4.3003997802734375, -4.345300197601318, -5.381999969482422, -5.125199794769287, -5.021599769592285, -5.455999851226807, -4.831900119781494, -4.628499984741211, -5.271100044250488, -3.1851000785827637, -5.442699909210205, -4.39769983291626, -3.378000020980835, -4.791900157928467, -4.928199768066406, -4.956200122833252, -4.842100143432617, -5.189499855041504, -4.928699970245361, -4.995299816131592, -5.057300090789795, -5.00029993057251, -4.625899791717529, -5.238999843597412, -5.100100040435791, -3.7804999351501465, -4.286799907684326, -4.313799858093262, -4.634500026702881, -4.717100143432617, -4.856599807739258, -4.9369001388549805, -5.157299995422363, -5.231800079345703, -5.28380012512207, -5.298900127410889, -5.549900054931641, -5.559000015258789, -5.592299938201904, -5.647600173950195, -5.795300006866455, -5.896100044250488, -5.904799938201904, -5.928199768066406, -5.960899829864502, -5.962200164794922, -6.101099967956543, -6.108099937438965, -6.10860013961792, -6.117499828338623, -6.158699989318848, -6.160999774932861, -6.167500019073486, -6.176400184631348, -6.210999965667725, -5.04580020904541, -4.4278998374938965, -5.551799774169922, -4.807000160217285, -5.587100028991699, -5.097499847412109, -4.809899806976318, -5.519100189208984, -3.488100051879883, -4.178599834442139, -4.467100143432617, -5.144700050354004, -4.645199775695801, -5.070300102233887, -4.30649995803833, -4.728799819946289, -4.5329999923706055, -4.3414998054504395, -4.719699859619141, -4.717400074005127, -3.7279000282287598, -5.174499988555908, -4.4583001136779785, -4.115799903869629, -5.00540018081665, -4.942200183868408, -5.136300086975098, -0.5131999850273132, -2.6038999557495117, -3.09089994430542, -4.1691999435424805, -4.55019998550415, -5.274700164794922, -5.579599857330322, -5.647600173950195, -5.661300182342529, -5.668099880218506, -5.721799850463867, -5.74459981918335, -6.0177001953125, -6.046899795532227, -6.27209997177124, -6.539700031280518, -6.6367998123168945, -6.675000190734863, -6.697400093078613, -6.757199764251709, -6.84119987487793, -6.940100193023682, -7.027900218963623, -7.116799831390381, -7.127299785614014, -7.229100227355957, -7.351900100708008, -7.608699798583984, -7.628300189971924, -7.8105998039245605, -3.10260009765625, -3.934299945831299, -3.3647000789642334, -5.92110013961792, -4.6072998046875, -4.711599826812744, -4.7866997718811035, -4.3668999671936035, -4.861400127410889, -5.231900215148926, -5.214300155639648, -5.7153000831604, -5.559800148010254, -6.179800033569336, -3.092600107192993, -3.1243999004364014, -3.17549991607666, -4.33459997177124, -4.558800220489502, -4.590799808502197, -4.872300148010254, -5.090199947357178, -5.547100067138672, -5.588399887084961, -5.604000091552734, -5.639400005340576, -5.981800079345703, -6.024600028991699, -6.120500087738037, -6.301599979400635, -6.366199970245361, -6.389400005340576, -6.563600063323975, -6.589399814605713, -6.617400169372559, -6.6468000411987305, -6.72790002822876, -6.746099948883057, -6.817299842834473, -6.913700103759766, -2.873500108718872, -7.011300086975098, -7.039000034332275, -7.252099990844727, -2.5195999145507812, -2.420599937438965, -3.5957999229431152, -2.569700002670288, -3.7946999073028564, -4.040800094604492, -2.963900089263916, -5.366499900817871, -5.864099979400635, -5.928800106048584, -2.767699956893921, -4.366099834442139, -2.9842000007629395, -4.079400062561035, -3.8654000759124756, -2.7451000213623047, -3.7147998809814453, -3.4052000045776367, -4.140699863433838, -4.199999809265137, -3.6891000270843506, -4.09630012512207, -4.098400115966797, -4.160200119018555, -4.395999908447266, -4.398099899291992, -4.419300079345703, -4.4309000968933105, -4.505300045013428, -4.524099826812744, -4.572199821472168, -4.612500190734863, -4.704800128936768, -4.723599910736084, -4.810400009155273, -4.835899829864502, -4.917200088500977, -5.015200138092041, -5.0441999435424805, -5.079800128936768, -5.269400119781494, -5.27269983291626, -5.367499828338623, -5.395199775695801, -5.469799995422363, -5.528800010681152, -5.552999973297119, -5.560699939727783, -5.565400123596191, -5.5782999992370605, -4.514100074768066, -4.6666998863220215, -3.240299940109253, -4.244699954986572, -4.75540018081665, -4.929100036621094, -4.728000164031982, -4.459400177001953, -3.7190001010894775, -4.685699939727783, -4.569799900054932, -3.9100000858306885, -3.781100034713745, -3.5806000232696533, -4.5817999839782715, -4.331399917602539, -4.397600173950195, -4.537099838256836, -4.598100185394287, -4.412300109863281, -4.4496002197265625, -4.4893999099731445, -3.1054999828338623, -4.381899833679199, -4.459099769592285, -4.567599773406982, -4.624199867248535, -4.745100021362305, -4.874800205230713, -4.899400234222412, -4.903299808502197, -4.966899871826172, -5.00439977645874, -5.02239990234375, -5.023600101470947, -5.067399978637695, -5.077499866485596, -5.078999996185303, -5.107100009918213, -5.172100067138672, -5.187600135803223, -5.196499824523926, -5.204500198364258, -5.230299949645996, -5.238500118255615, -5.245800018310547, -5.381199836730957, -5.440299987792969, -5.452199935913086, -5.488900184631348, -5.559199810028076, -5.5808000564575195, -4.657400131225586, -4.186100006103516, -4.803299903869629, -4.17609977722168, -4.073999881744385, -5.119200229644775, -3.895699977874756, -4.970399856567383, -3.7751998901367188, -4.235499858856201, -4.315800189971924, -5.057799816131592, -4.7778000831604, -4.882800102233887, -4.738999843597412, -4.750999927520752, -4.904099941253662, -5.042500019073486, -5.056000232696533, -3.6600000858306885, -4.46019983291626, -4.470099925994873, -4.506899833679199, -4.512899875640869, -4.550600051879883, -4.78249979019165, -4.807199954986572, -4.820099830627441, -4.821000099182129, -4.82450008392334, -4.846199989318848, -4.924099922180176, -4.952300071716309, -4.993299961090088, -5.039999961853027, -5.0543999671936035, -5.086599826812744, -5.0945000648498535, -5.154200077056885, -5.213699817657471, -5.238100051879883, -5.28410005569458, -5.296599864959717, -5.362299919128418, -5.404399871826172, -5.411200046539307, -5.428299903869629, -5.4653000831604, -5.465700149536133, -4.335299968719482, -4.880000114440918, -4.784200191497803, -4.735499858856201, -4.8429999351501465, -4.468500137329102, -4.35890007019043, -4.689499855041504, -4.6869001388549805, -4.649899959564209, -4.933800220489502, -4.986599922180176, -4.974999904632568, -5.020599842071533, -5.039299964904785, -3.5148000717163086, -3.8159000873565674, -3.9626998901367188, -4.112800121307373, -4.468400001525879, -4.507999897003174, -4.561800003051758, -4.637199878692627, -4.76140022277832, -4.773099899291992, -4.835299968719482, -4.838600158691406, -4.8572001457214355, -4.892899990081787, -4.915800094604492, -4.922800064086914, -4.93779993057251, -4.994200229644775, -5.007999897003174, -5.06850004196167, -5.142399787902832, -5.174799919128418, -5.230899810791016, -5.327300071716309, -5.3333001136779785, -5.369900226593018, -5.387499809265137, -5.388500213623047, -5.433700084686279, -5.447999954223633, -4.158699989318848, -4.482500076293945, -4.946000099182129, -4.954599857330322, -4.541999816894531, -5.025199890136719, -4.711900234222412, -4.705100059509277, -4.162799835205078, -4.288599967956543, -4.810500144958496, -4.4741997718811035, -4.611100196838379, -4.698400020599365, -4.730000019073486, -4.378799915313721, -4.659900188446045, -4.802199840545654, -4.817699909210205, -4.84119987487793, -4.8491997718811035, -2.670599937438965, -2.7291998863220215, -2.956899881362915, -3.660399913787842, -4.024799823760986, -4.2153000831604, -4.34660005569458, -4.396999835968018, -4.530300140380859, -4.812900066375732, -4.821499824523926, -4.821800231933594, -4.822000026702881, -5.011099815368652, -5.030399799346924, -5.0503997802734375, -5.084000110626221, -5.172800064086914, -5.174499988555908, -5.209000110626221, -5.29040002822876, -5.324699878692627, -5.358799934387207, -5.413599967956543, -5.423600196838379, -5.464099884033203, -5.473299980163574, -5.568699836730957, -5.576700210571289, -5.597899913787842, -3.738300085067749, -3.7281999588012695, -3.4428999423980713, -4.616000175476074, -4.377699851989746, -4.1539998054504395, -4.155300140380859, -3.563699960708618, -3.7286999225616455, -3.8622000217437744, -3.7564001083374023, -4.002900123596191, -4.659999847412109, -4.55079984664917, -4.781899929046631, -4.421800136566162, -4.406700134277344, -3.071000099182129, -3.1465001106262207, -3.328700065612793, -4.009799957275391, -4.081600189208984, -4.200799942016602, -4.336999893188477, -4.421800136566162, -4.571400165557861, -4.572999954223633, -4.58650016784668, -4.596700191497803, -4.616700172424316, -4.72790002822876, -4.996600151062012, -5.102200031280518, -5.153200149536133, -5.184299945831299, -5.186399936676025, -5.192200183868408, -5.205100059509277, -5.208899974822998, -5.214700222015381, -5.231900215148926, -5.2729997634887695, -5.2779998779296875, -5.283599853515625, -5.298399925231934, -5.303800106048584, -5.412700176239014, -4.67609977722168, -3.4381000995635986, -4.585299968719482, -3.2888998985290527, -4.876299858093262, -4.432700157165527, -2.9728000164031982, -4.59689998626709, -4.369999885559082, -4.21999979019165, -5.020500183105469, -4.839099884033203, -5.000500202178955, -4.804100036621094, -4.912199974060059, -4.663300037384033, -4.8317999839782715, -4.882400035858154, -2.5933001041412354, -4.219600200653076, -4.314799785614014, -4.525400161743164, -5.139699935913086, -5.811699867248535, -5.894899845123291, -5.973899841308594, -6.12939977645874, -6.4928998947143555, -6.623000144958496, -6.946000099182129, -1.7817000150680542, -2.212599992752075, -7.264599800109863, -2.3736000061035156, -1.5601999759674072, -2.5485000610351562, -2.4505999088287354, -6.883900165557861, -3.358099937438965, -3.647599935531616, -12.910599708557129, -12.911100387573242, -12.913200378417969, -12.913599967956543, -12.913999557495117, -12.914600372314453, -12.914999961853027, -12.915399551391602, -6.137700080871582, -3.140000104904175, -4.047999858856201, -4.136899948120117, -4.269499778747559, -4.478600025177002, -4.488800048828125, -4.515100002288818, -4.537099838256836, -4.597499847412109, -4.660999774932861, -4.828199863433838, -4.833499908447266, -4.837900161743164, -4.849699974060059, -4.914400100708008, -4.940899848937988, -4.9695000648498535, -4.99399995803833, -5.023499965667725, -5.100800037384033, -5.130099773406982, -5.1402997970581055, -5.160099983215332, -5.160900115966797, -5.201499938964844, -5.279900074005127, -5.297800064086914, -5.309500217437744, -5.313300132751465, -5.335999965667725, -4.583700180053711, -4.827400207519531, -4.431000232696533, -4.962299823760986, -4.966700077056885, -4.375500202178955, -4.512499809265137, -4.361400127410889, -4.003900051116943, -4.654600143432617, -4.655600070953369, -4.568399906158447, -4.578999996185303, -4.71750020980835, -4.705699920654297, -3.794100046157837, -3.828700065612793, -4.188199996948242, -4.484899997711182, -4.4857001304626465, -4.539299964904785, -4.601500034332275, -4.716800212860107, -4.876299858093262, -5.007599830627441, -5.022200107574463, -5.036399841308594, -5.038599967956543, -5.070899963378906, -5.099299907684326, -5.138500213623047, -5.146200180053711, -5.177499771118164, -5.178299903869629, -5.248700141906738, -5.310500144958496, -5.373899936676025, -5.377299785614014, -5.381100177764893, -5.446300029754639, -5.468100070953369, -5.482100009918213, -5.494500160217285, -5.517499923706055, -5.533899784088135, -3.3773000240325928, -4.26140022277832, -4.47790002822876, -4.34089994430542, -3.8501999378204346, -3.7876999378204346, -4.54040002822876, -3.3828001022338867, -5.079100131988525, -3.6649999618530273, -4.1915998458862305, -3.809499979019165, -4.264999866485596, -4.826499938964844, -4.496200084686279, -4.219399929046631, -4.513700008392334, -4.486199855804443, -4.483699798583984, -4.582900047302246, -4.692800045013428, -4.259399890899658, -4.501999855041504, -4.766200065612793, -3.4377999305725098, -3.437999963760376, -3.9349000453948975, -4.046199798583984, -4.0690999031066895, -4.112100124359131, -4.24429988861084, -4.337200164794922, -4.340099811553955, -4.403800010681152, -4.44290018081665, -4.488900184631348, -4.764900207519531, -4.791500091552734, -4.820199966430664, -4.867599964141846, -4.869699954986572, -4.872300148010254, -4.971799850463867, -4.9822001457214355, -5.04010009765625, -5.1143999099731445, -5.131899833679199, -5.170400142669678, -5.185500144958496, -5.1880998611450195, -5.214200019836426, -5.249000072479248, -5.256999969482422, -5.274400234222412, -4.232500076293945, -4.407299995422363, -3.8951001167297363, -3.8929998874664307, -4.728899955749512, -3.977400064468384, -4.632500171661377, -4.4253997802734375, -4.633299827575684, -4.475399971008301, -4.783100128173828, -4.5980000495910645, -4.531799793243408, -4.682300090789795, -4.638599872589111, -4.458899974822998, -0.7135000228881836, -1.9909000396728516, -2.8922998905181885, -3.8489999771118164, -4.148200035095215, -4.43779993057251, -4.507400035858154, -4.762199878692627, -4.7947001457214355, -5.073400020599365, -5.155900001525879, -5.209700107574463, -5.366199970245361, -5.453999996185303, -5.507800102233887, -5.780099868774414, -5.906000137329102, -5.9959001541137695, -6.030600070953369, -6.205900192260742, -6.211699962615967, -6.215099811553955, -6.240499973297119, -6.342899799346924, -6.348299980163574, -6.607500076293945, -6.666200160980225, -6.970099925994873, -3.085700035095215, -7.343299865722656, -3.708199977874756, -5.171299934387207, -4.304900169372559, -4.84660005569458, -5.8155999183654785, -5.488399982452393, -2.9107000827789307, -3.11899995803833, -3.3180999755859375, -3.3224000930786133, -3.504199981689453, -3.780900001525879, -3.827500104904175, -3.925800085067749, -3.9530999660491943, -4.008299827575684, -4.139400005340576, -4.510499954223633, -4.521299839019775, -4.63700008392334, -4.638700008392334, -4.6504998207092285, -4.718500137329102, -4.729400157928467, -4.7484002113342285, -4.809500217437744, -4.819699764251709, -4.848999977111816, -4.8979997634887695, -4.904699802398682, -4.913700103759766, -4.957499980926514, -5.059199810028076, -5.116499900817871, -5.127699851989746, -5.136099815368652, -3.5162999629974365, -3.0374999046325684, -4.5671000480651855, -3.8025999069213867, -4.484600067138672, -4.0040998458862305, -4.0960001945495605, -4.079500198364258, -4.166399955749512, -4.292600154876709, -4.519899845123291, -1.9062999486923218, -3.3642001152038574, -3.671999931335449, -3.794100046157837, -4.127500057220459, -4.130300045013428, -4.18779993057251, -4.261899948120117, -4.498799800872803, -4.572400093078613, -4.866000175476074, -4.889900207519531, -4.972799777984619, -5.060699939727783, -5.066299915313721, -5.196100234985352, -5.277699947357178, -5.378600120544434, -5.481100082397461, -5.494699954986572, -5.516499996185303, -5.7555999755859375, -5.768499851226807, -5.768799781799316, -5.775899887084961, -5.783199787139893, -5.8719000816345215, -5.874499797821045, -6.007199764251709, -6.019400119781494, -5.4644999504089355, -4.746300220489502, -4.126399993896484, -3.9453001022338867, -3.777600049972534, -3.3046000003814697, -3.5562000274658203, -3.4035000801086426, -4.1178998947143555, -4.077000141143799, -3.3803000450134277, -4.73769998550415, -4.125, -4.150899887084961, -4.479499816894531, -4.894999980926514, -4.619100093841553, -4.452199935913086, -4.487599849700928, -4.49970006942749, -4.694499969482422, -4.717199802398682, -4.7322001457214355, -0.6988000273704529, -2.430799961090088, -2.9439001083374023, -3.5638999938964844, -3.637500047683716, -3.8589999675750732, -3.9235999584198, -4.1753997802734375, -4.402400016784668, -4.430300235748291, -4.432400226593018, -4.848700046539307, -4.85260009765625, -4.864999771118164, -4.936600208282471, -5.023799896240234, -5.045499801635742, -5.418600082397461, -5.701499938964844, -5.772500038146973, -5.989200115203857, -6.290800094604492, -7.087699890136719, -7.400000095367432, -4.646200180053711, -11.965399742126465, -11.965399742126465, -11.967000007629395, -11.967300415039062, -11.96679973602295, -7.056700229644775, -11.966500282287598, -1.3978999853134155, -1.7158000469207764, -3.5459001064300537, -3.7379000186920166, -3.776700019836426, -4.163099765777588, -4.185299873352051, -4.226799964904785, -4.313499927520752, -4.3171000480651855, -4.3495001792907715, -4.383600234985352, -4.447500228881836, -4.456600189208984, -4.493299961090088, -4.6305999755859375, -4.660900115966797, -4.709700107574463, -4.732800006866455, -4.777500152587891, -4.789299964904785, -4.798600196838379, -4.934800148010254, -4.987599849700928, -5.18179988861084, -5.192599773406982, -5.20419979095459, -5.262599945068359, -5.2829999923706055, -5.317699909210205, -3.958899974822998, -4.615699768066406, -4.725200176239014, -1.8178000450134277, -2.6403000354766846, -2.95740008354187, -3.275700092315674, -3.4988999366760254, -3.5838000774383545, -4.581200122833252, -5.716100215911865, -5.933899879455566, -6.466300010681152, -6.8850998878479, -10.54520034790039, -10.54539966583252, -10.545499801635742, -10.545499801635742, -10.545499801635742, -10.545499801635742, -10.545499801635742, -10.54539966583252, -10.545499801635742, -10.545499801635742, -10.545499801635742, -10.545499801635742, -10.545499801635742, -10.545499801635742, -10.545499801635742, -10.545599937438965, -10.545499801635742, -10.545599937438965, -10.545499801635742], \"loglift\": [30.0, 29.0, 28.0, 27.0, 26.0, 25.0, 24.0, 23.0, 22.0, 21.0, 20.0, 19.0, 18.0, 17.0, 16.0, 15.0, 14.0, 13.0, 12.0, 11.0, 10.0, 9.0, 8.0, 7.0, 6.0, 5.0, 4.0, 3.0, 2.0, 1.0, 1.3577, 1.3573, 1.3573, 1.3572, 1.357, 1.3569, 1.3569, 1.3568, 1.3567, 1.3565, 1.3564, 1.3563, 1.3562, 1.356, 1.356, 1.3558, 1.3557, 1.3557, 1.3557, 1.3555, 1.3555, 1.3554, 1.3554, 1.3551, 1.355, 1.3549, 1.3548, 1.3547, 1.3547, 1.3547, 1.3131, 1.3208, 1.2549, 1.2482, 1.195, 1.1798, 1.2982, 1.1419, 1.1262, 1.2501, 1.2143, 1.1972, 1.2486, 1.1506, 1.1112, 1.2072, 0.7887, 1.2355, 0.9829, 0.7177, 1.0526, 1.0869, 1.0004, 0.9409, 1.079, 0.901, 0.8896, 0.862, 0.7151, 0.0887, 0.8871, -0.1651, 2.3065, 2.3061, 2.306, 2.3056, 2.3055, 2.3053, 2.3051, 2.3046, 2.3045, 2.3043, 2.3043, 2.3035, 2.3035, 2.3033, 2.3031, 2.3025, 2.302, 2.302, 2.3018, 2.3017, 2.3017, 2.3009, 2.3008, 2.3008, 2.3008, 2.3005, 2.3005, 2.3004, 2.3004, 2.3001, 2.2623, 2.228, 2.266, 2.1837, 2.2371, 2.1824, 2.1078, 2.2133, 1.8678, 1.977, 1.9788, 2.1157, 1.9061, 1.9933, 1.6902, 1.8314, 1.6294, 1.4139, 1.5628, 1.5502, 0.3678, 1.8843, 0.9222, -0.142, 1.4498, 0.4943, 0.8202, 2.3865, 2.3863, 2.3862, 2.3856, 2.3852, 2.3837, 2.3828, 2.3825, 2.3824, 2.3824, 2.3822, 2.3821, 2.3807, 2.3805, 2.379, 2.3767, 2.3758, 2.3753, 2.3751, 2.3744, 2.3733, 2.372, 2.3707, 2.3692, 2.369, 2.3672, 2.3647, 2.3584, 2.3578, 2.3522, 2.1258, 1.7441, 1.5846, 1.9038, 0.1908, 0.2234, 0.2215, -0.3932, -0.1468, -0.0007, -0.3037, 0.4786, 0.0947, -0.6298, 2.5601, 2.5601, 2.5601, 2.5591, 2.5588, 2.5587, 2.5582, 2.5576, 2.5559, 2.5557, 2.5557, 2.5555, 2.5534, 2.5531, 2.5524, 2.5508, 2.5502, 2.5499, 2.5479, 2.5476, 2.5472, 2.5468, 2.5457, 2.5454, 2.5443, 2.5427, 2.5422, 2.5409, 2.5403, 2.5356, 2.4942, 2.49, 2.4911, 2.4384, 2.3992, 2.2994, 2.1904, 2.4184, 2.457, 2.4549, 1.9469, 2.2042, 1.9651, 2.1483, 1.8131, 1.2287, 1.2202, 0.6905, 1.0876, 1.0311, 2.8473, 2.8468, 2.8468, 2.8467, 2.8463, 2.8463, 2.8462, 2.8462, 2.8461, 2.846, 2.8459, 2.8458, 2.8456, 2.8455, 2.8453, 2.8452, 2.845, 2.8446, 2.8445, 2.8444, 2.8436, 2.8436, 2.8431, 2.843, 2.8426, 2.8423, 2.8421, 2.8421, 2.842, 2.842, 2.8333, 2.811, 2.6958, 2.7214, 2.7649, 2.7671, 2.7105, 2.6036, 2.4021, 2.6605, 2.595, 2.2323, 2.0829, 1.8252, 2.46, 2.1001, 2.1795, 2.1743, 2.2234, 1.3274, 1.4352, 1.3404, 2.9601, 2.9585, 2.9584, 2.9581, 2.958, 2.9576, 2.9572, 2.9571, 2.9571, 2.9568, 2.9567, 2.9566, 2.9566, 2.9564, 2.9564, 2.9564, 2.9563, 2.956, 2.9559, 2.9559, 2.9558, 2.9557, 2.9557, 2.9556, 2.9549, 2.9545, 2.9545, 2.9542, 2.9538, 2.9536, 2.9275, 2.777, 2.7903, 2.5728, 2.5343, 2.8152, 2.0582, 2.7227, 1.6306, 1.6285, 1.6035, 2.7046, 2.144, 2.2799, 1.7042, 1.6805, 1.551, 1.2259, 1.5656, 3.07, 3.0686, 3.0685, 3.0684, 3.0684, 3.0683, 3.0676, 3.0675, 3.0675, 3.0674, 3.0674, 3.0674, 3.067, 3.0669, 3.0668, 3.0665, 3.0665, 3.0663, 3.0663, 3.066, 3.0657, 3.0655, 3.0653, 3.0652, 3.0648, 3.0645, 3.0645, 3.0644, 3.0641, 3.0641, 2.979, 2.8969, 2.8428, 2.818, 2.7886, 2.3699, 2.1222, 2.3563, 2.1547, 2.0292, 2.1332, 2.3518, 2.0224, 0.3852, 1.967, 3.2523, 3.2519, 3.2517, 3.2513, 3.2504, 3.2503, 3.2501, 3.2498, 3.2494, 3.2493, 3.249, 3.249, 3.2489, 3.2488, 3.2487, 3.2486, 3.2485, 3.2483, 3.2482, 3.2479, 3.2474, 3.2472, 3.2469, 3.2462, 3.2461, 3.2459, 3.2457, 3.2457, 3.2454, 3.2452, 3.0762, 2.9796, 3.0993, 3.0267, 2.7629, 3.033, 2.8053, 2.7882, 2.1899, 2.2716, 2.8249, 2.1969, 2.4168, 2.5742, 2.62, 1.6744, 2.188, 2.6642, 2.1041, 2.0681, 1.6676, 3.2887, 3.2887, 3.2886, 3.2878, 3.2872, 3.2868, 3.2864, 3.2863, 3.2859, 3.2848, 3.2847, 3.2847, 3.2847, 3.2838, 3.2837, 3.2836, 3.2834, 3.2828, 3.2828, 3.2826, 3.282, 3.2818, 3.2815, 3.2811, 3.281, 3.2807, 3.2806, 3.2797, 3.2796, 3.2794, 3.1446, 3.0909, 3.0059, 3.1219, 3.0146, 2.9532, 2.9306, 2.7244, 2.7145, 2.6978, 2.4506, 2.5854, 2.8851, 2.6926, 2.931, 1.806, 1.7144, 3.3318, 3.3318, 3.3316, 3.3306, 3.3304, 3.3301, 3.3297, 3.3295, 3.329, 3.329, 3.3289, 3.3289, 3.3288, 3.3283, 3.327, 3.3264, 3.326, 3.3258, 3.3258, 3.3258, 3.3257, 3.3257, 3.3256, 3.3255, 3.3252, 3.3252, 3.3251, 3.325, 3.325, 3.3241, 3.2694, 2.889, 3.0384, 2.2694, 3.078, 2.6486, 1.1229, 2.4563, 1.7723, 1.2223, 2.7966, 2.048, 2.5082, 1.2491, 1.7298, -0.6895, 0.5487, 1.0672, 3.3874, 3.3852, 3.3849, 3.3842, 3.3811, 3.3745, 3.3734, 3.3722, 3.3695, 3.3616, 3.358, 3.3468, 3.3406, 3.3374, 3.3318, 3.281, 3.2379, 2.6826, 2.4844, 2.2534, 1.7962, 1.0669, 0.5336, 0.5331, 0.5314, 0.531, 0.5308, 0.5303, 0.53, 0.5297, -2.1639, 3.3909, 3.3895, 3.3893, 3.3889, 3.3882, 3.3882, 3.3881, 3.388, 3.3878, 3.3875, 3.3867, 3.3867, 3.3867, 3.3866, 3.3863, 3.3861, 3.386, 3.3858, 3.3856, 3.3851, 3.3849, 3.3849, 3.3847, 3.3847, 3.3844, 3.3838, 3.3837, 3.3836, 3.3836, 3.3834, 3.3156, 3.3056, 3.2013, 3.312, 3.3088, 3.134, 2.9303, 2.6919, 1.5543, 2.5897, 2.5878, 2.3535, 1.9357, 1.7284, 1.6345, 3.3954, 3.3953, 3.3945, 3.3936, 3.3936, 3.3934, 3.3931, 3.3926, 3.3918, 3.3911, 3.391, 3.3909, 3.3909, 3.3907, 3.3905, 3.3902, 3.3902, 3.3899, 3.3899, 3.3894, 3.3889, 3.3884, 3.3883, 3.3883, 3.3877, 3.3875, 3.3873, 3.3872, 3.387, 3.3868, 3.3544, 3.2903, 3.1864, 3.0594, 2.8209, 2.6735, 2.9989, 2.3726, 3.1975, 2.1181, 2.4601, 1.9059, 2.2434, 2.8844, 2.3747, 1.9067, 2.3544, 2.064, 1.9871, 1.8815, 1.9267, -0.1638, 0.9695, 2.1054, 3.7408, 3.7408, 3.7397, 3.7393, 3.7393, 3.7391, 3.7386, 3.7382, 3.7382, 3.7379, 3.7377, 3.7375, 3.7359, 3.7357, 3.7355, 3.7351, 3.7351, 3.7351, 3.7343, 3.7342, 3.7337, 3.733, 3.7329, 3.7325, 3.7323, 3.7323, 3.732, 3.7317, 3.7316, 3.7314, 3.7252, 3.6751, 3.6034, 3.3869, 3.571, 3.0402, 3.4033, 3.0399, 3.2366, 2.9782, 3.3711, 2.9602, 2.527, 2.7775, 2.425, 0.897, 3.9518, 3.9514, 3.9506, 3.9485, 3.9474, 3.9458, 3.9454, 3.9435, 3.9432, 3.9405, 3.9395, 3.9388, 3.9366, 3.9352, 3.9343, 3.9289, 3.9258, 3.9234, 3.9224, 3.9168, 3.9166, 3.9165, 3.9156, 3.9118, 3.9116, 3.8999, 3.8969, 3.8781, 3.8532, 3.8464, 1.4461, 2.1748, 0.8174, 1.2404, 1.4987, -0.0727, 3.9609, 3.9606, 3.9602, 3.9602, 3.9598, 3.959, 3.9589, 3.9586, 3.9585, 3.9582, 3.9577, 3.9557, 3.9556, 3.9548, 3.9548, 3.9547, 3.9541, 3.9541, 3.9539, 3.9534, 3.9533, 3.953, 3.9526, 3.9525, 3.9524, 3.952, 3.9509, 3.9502, 3.9501, 3.95, 3.9425, 3.7923, 3.8648, 3.6376, 3.7293, 3.1874, 3.2602, 2.8092, 2.0524, 1.5922, 2.0572, 3.9661, 3.9645, 3.9637, 3.9633, 3.962, 3.962, 3.9617, 3.9614, 3.96, 3.9595, 3.9571, 3.9568, 3.956, 3.955, 3.955, 3.9534, 3.9523, 3.9508, 3.9491, 3.9488, 3.9484, 3.9436, 3.9433, 3.9433, 3.9431, 3.9429, 3.9408, 3.9407, 3.9371, 3.9367, 3.9235, 3.7956, 3.69, 3.6551, 3.5133, 3.3471, 3.3866, 3.3185, 3.4393, 3.3022, 2.7821, 3.4987, 3.0987, 2.7806, 3.0292, 3.3873, 2.2902, 1.2632, 1.3569, 0.6946, 1.8202, 1.4384, 0.71, 4.4585, 4.4574, 4.4565, 4.4545, 4.4542, 4.4531, 4.4527, 4.451, 4.4491, 4.4488, 4.4488, 4.4437, 4.4436, 4.4434, 4.4423, 4.4408, 4.4404, 4.4323, 4.4238, 4.4213, 4.4124, 4.3966, 4.3258, 4.2812, 3.5344, 1.4789, 1.4788, 1.4782, 1.4779, 1.4779, 0.402, 1.4776, 4.5025, 4.5023, 4.4987, 4.4978, 4.4976, 4.495, 4.4948, 4.4945, 4.4937, 4.4937, 4.4934, 4.4931, 4.4924, 4.4923, 4.4919, 4.4903, 4.4899, 4.4893, 4.489, 4.4883, 4.4882, 4.488, 4.4858, 4.4849, 4.4811, 4.4809, 4.4806, 4.4793, 4.4788, 4.478, 4.0499, 3.8191, 3.2803, 6.2091, 6.2037, 6.2001, 6.1951, 6.1906, 6.1886, 6.1476, 6.0214, 5.9798, 5.8431, 5.6939, 2.8999, 2.8998, 2.8998, 2.8998, 2.8998, 2.8998, 2.8998, 2.8998, 2.8998, 2.8997, 2.8997, 2.8997, 2.8997, 2.8997, 2.8997, 2.8997, 2.8997, 2.8997, 2.8997]}, \"token.table\": {\"Topic\": [20, 16, 15, 20, 12, 5, 6, 12, 14, 11, 14, 14, 3, 11, 18, 11, 8, 11, 9, 10, 10, 9, 4, 5, 9, 7, 12, 17, 10, 8, 8, 8, 8, 12, 6, 16, 9, 9, 4, 3, 4, 9, 12, 4, 3, 6, 20, 9, 13, 12, 20, 7, 12, 3, 4, 3, 20, 15, 9, 4, 4, 12, 17, 3, 17, 3, 4, 14, 3, 16, 5, 5, 15, 19, 3, 9, 2, 12, 4, 8, 14, 17, 9, 10, 17, 13, 4, 4, 12, 12, 15, 4, 3, 6, 10, 15, 14, 12, 15, 3, 4, 3, 9, 4, 18, 3, 4, 5, 18, 5, 3, 14, 12, 10, 10, 3, 7, 15, 6, 7, 12, 15, 9, 10, 12, 14, 4, 19, 3, 3, 4, 18, 17, 9, 3, 12, 3, 6, 3, 7, 12, 19, 4, 6, 12, 3, 4, 5, 11, 19, 3, 15, 4, 17, 3, 12, 3, 12, 14, 7, 10, 12, 18, 12, 12, 4, 20, 5, 9, 13, 4, 3, 4, 15, 19, 11, 18, 11, 14, 14, 3, 4, 12, 12, 9, 12, 3, 4, 3, 4, 4, 12, 3, 4, 5, 12, 14, 15, 18, 1, 17, 17, 2, 8, 14, 19, 5, 6, 8, 1, 2, 10, 19, 19, 7, 19, 6, 13, 4, 19, 3, 8, 11, 1, 6, 8, 10, 1, 1, 8, 10, 13, 16, 19, 5, 16, 2, 17, 15, 6, 16, 9, 1, 2, 7, 14, 2, 14, 14, 2, 14, 12, 16, 15, 5, 6, 7, 9, 10, 5, 13, 3, 11, 5, 1, 2, 10, 16, 10, 11, 2, 2, 8, 10, 17, 4, 5, 12, 1, 5, 13, 1, 5, 6, 18, 7, 6, 1, 6, 20, 5, 10, 8, 1, 17, 16, 9, 14, 13, 13, 16, 1, 5, 7, 13, 19, 5, 13, 1, 4, 5, 11, 15, 9, 12, 19, 9, 10, 1, 5, 1, 2, 16, 17, 2, 5, 7, 8, 17, 9, 8, 13, 14, 5, 6, 6, 10, 14, 2, 2, 13, 14, 14, 2, 8, 10, 6, 9, 9, 1, 2, 8, 10, 13, 17, 5, 16, 12, 1, 1, 5, 6, 17, 19, 17, 17, 2, 8, 7, 15, 3, 5, 7, 1, 9, 1, 7, 14, 2, 2, 5, 5, 17, 2, 16, 16, 7, 1, 3, 4, 11, 1, 7, 9, 5, 6, 7, 13, 1, 2, 7, 8, 13, 2, 14, 2, 3, 4, 17, 16, 17, 2, 6, 1, 6, 7, 1, 2, 14, 7, 1, 10, 13, 8, 19, 9, 16, 18, 1, 5, 10, 19, 1, 2, 3, 18, 1, 2, 2, 1, 1, 5, 16, 2, 15, 1, 3, 4, 5, 6, 11, 7, 17, 1, 8, 16, 9, 1, 9, 6, 7, 2, 6, 16, 8, 15, 6, 8, 12, 14, 16, 2, 2, 5, 6, 8, 17, 20, 10, 8, 17, 6, 19, 3, 1, 13, 17, 1, 2, 8, 10, 14, 17, 4, 2, 3, 10, 10, 8, 7, 9, 1, 2, 8, 14, 2, 13, 2, 1, 19, 19, 1, 2, 5, 6, 7, 8, 9, 10, 12, 17, 7, 2, 10, 14, 9, 13, 1, 5, 18, 16, 10, 14, 9, 14, 1, 10, 13, 13, 19, 1, 2, 10, 13, 13, 1, 2, 10, 17, 2, 14, 8, 12, 1, 15, 14, 19, 2, 7, 13, 1, 2, 6, 14, 1, 15, 2, 4, 11, 5, 10, 8, 7, 13, 3, 16, 18, 1, 2, 5, 6, 7, 10, 17, 2, 10, 14, 10, 10, 13, 10, 7, 7, 13, 18, 2, 17, 16, 6, 8, 7, 9, 15, 17, 4, 1, 5, 6, 7, 8, 9, 12, 1, 2, 6, 12, 1, 12, 8, 7, 1, 5, 9, 1, 6, 7, 9, 14, 5, 9, 1, 5, 5, 11, 8, 8, 14, 2, 4, 6, 10, 2, 13, 14, 1, 2, 8, 13, 17, 18, 2, 14, 1, 6, 7, 13, 2, 6, 8, 10, 13, 7, 2, 15, 3, 8, 1, 2, 13, 14, 2, 12, 6, 2, 8, 17, 1, 2, 8, 1, 6, 9, 1, 2, 10, 2, 8, 13, 14, 17, 3, 16, 15, 1, 1, 10, 1, 10, 1, 1, 17, 1, 7, 10, 18, 1, 3, 4, 11, 1, 5, 1, 13, 13, 14, 17, 16, 17, 6, 16, 14, 2, 17, 5, 15, 1, 2, 17, 2, 16, 12, 2, 12, 5, 19, 5, 6, 15, 2, 7, 14, 1, 2, 14, 6, 7, 7, 5, 1, 2, 8, 13, 5, 4, 16, 2, 14, 14, 19, 8, 15, 9, 13, 8, 1, 2, 5, 6, 6, 6, 1, 5, 6, 7, 5, 17, 1, 13, 11, 5, 11, 1, 2, 5, 6, 9, 10, 14, 4, 15, 8, 7, 9, 14, 19, 10, 1, 19, 1, 13, 19, 2, 13, 17, 7, 1, 8, 14, 6, 9, 5, 3, 4, 11, 5, 8, 15, 17, 18, 4, 5, 2, 1, 2, 13, 14, 14, 16, 18, 2, 6, 8, 6, 5, 13, 1, 10, 7, 17, 10, 1, 2, 6, 7, 13, 14, 7, 10, 1, 2, 7, 8, 10, 2, 12, 14, 5, 11, 7, 9, 1, 6, 8, 1, 2, 5, 7, 9, 14, 16, 12, 13, 18, 1, 18, 12, 1, 2, 1, 2, 10, 1, 2, 5, 16, 17, 1, 5, 7, 9, 17, 16, 2, 6, 8, 10, 12, 17, 2, 5, 6, 7, 9, 12, 8, 2, 6, 12, 9, 16, 18, 5, 3, 4, 1, 6, 8, 4, 11, 15, 5, 12, 13, 17, 1, 2, 10, 17, 1, 6, 12, 6, 19, 12, 17, 9, 13, 2, 8, 7, 1, 2, 6, 7, 14, 6, 9, 7, 17, 14, 16, 8, 1, 6, 13, 1, 2, 10, 13, 7, 8, 19, 10, 14, 7, 17, 6, 8, 19, 4, 1, 5, 10, 16, 1, 2, 4, 5, 7, 8, 10, 13, 15, 17, 2, 1, 7, 1, 2, 13, 1, 7, 8, 20, 10, 16, 12, 18, 1, 2, 7, 10, 16, 1, 5, 18, 6, 12, 1, 13, 2, 1, 1, 6, 9, 14, 2, 5, 1, 1, 15, 1, 5, 8, 16, 6, 7, 12, 7, 6, 8, 16, 19, 14, 5, 14, 13, 1, 1, 7, 8, 9, 14, 7, 10, 9, 6, 7, 9, 1, 18, 13, 1, 5, 6, 15, 1, 10, 13, 18, 1, 2, 12, 2, 17, 19, 9, 19, 17, 6, 12, 7, 8, 12, 8, 16, 1, 6, 8, 14, 9, 5, 6, 8, 17, 1, 2, 5, 7, 12, 1, 2, 7, 6, 2, 5, 6, 7, 1, 2, 3, 4, 10, 11, 1, 2, 13, 14, 2, 10, 2, 7, 1, 2, 8, 13, 15, 2, 1, 1, 9, 1, 16, 1, 2, 17, 1, 2, 8, 10, 9, 13, 10, 1, 2, 8, 10, 13, 4, 5, 2, 9, 10, 6, 8, 17, 18, 3, 14, 8, 2, 17, 1, 2, 5, 14, 1, 16, 17, 15, 16, 10, 18, 6, 1, 2, 5, 6, 7, 16, 5, 3, 4, 1, 1, 5, 16, 1, 2, 8, 14, 6, 16, 6, 4, 15, 13, 1, 2, 2, 14, 19, 7, 8, 13, 1, 2, 8, 10, 17, 2, 13, 6, 8, 7, 13, 15, 13, 1, 13, 1, 10, 5, 16, 20, 1, 12, 13, 14, 1, 2, 8, 17, 1, 5, 4, 1, 2, 8, 14, 17, 1, 15, 20, 1, 5, 9, 12, 17, 17, 15, 19, 10, 1, 2, 7, 10, 12, 13, 14, 1, 12, 3, 11, 4], \"Freq\": [0.9197565767641934, 0.9928480584548687, 0.9853557329683491, 0.4875613645543751, 0.9894810692211092, 0.9937909158980481, 0.9969559675207788, 0.9981988387400241, 0.9863049121343032, 0.9808235839105737, 0.9938358966060552, 0.9959115127297273, 0.04902350705804379, 0.9506673042709638, 0.9909485133077801, 0.994144189489739, 0.9980921311857507, 0.9968629221025797, 0.9923531474817, 0.990217401111316, 0.9940528810145715, 0.9937035270789746, 0.662232333989522, 0.11015939274456403, 0.2266986730998171, 0.07014725473897268, 0.9254911996206395, 0.9705505128401409, 0.9960032107670831, 0.9964234981315859, 0.9947770928140993, 0.9956161955458042, 0.9981732016078693, 0.9927560802962841, 0.9922633138835611, 0.9933845639846827, 0.9960641268382436, 0.9928944101329618, 0.9770844175077473, 0.04492898735564212, 0.7002931495832752, 0.15815003549186024, 0.09584850635870318, 0.9943732932079752, 0.9920004806722031, 0.9956581476885338, 0.9949024125420263, 0.9948543573171834, 0.9910713120287915, 0.997264751846105, 0.7447610065047318, 0.9962311960900673, 0.9925266602199615, 0.7704576311195602, 0.22921153667121238, 0.9756369693087042, 0.7520082742288986, 0.9814104519132113, 0.9983340568447693, 0.9833640435250951, 0.9864135324533458, 0.9926051268909906, 0.9996272914347151, 0.9661804785895678, 0.9857751187240084, 0.9991906063221994, 0.9952124233225595, 0.9876822666678835, 0.9852036006312891, 0.990504775254896, 0.9956749522187405, 0.9964121358350727, 0.9863372000977659, 0.9890181878290679, 0.9952167445547816, 0.9923342423878908, 0.9939667957005595, 0.9992778052077065, 0.9994592441009696, 0.9985603517071167, 0.9977264294633645, 0.970273360856829, 0.16689839499698547, 0.4379168896251178, 0.39198155155255304, 0.988555856073594, 0.9837254892795405, 0.9996712562097262, 0.9909884908264989, 0.09267428480700998, 0.9059560925993686, 0.9977578866624287, 0.9854199768260101, 0.9948596102318739, 0.9934022735731867, 0.969027719874492, 0.9924204259343645, 0.9956632782606404, 0.9865133744412783, 0.11468953764210721, 0.8851067713321877, 0.6175658622579886, 0.3802021124785576, 0.998203942628691, 0.9670840216558491, 0.9942177883207185, 0.9983041102476493, 0.5995520513444367, 0.3957043538873282, 0.9983923507371757, 0.9955123507829389, 0.9922861277008683, 0.9943878617703833, 0.9920452203429552, 0.9922969550373727, 0.9574371227151574, 0.996143098872549, 0.9416864993663234, 0.11434313874358096, 0.05717156937179048, 0.8263890481922442, 0.9542131644509307, 0.08544830208005527, 0.4165604726402694, 0.4961827541239573, 0.9946215879011668, 0.89996677168579, 0.09550667781155323, 0.9977269647260272, 0.09315932942179093, 0.9005401844106458, 0.9926663979979364, 0.9962788527041009, 0.9879180238904903, 0.9863956719762761, 0.9952758942033317, 0.999771631708961, 0.9972729745923835, 0.987425601908935, 0.07718030665807346, 0.9175880902682068, 0.9930101018020374, 0.9358893952810678, 0.03790048846980566, 0.026025002082599887, 0.9833904784719294, 0.9986064434840914, 0.9970735917501387, 0.9834437420592225, 0.976808371410755, 0.9938780681257299, 0.995307060119726, 0.9915555745153033, 0.9882047829293115, 0.9953519365839444, 0.9933520955763557, 0.9750050660308716, 0.9896777401136101, 0.9875570808759648, 0.9977784178610215, 0.7746134811879274, 0.21995197613978185, 0.9641753043382889, 0.9962188368510305, 0.9961560148514433, 0.9834530563439309, 0.8407562840716352, 0.15211608083548803, 0.8453032846427753, 0.9912423555014565, 0.9923721763767352, 0.14843009416963793, 0.8511088502247937, 0.9114469714833189, 0.9921854632914998, 0.9616228426579131, 0.9950666603627228, 0.9400764464782011, 0.9949024631395501, 0.9948871566914393, 0.05663677139642022, 0.7700697152891421, 0.17229001046642117, 0.9958678103291984, 0.550802864266937, 0.44745392598230915, 0.12916950019248982, 0.867857579418291, 0.9843053200937842, 0.9864649505322891, 0.9807938943973262, 0.9927558908564017, 0.06791341202139886, 0.9319862364480224, 0.9973104082550108, 0.9218613615080208, 0.07243196411848735, 0.9993498006577631, 0.9841840069991714, 0.3620346173577697, 0.6354076957707795, 0.991730786702518, 0.8253593619968598, 0.10033312070584113, 0.07166651478988652, 0.9876593945615507, 0.24009075551878614, 0.44186915643351066, 0.31671546472690937, 0.9985280765677322, 0.8838593117980562, 0.11492907459912804, 0.9883565889080838, 0.9797993204238984, 0.4909594633880607, 0.5064227535735114, 0.9964406148130072, 0.9957056102939889, 0.9885980711227965, 0.9875924026155967, 0.9934467569240891, 0.9910979719499542, 0.9752574339571252, 0.504592039996871, 0.06153561463376475, 0.4335894077271424, 0.9954163150209278, 0.9976152310889985, 0.23459103118505803, 0.506668258074945, 0.019347713912169735, 0.1402709258632306, 0.09794780168035928, 0.9738629173588003, 0.5374286591894579, 0.46049385113121605, 0.9320154146091525, 0.06507314831730569, 0.959204115375726, 0.9949809311904924, 0.9965004470454575, 0.9974254208699406, 0.31498213546648896, 0.1880628632344037, 0.3316576602853031, 0.16490241209716186, 0.9980137169285237, 0.9959885287837026, 0.9926459090573867, 0.2972057256579333, 0.7003823453004576, 0.9977116269482857, 0.9853165127621032, 0.9703715644214373, 0.18785986815999733, 0.15248365922077706, 0.16468235195843922, 0.49465699051220074, 0.9967030015338961, 0.9963094348093255, 0.9948763079315789, 0.9999817940209834, 0.9996215045414334, 0.9930300936348506, 0.5978973544163403, 0.20015724136004504, 0.20144442619194242, 0.992153347593336, 0.9919974770359341, 0.9874457595771154, 0.9979963480559603, 0.5079775330233297, 0.12390667668255337, 0.06175413146558126, 0.3059817610681704, 0.9958901885721777, 0.9921324060014265, 0.9937282297640648, 0.9976900892616936, 0.9952610886156484, 0.989189287849079, 0.24820404906812543, 0.4734648667097855, 0.27792596250695556, 0.981642746955037, 0.9967721095087867, 0.9937011818787367, 0.0297433929332153, 0.9666602703294973, 0.9803833392798721, 0.9851151801659458, 0.013030624076269124, 0.9969042944479589, 0.43906170371739744, 0.5599123508792158, 0.9861295970006282, 0.9973287990017589, 0.9928560410219104, 0.9866029648579684, 0.9926595917068547, 0.9880162425302644, 0.2094744064120914, 0.5352379134426599, 0.25414174307349324, 0.9926457228079392, 0.9820734109342824, 0.9216385310648807, 0.07572581116965953, 0.9985689339654281, 0.6907371446238181, 0.023988976818128813, 0.2035428336083657, 0.08156252118163797, 0.996083888340805, 0.9960066757111644, 0.9929439479230036, 0.9913869792610638, 0.9914745026641818, 0.9989181439998479, 0.9989765360094933, 0.5302816382752665, 0.4691974428812876, 0.15060189785097766, 0.8433706279654749, 0.4586220716250536, 0.05376948425948904, 0.1423309877457063, 0.34475728142848855, 0.9948723772946487, 0.9974041044177948, 0.34786378957937075, 0.5618828448824884, 0.08945068874898106, 0.34597674200080175, 0.6527510833792105, 0.41268286658353037, 0.5856761894443032, 0.9953230324555369, 0.9962270138931992, 0.2574043135827758, 0.2831447449410534, 0.4568926566094271, 0.9976407530713448, 0.6215160206779834, 0.3748073712485549, 0.0029652481902575547, 0.9970798125164676, 0.9945941886853219, 0.9991279631088047, 0.5256598751980801, 0.10013782401979908, 0.03592731090786685, 0.045864652222808736, 0.22499159951522288, 0.06701335296999276, 0.2014599475734692, 0.7934422550585863, 0.9967644540826853, 0.9980564414692327, 0.09407089342950135, 0.6786543025985454, 0.22653806989145223, 0.9813367271687689, 0.976388653828111, 0.9938342147599338, 0.9874731083490657, 0.36939733969220695, 0.627221605354931, 0.9114737401523972, 0.0857264375247068, 0.9887336288084404, 0.9969652715779767, 0.9960696884346304, 0.17900872074388025, 0.819752382118971, 0.6073663564020878, 0.39178575340037425, 0.9958311622339283, 0.9980491850624736, 0.9923481998324516, 0.998442516819797, 0.9948047981092398, 0.9832108928415358, 0.996489791974529, 0.99710853350346, 0.9946673022145051, 0.9935235527073184, 0.21798226238595564, 0.11500403237823582, 0.2617655234436596, 0.40514110898728767, 0.2572666387444495, 0.07305102087805355, 0.6669875819300543, 0.38015113728942335, 0.2681259229191102, 0.35076747450376744, 0.9900079310511569, 0.3658227962268921, 0.07090838340961786, 0.011818063901602976, 0.0655365361816165, 0.4850778046885222, 0.7309502079387711, 0.26785155270776445, 0.9925561044746426, 0.9665512683529205, 0.9907543784636416, 0.9773423754992354, 0.990490132225227, 0.9845734137899081, 0.9953339049108441, 0.9948335645459963, 0.13947155498709463, 0.37063274334533475, 0.4868590391679136, 0.046718356715885034, 0.2569509619373677, 0.6890957615593043, 0.996544162724311, 0.6745024925889523, 0.04939333979342868, 0.27449741295036595, 0.9977539447752116, 0.9877713349247221, 0.9963708850592609, 0.997885319691034, 0.996717404665402, 0.9981877246215507, 0.9982341930815781, 0.9949789353526491, 0.9943336689437546, 0.8962241250314281, 0.10277799598984268, 0.9960975258952671, 0.9886166001537715, 0.8365304944023335, 0.163295996487388, 0.9930492790484778, 0.9960668294915308, 0.14075208808629966, 0.858492419885286, 0.9984184489964092, 0.9963224424399524, 0.9500257620712399, 0.13752692293710775, 0.09184160949567126, 0.21665200188722453, 0.004709826127983142, 0.054947971493136655, 0.4939037666211655, 0.43477586603515966, 0.5608940561827632, 0.9975819892809893, 0.9965134249446043, 0.9900670621990434, 0.999324578299301, 0.28389167518178826, 0.7143411465765575, 0.9967677638605618, 0.9953973192338484, 0.13125616853352387, 0.8648843962298268, 0.9975973340190847, 0.9919436199492231, 0.9984348919364244, 0.9950108860994897, 0.33388817879313304, 0.04600821361322699, 0.12225039617228886, 0.4955741866339022, 0.999355439153086, 0.17988995235077018, 0.15827526815358461, 0.0104587181599285, 0.1275963615511277, 0.522935907996425, 0.9874287213672084, 0.9926412729557156, 0.9941137333613972, 0.9975170120826842, 0.9940140464883074, 0.9714765827343326, 0.9996668017277648, 0.2692790637916292, 0.7130399699380385, 0.015112600518917964, 0.12579565323500436, 0.6695385468909812, 0.17164640534869754, 0.0035269809318225526, 0.02821584745458042, 0.0005878301553037587, 0.9945238561840001, 0.9989305799741448, 0.9985516471806135, 0.9970605955457739, 0.9926659485964057, 0.9947255136132469, 0.9966566288388647, 0.9996097590808202, 0.8124445891506155, 0.08121117564635402, 0.09984980612256643, 0.005990988367353986, 0.18783167274333104, 0.8103595024069424, 0.9958259268770104, 0.9967642514605337, 0.9969973448711167, 0.9887882900480011, 0.1675205675086039, 0.09426581086924829, 0.13288072134580783, 0.04826863809569943, 0.009653727619139886, 0.20499974532408816, 0.16070617154215222, 0.01817172257720449, 0.11243753344645278, 0.05167583607892527, 0.9964020105540362, 0.655176599690577, 0.04686807270513814, 0.29683112713254156, 0.997830063302394, 0.9975008473945604, 0.12703658674615342, 0.8707002012938605, 0.9997086661706288, 0.9907454110689586, 0.9992480950793404, 0.9951923297914994, 0.9968467217497923, 0.9921550721652389, 0.8958493434876619, 0.10368924823976532, 0.9966945188613607, 0.9931183147940799, 0.9920449270240833, 0.658715756516557, 0.03462620077715345, 0.027810019521808286, 0.27837284246829663, 0.9967082092873388, 0.805426544283566, 0.034706632505237915, 0.12118237606577485, 0.03858446853934271, 0.9241567825952506, 0.07505510593111145, 0.6517316791397185, 0.34585227773014393, 0.9963584684655309, 0.9918039271395623, 0.9963971250967188, 0.9714299023253229, 0.1206369125939737, 0.7962036231202265, 0.08099906988452521, 0.31126066988234435, 0.4244463680213787, 0.24398992476197492, 0.019220212891534128, 0.9970762920163675, 0.9878732028836184, 0.9981688352406543, 0.9995197796451083, 0.9665111490843491, 0.9984329301820205, 0.9941264447311584, 0.9941361272112341, 0.9937888609701073, 0.9922491039333402, 0.9968765526744691, 0.9802289348524256, 0.017478079076120517, 0.28495541304131866, 0.08384265037561876, 0.128777927047519, 0.05863505614504057, 0.38742976350040825, 0.055895100250412506, 0.9854375188045659, 0.5219737665880096, 0.09477177326318612, 0.3805451203337165, 0.9972017533623773, 0.996585581409184, 0.998072385120928, 0.9914695161685846, 0.9934044152850501, 0.3973374212921828, 0.597880365057577, 0.9717962757366926, 0.9559368595760537, 0.041344582393197604, 0.9901195990013062, 0.19362314976009604, 0.8010163181856028, 0.13348741677109213, 0.8656208559941374, 0.9933873855851729, 0.9921604737555568, 0.9720853502554655, 0.10247367914874765, 0.19786584388477696, 0.04790436220368285, 0.09164312769400196, 0.03998972844829177, 0.43238893884715474, 0.08747753098063824, 0.23273961320282116, 0.09168530217080834, 0.22568689765122052, 0.4478474375266407, 0.0758167979507066, 0.919690722967267, 0.9966598300125306, 0.9912535050063018, 0.14245928908601746, 0.15750780553876578, 0.6982511634075222, 0.11712657262118341, 0.2849024739434191, 0.03429381630800415, 0.5629461846252374, 0.9938299008125588, 0.9971425213288618, 0.993578493155705, 0.07745419206164553, 0.9201558016923488, 0.9952747447422982, 0.9971840976584028, 0.9950144807737408, 0.28274678175625934, 0.7133519723208378, 0.9949309741526294, 0.998343206626962, 0.9992483951423312, 0.9957020994969066, 0.2829581283686995, 0.2201826495584251, 0.49564519836768883, 0.849305806193699, 0.10031885792026055, 0.0016644154406076411, 0.010591734622048625, 0.03797893414477436, 0.9651601321797421, 0.05978138340269829, 0.9347634495694642, 0.45809994870205045, 0.1068637959236344, 0.3999534715083082, 0.033787817828796175, 0.06788505802834766, 0.10103822590265697, 0.13261267149723727, 0.025259556475664243, 0.6709569688848315, 0.9970599658545942, 0.9990362300863929, 0.9838415014268546, 0.9872437086419169, 0.994322732967146, 0.47284545433134817, 0.06939370148890092, 0.3526168319842989, 0.1040905522333514, 0.9945780086247595, 0.9938574003642435, 0.9963854853339087, 0.44875752203423813, 0.24501129076581968, 0.3051895025328631, 0.9558457219478236, 0.04391424734779292, 0.9909852428147263, 0.22176741661566052, 0.024405026708900438, 0.7533725636225788, 0.8841815314194345, 0.09342295426318553, 0.02135381811729955, 0.33825032634285196, 0.07687507416883, 0.3600990316329405, 0.1804541214699904, 0.04450662188721736, 0.9949899911514367, 0.9877576298918743, 0.9521951689709431, 0.9971189883220674, 0.9991078449496233, 0.0006256154320285681, 0.49433980247449416, 0.5043264651507465, 0.998686847459891, 0.265144975188979, 0.7316658809012332, 0.4886601271880893, 0.4896239538689337, 0.02120418697857587, 0.9907052088431688, 0.2809759847263855, 0.07942254501599164, 0.5413470639061694, 0.098154277331084, 0.1174745148780544, 0.8810588615854079, 0.9986862530684769, 0.9939368381930853, 0.39188404812557115, 0.06888840646983506, 0.5381094392172021, 0.9955471933754395, 0.9684787377830596, 0.9965066857721863, 0.9931576626326062, 0.9900360768610966, 0.8830320652139587, 0.1157076499245877, 0.8290235642511335, 0.16918848250023133, 0.465862404558278, 0.4752964551809625, 0.058401265759475546, 0.9950387927016593, 0.9889787243848897, 0.9926855945982372, 0.3669904113629195, 0.6307647695300178, 0.9978076365825345, 0.9850808696246521, 0.16681995567745894, 0.8323250980077473, 0.984360669181099, 0.43760543252797246, 0.09563562432730524, 0.4651369001373482, 0.4324840040034002, 0.0703702786175024, 0.4955240452649127, 0.9967537884750439, 0.9944142383863142, 0.9966552701167928, 0.9983044824505408, 0.9418896502598576, 0.05708422122787016, 0.9951594607420253, 0.9954679005051245, 0.9963410147628471, 0.9918963278790428, 0.9964767991522112, 0.39333638193832143, 0.602090327659777, 0.994312371288705, 0.9994005849668298, 0.9950592457904974, 0.9702910020904134, 0.17491241812370595, 0.8184581074467749, 0.9958894491547365, 0.6330383894237425, 0.06941711580774793, 0.2213920360123648, 0.07570179295906668, 0.9977279571140124, 0.9968379043701806, 0.6089342719495362, 0.07967072311294598, 0.2574457876277157, 0.053738683825202783, 0.23745624956118377, 0.7581936389497447, 0.9967145112746111, 0.9973169365543545, 0.9978648884502365, 0.6633320199238587, 0.31996015078680246, 0.2759051015152787, 0.06274981206795319, 0.15364000377462766, 0.405609609965017, 0.03363907451065532, 0.02846383227824681, 0.03978467466164042, 0.9818211636465756, 0.017937117412773977, 0.9899697539732775, 0.9943502732908396, 0.9970063597466153, 0.9921156227987441, 0.9903171539375794, 0.9980478396369716, 0.7020488951033549, 0.29440760117237463, 0.7792364636417418, 0.21986754990721347, 0.9842685263421174, 0.9949228993855874, 0.03008289853238577, 0.9626527530363447, 0.9974217085665699, 0.8595305830009257, 0.11474979175473261, 0.024589241090299845, 0.8434384493104949, 0.1533524453291809, 0.9939718279658603, 0.11129431475372045, 0.02789994715692535, 0.860723552253613, 0.9976888078112975, 0.9913255271621191, 0.961737346423192, 0.9794605539412463, 0.9985856639377756, 0.03414164590303082, 0.9633881822203045, 0.993729224674076, 0.26448354981178607, 0.6445786042487645, 0.032549085148323366, 0.0581614800191352, 0.9922522349190753, 0.9964573041221859, 0.794740260299101, 0.819127096194176, 0.027134645008502722, 0.1517844205163121, 0.996946699329938, 0.040830784605995055, 0.9581154801510219, 0.25250518743328587, 0.7454915057554153, 0.995753409433492, 0.9979197080897028, 0.9923991870410525, 0.4077698532440828, 0.1516551460367654, 0.023912429665548067, 0.09690826759195796, 0.229685179682238, 0.08935697401336383, 0.9941414496785616, 0.998955747016765, 0.46433660326093246, 0.1939498273620664, 0.010358278072743877, 0.2060940154473523, 0.12465651887543494, 0.9917379152079402, 0.014392631021002673, 0.9834964531018494, 0.9968304935017831, 0.9859376870380963, 0.8408765337241153, 0.15616278483447854, 0.7561846130240557, 0.17631017925224027, 0.06644856001968855, 0.44350079445490287, 0.11221104438015615, 0.09083751211726926, 0.3526632823376336, 0.9942716623913052, 0.8411281806768703, 0.15201111698979586, 0.9972185679772553, 0.9923941410236948, 0.9843027321037816, 0.9981342028857088, 0.9957504139942484, 0.994988219271018, 0.0375446397052059, 0.9594741257997064, 0.8972424118076269, 0.05416591264463656, 0.04715620630238948, 0.625714308532571, 0.03682447932511995, 0.24328303554136624, 0.09357039828514087, 0.9867491135758492, 0.02102617846310439, 0.6399604135861228, 0.13112689477899647, 0.20720343140004693, 0.9924850808561256, 0.991835434104991, 0.9944317246048161, 0.056253659413011345, 0.26519582294705346, 0.02410871117700486, 0.06268264906021263, 0.5898598001307189, 0.3878599493295477, 0.1545133131475434, 0.24785196762034511, 0.1191959844281049, 0.03342532896661143, 0.056129326000536175, 0.9926554709948558, 0.2585637102510764, 0.6782820875561477, 0.061596894962860305, 0.9936474444509763, 0.997117251518109, 0.9561211672755636, 0.9951919849047033, 0.5259896385278648, 0.4736853467414805, 0.5971212290523318, 0.05686868848117445, 0.34506763519085515, 0.002534609411723698, 0.9538580086120183, 0.04351079490125682, 0.9943875316990979, 0.9914626998779228, 0.9922492312299137, 0.9974704314397338, 0.18598186175199388, 0.7189979634114316, 0.014641125286859092, 0.07993262994447396, 0.3303566864215618, 0.31503086076282955, 0.35419685966847864, 0.9956143090048142, 0.9909270145295368, 0.36772293728352584, 0.6276650136391217, 0.9908394695170526, 0.9892651926125301, 0.16068886283926295, 0.8372122636335512, 0.9967220183638685, 0.17937500429099068, 0.09321233847435761, 0.07989629012087796, 0.4958269769266249, 0.1503930166981232, 0.23852039286449017, 0.7605393098193458, 0.9973439212738902, 0.9962617718430409, 0.08864893106770798, 0.9057608174309294, 0.9973106138953794, 0.9953689943329637, 0.9961980081713658, 0.9947825322681533, 0.3406033873179545, 0.5397669140945581, 0.07190140881935014, 0.04759670724661207, 0.9947107643209315, 0.9974587956119219, 0.9865405419695746, 0.9385050201156583, 0.05687909212822172, 0.9946784445699622, 0.9883007597356377, 0.9945314643947064, 0.9957880105859912, 0.9935495882063837, 0.9886570359621949, 0.24835126074777802, 0.5400468453053098, 0.21008329918601348, 0.0007809788073829498, 0.5269879362434204, 0.14380193398066538, 0.15414195378636034, 0.019065987739281483, 0.001866247477125436, 0.014677784211986539, 0.10970508818237361, 0.028397225124908665, 0.0007061476940474624, 0.0005548303310372918, 0.9979286834379241, 0.9983507876070156, 0.9947183002354806, 0.23126014543097625, 0.4094789731025543, 0.358824514642329, 0.9981859485426089, 0.19895201600561174, 0.795808064022447, 0.9760210186330852, 0.9953148072312707, 0.997806375038137, 0.9952057183026324, 0.9974758952720285, 0.5295749016641798, 0.04358302762143094, 0.09456694672574638, 0.2771222699702307, 0.055095525483695715, 0.22147610375307678, 0.7762520303110289, 0.987972144885117, 0.7880289687833664, 0.20805437727224393, 0.6836289314945592, 0.31534777729567803, 0.9979305844394245, 0.998600426560848, 0.3659583606366869, 0.04924624853012207, 0.568364960099941, 0.01581301558306672, 0.9987590083253352, 0.9980156918879831, 0.9971500958299486, 0.997795290530056, 0.9967448131101901, 0.21534647664532308, 0.5121264948792137, 0.1224519180924386, 0.14899322053611988, 0.9953968801046003, 0.9919743767326638, 0.9916278887664409, 0.9973357598406768, 0.208999228290366, 0.759997193783149, 0.02776912823438429, 0.994610369321866, 0.9886916714853319, 0.9987567190919499, 0.9983565162711532, 0.9936648068117534, 0.9983591887515766, 0.04684037821531257, 0.17728193780225895, 0.19151192612083492, 0.5537837120645815, 0.030238725176973937, 0.9987079030731925, 0.9976328099493971, 0.9898905808204326, 0.7735599562737465, 0.22299049759931977, 0.9925373014561512, 0.9972867081332691, 0.91213113202159, 0.998588342688413, 0.17874386958734156, 0.31415589200199423, 0.5058993157411424, 0.9671271213369814, 0.6687935966204672, 0.0669380772736903, 0.2636420762797101, 0.9852123088303311, 0.08940154679176082, 0.7199734034531744, 0.18938315829260577, 0.9096359405292569, 0.08617603647119275, 0.990758047089659, 0.3610300474842426, 0.6362207829792248, 0.97029685149093, 0.9946072055768368, 0.9946847981197904, 0.12328923261227097, 0.5548015467552194, 0.31996491320803655, 0.2745455134516757, 0.7235418219091037, 0.35929998947366615, 0.09407126997128713, 0.5304574390047581, 0.014371999578946646, 0.9922484366180702, 0.14361994118291682, 0.2146577615529617, 0.639340383330404, 0.9718458359528015, 0.06001748076455576, 0.340099057665816, 0.509803658448353, 0.035872517238585054, 0.053118919757135556, 0.8660895453924963, 0.13317137436018614, 0.9949670576765581, 0.9966753646763198, 0.17351705289929423, 0.4652740055596067, 0.2639705762164732, 0.09695671780403493, 0.5657326110072154, 0.08635571189328765, 0.062065377213893394, 0.2639787842363581, 0.01790519155595054, 0.0038846674946825363, 0.5591426829544526, 0.16812243619387032, 0.2440486977007795, 0.027658852406088345, 0.9957464197831148, 0.998854889473587, 0.24412271871186314, 0.7531445577280884, 0.6243204137952715, 0.13984777269014081, 0.01037332379844451, 0.22513954614401788, 0.9973970269985349, 0.9967506282251631, 0.9980065827429615, 0.298605393742916, 0.6986239400777658, 0.8510918978900585, 0.1479609985930711, 0.7366634977955914, 0.18931179223161007, 0.07363735869345935, 0.6869008909247173, 0.25029589257952145, 0.0005468956137935647, 0.06179920435867282, 0.9966846544272372, 0.9902154973569314, 0.9942836153968769, 0.7928394056172569, 0.08545335321183227, 0.02815168879174848, 0.004991434182934127, 0.08824855635427538, 0.9824373718324954, 0.9947460400831638, 0.9941974409010013, 0.9892761840250368, 0.9972450658025728, 0.995893089670562, 0.9962192526535255, 0.9734443554594192, 0.9954388087367066, 0.9830296580265644, 0.9929115654687565, 0.9916748980766776, 0.48292787100095463, 0.5152127425999042, 0.7622934249424138, 0.13203458510504595, 0.10521506000558349, 0.9963529088354859, 0.6828609488345334, 0.31548340579448286, 0.993946303566163, 0.972780244137642, 0.9921179670985993, 0.9936447651346789, 0.9837676239964444, 0.993839200157076, 0.1949858407652143, 0.11254216312623108, 0.3594993018135255, 0.2645301674810913, 0.06823569691208363, 0.9894951322452255, 0.9984027570712303, 0.4485243634783267, 0.5513284689705864, 0.9993331777873129, 0.21571894994674426, 0.7834520045793121, 0.9983867901614216, 0.14111565831082323, 0.24476698255682613, 0.6119174563920653, 0.9985402362872335, 0.9946922779850501, 0.991375951545532, 0.9979158764933357, 0.9329012889776341, 0.06650385426375213, 0.995819175021775, 0.9016259149260607, 0.09788905460788232, 0.12730312085784065, 0.8699046591952445, 0.9850598017745299, 0.99498349112476, 0.9923271131657485, 0.9910646665121671, 0.699157015154878, 0.22602617790489332, 0.015565647832761664, 0.023348471749142497, 0.035346991953562945, 0.997916232174717, 0.9935810181178938, 0.13877558216694244, 0.8562191578979278, 0.776599902514038, 0.2209706939112108, 0.989362646939699, 0.9920595841966491, 0.9631871299916858, 0.03616060897579707, 0.35749159852297674, 0.6416997681765917, 0.155323695916096, 0.8434076688244012, 0.9893675915922527, 0.9982682852623637, 0.9963322793122956, 0.8982766634568702, 0.0990981372496903, 0.1139965923522955, 0.20726653154962818, 0.2567802029753727, 0.4202904667534127, 0.7811029266792574, 0.21851041097277354, 0.9907578321713478, 0.276648228381996, 0.13454017185750564, 0.3052380149017159, 0.09501899637436335, 0.18667448845228907, 0.9966716341168159, 0.972292782498005, 0.9719842224492297, 0.31224183465401895, 0.18247163477058823, 0.15413752999254657, 0.23290634127550236, 0.11673651168553159, 0.9834281137860496, 0.9998817677761666, 0.9991314194783945, 0.9909711273594511, 0.34339549774329015, 0.027219047062721158, 0.06837424622155555, 0.34535526913180603, 0.15917698722279333, 0.022210742403180463, 0.03396937073427601, 0.22527688847954774, 0.7723779033584495, 0.10117743111041858, 0.898609032705803, 0.9944590364870427], \"Term\": [\"ATF\", \"ATI\", \"Access\", \"Alcohol\", \"Americans\", \"Apple\", \"Apr\", \"April\", \"Arabs\", \"Area\", \"Armenia\", \"Armenians\", \"B\", \"B\", \"BJ\", \"Bay\", \"Bible\", \"Bill\", \"Blue\", \"Bobby\", \"Boston\", \"Box\", \"C\", \"C\", \"C\", \"Center\", \"Center\", \"Charles\", \"Chicago\", \"Christ\", \"Christian\", \"Christianity\", \"Christians\", \"Church\", \"Clipper\", \"Code\", \"Computer\", \"Conference\", \"Contact\", \"D\", \"D\", \"D\", \"D\", \"DC\", \"DE\", \"DES\", \"David\", \"Division\", \"DoD\", \"Dr\", \"Drug\", \"Earth\", \"East\", \"F\", \"F\", \"FM\", \"Firearms\", \"Ford\", \"G\", \"GN\", \"GT\", \"Germany\", \"God\", \"Golden\", \"Greeks\", \"H\", \"HP\", \"Hitler\", \"Home\", \"Honda\", \"IBM\", \"IDE\", \"IP\", \"IV\", \"Illinois\", \"Information\", \"Iran\", \"Israel\", \"J\", \"Jesus\", \"Jews\", \"Joe\", \"John\", \"John\", \"John\", \"Jose\", \"Journal\", \"K\", \"Koresh\", \"L\", \"L\", \"LA\", \"LX\", \"Law\", \"Leafs\", \"List\", \"London\", \"Lord\", \"Louis\", \"M\", \"M\", \"MA\", \"MA\", \"MD\", \"MLB\", \"MO\", \"MR\", \"MS\", \"MS\", \"Mac\", \"Mail\", \"March\", \"Medical\", \"Mike\", \"Milwaukee\", \"Mountain\", \"NASA\", \"NCD\", \"National\", \"National\", \"National\", \"Network\", \"New\", \"New\", \"New\", \"Northern\", \"O\", \"O\", \"Office\", \"P\", \"P\", \"PS\", \"Paul\", \"Phone\", \"Player\", \"Press\", \"Q\", \"RSA\", \"RT\", \"Research\", \"Research\", \"Ron\", \"S\", \"S\", \"S\", \"SALE\", \"SC\", \"SCSI\", \"SF\", \"SI\", \"SR\", \"SS\", \"ST\", \"Satan\", \"Saturn\", \"Society\", \"Soderstrom\", \"South\", \"Soviet\", \"Space\", \"St\", \"St\", \"Stadium\", \"State\", \"States\", \"Stephen\", \"Student\", \"Sun\", \"Sun\", \"Sunday\", \"Systems\", \"T\", \"T\", \"Terminal\", \"Thanks\", \"Tony\", \"Toronto\", \"Toshiba\", \"Turkey\", \"Turks\", \"U\", \"U\", \"U\", \"United\", \"University\", \"University\", \"V\", \"V\", \"VR\", \"VW\", \"Virginia\", \"Volume\", \"W\", \"W\", \"Windows\", \"World\", \"World\", \"X\", \"XT\", \"accept\", \"accept\", \"acquire\", \"act\", \"act\", \"act\", \"adapter\", \"address\", \"address\", \"address\", \"advance\", \"agree\", \"agree\", \"ah\", \"ain\", \"air\", \"air\", \"algorithm\", \"alt\", \"amp\", \"ancient\", \"angle\", \"animal\", \"annoying\", \"answer\", \"answer\", \"answer\", \"anti\", \"anybody\", \"appear\", \"appear\", \"appear\", \"appear\", \"appear\", \"appearance\", \"application\", \"application\", \"apply\", \"apply\", \"appreciated\", \"approach\", \"appropriate\", \"archive\", \"area\", \"area\", \"area\", \"area\", \"argument\", \"armenian\", \"army\", \"attack\", \"attack\", \"authority\", \"automatically\", \"automobile\", \"available\", \"available\", \"available\", \"available\", \"average\", \"avoid\", \"aware\", \"ax\", \"b\", \"background\", \"bad\", \"bad\", \"bad\", \"bank\", \"baseball\", \"be\", \"belief\", \"believe\", \"believe\", \"believe\", \"believe\", \"belt\", \"benefit\", \"biblical\", \"bike\", \"bio\", \"birth\", \"bit\", \"bit\", \"bit\", \"bj\", \"black\", \"blind\", \"block\", \"block\", \"blue\", \"board\", \"board\", \"bomb\", \"book\", \"book\", \"bounce\", \"box\", \"british\", \"brother\", \"buffer\", \"bug\", \"build\", \"build\", \"build\", \"building\", \"bury\", \"bus\", \"bus\", \"buy\", \"c\", \"c\", \"c\", \"c\", \"cable\", \"camp\", \"cap\", \"capacity\", \"captain\", \"car\", \"card\", \"case\", \"case\", \"catch\", \"catch\", \"cause\", \"cause\", \"cause\", \"cause\", \"cd\", \"character\", \"child\", \"child\", \"child\", \"chip\", \"chip\", \"choice\", \"choice\", \"circuit\", \"citizen\", \"city\", \"city\", \"city\", \"civilian\", \"claim\", \"claim\", \"claim\", \"clipper\", \"club\", \"com\", \"come\", \"come\", \"come\", \"come\", \"come\", \"come\", \"command\", \"command\", \"community\", \"compare\", \"computer\", \"computer\", \"computer\", \"conceal\", \"concentrate\", \"concept\", \"concerned\", \"conclusion\", \"conclusion\", \"contain\", \"contain\", \"contrib\", \"controller\", \"cool\", \"copy\", \"copy\", \"cost\", \"cost\", \"count\", \"country\", \"court\", \"cpu\", \"crash\", \"creator\", \"crime\", \"criminal\", \"cross\", \"cycle\", \"d\", \"d\", \"d\", \"d\", \"date\", \"date\", \"date\", \"datum\", \"datum\", \"datum\", \"daughter\", \"day\", \"day\", \"day\", \"day\", \"day\", \"death\", \"death\", \"debate\", \"dec\", \"decent\", \"deck\", \"default\", \"definitely\", \"deny\", \"description\", \"design\", \"design\", \"design\", \"destroy\", \"destroy\", \"destroy\", \"development\", \"didn\", \"didn\", \"didn\", \"die\", \"diet\", \"directory\", \"discussion\", \"disease\", \"disk\", \"display\", \"division\", \"doctor\", \"doesn\", \"doesn\", \"dog\", \"domain\", \"don\", \"don\", \"door\", \"draw\", \"drive\", \"drive\", \"driver\", \"drug\", \"dt\", \"e\", \"e\", \"e\", \"e\", \"e\", \"e\", \"earth\", \"earth\", \"easy\", \"eat\", \"economic\", \"edu\", \"email\", \"email\", \"encryption\", \"energy\", \"enforcement\", \"enforcement\", \"engine\", \"ensure\", \"entry\", \"equal\", \"event\", \"event\", \"event\", \"event\", \"evidence\", \"exist\", \"exist\", \"exist\", \"exist\", \"exist\", \"expand\", \"expansion\", \"expensive\", \"explain\", \"export\", \"extended\", \"f\", \"face\", \"face\", \"face\", \"fact\", \"fact\", \"fact\", \"fact\", \"fact\", \"fact\", \"fairly\", \"faith\", \"family\", \"fan\", \"father\", \"fax\", \"field\", \"file\", \"find\", \"find\", \"find\", \"find\", \"fire\", \"fire\", \"firearm\", \"fit\", \"floppy\", \"flow\", \"follow\", \"follow\", \"follow\", \"follow\", \"follow\", \"follow\", \"follow\", \"follow\", \"follow\", \"follow\", \"font\", \"force\", \"force\", \"force\", \"format\", \"ftp\", \"function\", \"function\", \"g\", \"gain\", \"game\", \"gang\", \"generate\", \"genocide\", \"get\", \"get\", \"gift\", \"girl\", \"glad\", \"go\", \"go\", \"go\", \"go\", \"goal\", \"good\", \"good\", \"good\", \"good\", \"government\", \"government\", \"grant\", \"grant\", \"graphic\", \"greatly\", \"greek\", \"green\", \"ground\", \"ground\", \"ground\", \"group\", \"group\", \"group\", \"group\", \"guess\", \"guilty\", \"gun\", \"h\", \"handy\", \"hardware\", \"hate\", \"health\", \"heat\", \"hello\", \"helmet\", \"hi\", \"hi\", \"high\", \"high\", \"high\", \"high\", \"high\", \"high\", \"historical\", \"history\", \"history\", \"history\", \"hit\", \"hole\", \"home\", \"homosexual\", \"hot\", \"hour\", \"hour\", \"hr\", \"human\", \"human\", \"icon\", \"ignore\", \"ignore\", \"image\", \"image\", \"implementation\", \"imply\", \"impressive\", \"include\", \"include\", \"include\", \"include\", \"include\", \"include\", \"include\", \"increase\", \"increase\", \"increase\", \"increase\", \"independent\", \"independent\", \"indicate\", \"industry\", \"info\", \"info\", \"info\", \"information\", \"information\", \"information\", \"information\", \"inhabitant\", \"input\", \"insert\", \"instal\", \"instal\", \"interface\", \"internal\", \"interpretation\", \"jewish\", \"jewish\", \"justify\", \"k\", \"key\", \"kid\", \"kill\", \"kill\", \"kill\", \"know\", \"know\", \"know\", \"know\", \"know\", \"la\", \"land\", \"land\", \"large\", \"large\", \"large\", \"large\", \"later\", \"later\", \"later\", \"later\", \"later\", \"launch\", \"law\", \"layer\", \"lcs\", \"learn\", \"leave\", \"leave\", \"leave\", \"leave\", \"legal\", \"letter\", \"license\", \"life\", \"life\", \"life\", \"like\", \"like\", \"link\", \"list\", \"list\", \"list\", \"little\", \"little\", \"little\", \"live\", \"live\", \"live\", \"live\", \"live\", \"locate\", \"lock\", \"login\", \"longer\", \"look\", \"look\", \"lose\", \"lose\", \"lot\", \"love\", \"love\", \"low\", \"low\", \"low\", \"luck\", \"m\", \"m\", \"m\", \"m\", \"machine\", \"machine\", \"mail\", \"male\", \"man\", \"man\", \"man\", \"manager\", \"mankind\", \"manual\", \"map\", \"massacre\", \"matter\", \"matter\", \"mb\", \"mb\", \"mean\", \"mean\", \"mean\", \"meaning\", \"mechanism\", \"meeting\", \"member\", \"member\", \"memory\", \"mess\", \"message\", \"message\", \"mil\", \"military\", \"military\", \"military\", \"million\", \"million\", \"million\", \"minor\", \"mirror\", \"mission\", \"mode\", \"money\", \"money\", \"moral\", \"mother\", \"motherboard\", \"motor\", \"mouse\", \"murder\", \"murder\", \"muslim\", \"n\", \"nature\", \"navy\", \"nd\", \"nd\", \"necessarily\", \"need\", \"need\", \"need\", \"need\", \"net\", \"network\", \"new\", \"new\", \"new\", \"new\", \"newsgroup\", \"newsgroup\", \"nice\", \"night\", \"notice\", \"ns\", \"ns\", \"number\", \"number\", \"number\", \"number\", \"number\", \"number\", \"number\", \"o\", \"o\", \"objective\", \"observation\", \"obviously\", \"occupy\", \"odd\", \"oh\", \"ok\", \"ok\", \"old\", \"old\", \"oo\", \"oppose\", \"opposite\", \"opposite\", \"orbit\", \"order\", \"order\", \"order\", \"organization\", \"organization\", \"output\", \"p\", \"p\", \"p\", \"package\", \"parent\", \"partially\", \"partner\", \"patient\", \"pc\", \"pc\", \"peace\", \"people\", \"people\", \"people\", \"people\", \"percent\", \"period\", \"persistent\", \"person\", \"person\", \"person\", \"phone\", \"physical\", \"physical\", \"pick\", \"pick\", \"picture\", \"pin\", \"pitch\", \"place\", \"place\", \"place\", \"place\", \"place\", \"place\", \"plane\", \"play\", \"point\", \"point\", \"point\", \"point\", \"point\", \"poor\", \"population\", \"population\", \"port\", \"portable\", \"possibility\", \"possibility\", \"post\", \"post\", \"post\", \"power\", \"power\", \"power\", \"power\", \"pp\", \"prepare\", \"prepare\", \"press\", \"pressure\", \"prevention\", \"price\", \"printer\", \"prior\", \"private\", \"private\", \"probably\", \"probably\", \"probably\", \"problem\", \"problem\", \"problem\", \"problem\", \"processor\", \"program\", \"program\", \"program\", \"program\", \"proof\", \"property\", \"protection\", \"prove\", \"prove\", \"prove\", \"prove\", \"prove\", \"provide\", \"provide\", \"provide\", \"provide\", \"provide\", \"provide\", \"pub\", \"public\", \"public\", \"public\", \"publication\", \"publish\", \"publisher\", \"pull\", \"q\", \"q\", \"question\", \"question\", \"question\", \"r\", \"r\", \"r\", \"ram\", \"rational\", \"rd\", \"reality\", \"reason\", \"reason\", \"reason\", \"reason\", \"receive\", \"receive\", \"receive\", \"recommend\", \"red\", \"refer\", \"refer\", \"registration\", \"regularly\", \"religion\", \"religion\", \"replace\", \"report\", \"report\", \"report\", \"report\", \"report\", \"request\", \"request\", \"research\", \"respect\", \"responsible\", \"responsible\", \"revelation\", \"review\", \"ride\", \"rider\", \"right\", \"right\", \"right\", \"right\", \"ring\", \"risk\", \"rm\", \"road\", \"road\", \"rocket\", \"rom\", \"round\", \"route\", \"routine\", \"rs\", \"run\", \"run\", \"run\", \"run\", \"s\", \"s\", \"s\", \"s\", \"s\", \"s\", \"s\", \"s\", \"s\", \"s\", \"safety\", \"sale\", \"satellite\", \"say\", \"say\", \"say\", \"scan\", \"science\", \"science\", \"scope\", \"score\", \"screen\", \"scripture\", \"season\", \"second\", \"second\", \"second\", \"second\", \"second\", \"section\", \"section\", \"secular\", \"security\", \"security\", \"see\", \"see\", \"self\", \"sell\", \"send\", \"send\", \"send\", \"send\", \"sense\", \"serial\", \"series\", \"server\", \"session\", \"set\", \"set\", \"set\", \"set\", \"shouldn\", \"shuttle\", \"sight\", \"signal\", \"simply\", \"simply\", \"simply\", \"sink\", \"slaughter\", \"software\", \"soldier\", \"son\", \"sound\", \"source\", \"source\", \"source\", \"source\", \"source\", \"space\", \"speak\", \"speaker\", \"specific\", \"specific\", \"specification\", \"spend\", \"squad\", \"st\", \"standard\", \"standard\", \"standard\", \"stanford\", \"start\", \"start\", \"start\", \"starter\", \"state\", \"state\", \"state\", \"statement\", \"statement\", \"status\", \"step\", \"step\", \"stereo\", \"stick\", \"student\", \"study\", \"study\", \"study\", \"stuff\", \"stuff\", \"subject\", \"subject\", \"subject\", \"subject\", \"submit\", \"suggest\", \"suggest\", \"suggest\", \"superior\", \"support\", \"support\", \"support\", \"support\", \"support\", \"sure\", \"sure\", \"surface\", \"switch\", \"system\", \"system\", \"system\", \"system\", \"t\", \"t\", \"t\", \"t\", \"t\", \"t\", \"take\", \"take\", \"take\", \"take\", \"tax\", \"team\", \"technology\", \"technology\", \"tell\", \"tell\", \"tell\", \"tell\", \"telnet\", \"terrorist\", \"test\", \"text\", \"text\", \"thank\", \"thank\", \"thing\", \"thing\", \"thing\", \"think\", \"think\", \"think\", \"think\", \"thread\", \"ticket\", \"tie\", \"time\", \"time\", \"time\", \"time\", \"time\", \"tire\", \"tool\", \"topic\", \"trace\", \"trade\", \"trap\", \"treatment\", \"tree\", \"trial\", \"tricky\", \"troop\", \"trouble\", \"truth\", \"truth\", \"try\", \"try\", \"try\", \"turkish\", \"type\", \"type\", \"universe\", \"unix\", \"unknown\", \"unlikely\", \"up\", \"upgrade\", \"use\", \"use\", \"use\", \"use\", \"use\", \"useless\", \"user\", \"v\", \"v\", \"ve\", \"version\", \"version\", \"video\", \"view\", \"view\", \"view\", \"village\", \"voice\", \"volume\", \"vs\", \"w\", \"w\", \"wait\", \"want\", \"want\", \"war\", \"war\", \"warning\", \"warranty\", \"waste\", \"wave\", \"way\", \"way\", \"way\", \"way\", \"way\", \"weapon\", \"wear\", \"weight\", \"weight\", \"white\", \"white\", \"widget\", \"wife\", \"will\", \"will\", \"win\", \"win\", \"window\", \"window\", \"wing\", \"wire\", \"withdraw\", \"woman\", \"woman\", \"word\", \"word\", \"word\", \"word\", \"work\", \"work\", \"workstation\", \"world\", \"world\", \"world\", \"world\", \"world\", \"worth\", \"worthless\", \"wow\", \"write\", \"write\", \"write\", \"write\", \"write\", \"writing\", \"x\", \"y\", \"yeah\", \"year\", \"year\", \"year\", \"year\", \"year\", \"year\", \"year\", \"young\", \"young\", \"z\", \"z\", \"zone\"]}, \"R\": 30, \"lambda.step\": 0.01, \"plot.opts\": {\"xlab\": \"PC1\", \"ylab\": \"PC2\"}, \"topic.order\": [20, 7, 6, 12, 4, 13, 9, 14, 18, 11, 2, 3, 10, 15, 8, 19, 5, 17, 1, 16]};\n",
       "\n",
       "function LDAvis_load_lib(url, callback){\n",
       "  var s = document.createElement('script');\n",
       "  s.src = url;\n",
       "  s.async = true;\n",
       "  s.onreadystatechange = s.onload = callback;\n",
       "  s.onerror = function(){console.warn(\"failed to load library \" + url);};\n",
       "  document.getElementsByTagName(\"head\")[0].appendChild(s);\n",
       "}\n",
       "\n",
       "if(typeof(LDAvis) !== \"undefined\"){\n",
       "   // already loaded: just create the visualization\n",
       "   !function(LDAvis){\n",
       "       new LDAvis(\"#\" + \"ldavis_el1382020893289488327227759484\", ldavis_el1382020893289488327227759484_data);\n",
       "   }(LDAvis);\n",
       "}else if(typeof define === \"function\" && define.amd){\n",
       "   // require.js is available: use it to load d3/LDAvis\n",
       "   require.config({paths: {d3: \"https://cdnjs.cloudflare.com/ajax/libs/d3/3.5.5/d3.min\"}});\n",
       "   require([\"d3\"], function(d3){\n",
       "      window.d3 = d3;\n",
       "      LDAvis_load_lib(\"https://cdn.rawgit.com/bmabey/pyLDAvis/files/ldavis.v1.0.0.js\", function(){\n",
       "        new LDAvis(\"#\" + \"ldavis_el1382020893289488327227759484\", ldavis_el1382020893289488327227759484_data);\n",
       "      });\n",
       "    });\n",
       "}else{\n",
       "    // require.js not available: dynamically load d3 & LDAvis\n",
       "    LDAvis_load_lib(\"https://cdnjs.cloudflare.com/ajax/libs/d3/3.5.5/d3.min.js\", function(){\n",
       "         LDAvis_load_lib(\"https://cdn.rawgit.com/bmabey/pyLDAvis/files/ldavis.v1.0.0.js\", function(){\n",
       "                 new LDAvis(\"#\" + \"ldavis_el1382020893289488327227759484\", ldavis_el1382020893289488327227759484_data);\n",
       "            })\n",
       "         });\n",
       "}\n",
       "</script>"
      ],
      "text/plain": [
       "<IPython.core.display.HTML object>"
      ]
     },
     "execution_count": 51,
     "metadata": {},
     "output_type": "execute_result"
    }
   ],
   "source": [
    "pyLDAvis.enable_notebook()\n",
    "vis = pyLDAvis.gensim.prepare(lda, corpus, id2word)\n",
    "pyLDAvis.display(vis)"
   ]
  },
  {
   "cell_type": "code",
   "execution_count": 52,
   "metadata": {
    "colab": {},
    "colab_type": "code",
    "id": "rjtXk8J3LaXC"
   },
   "outputs": [],
   "source": [
    "def compute_coherence_values(dictionary, corpus, texts, limit, start=2, step=3):\n",
    "    \"\"\"\n",
    "    Compute c_v coherence for various number of topics\n",
    "\n",
    "    Parameters:\n",
    "    ----------\n",
    "    dictionary : Gensim dictionary\n",
    "    corpus : Gensim corpus\n",
    "    texts : List of input texts\n",
    "    limit : Max num of topics\n",
    "\n",
    "    Returns:\n",
    "    -------\n",
    "    model_list : List of LDA topic models\n",
    "    coherence_values : Coherence values corresponding to the LDA model with respective number of topics\n",
    "    \"\"\"\n",
    "    coherence_values = []\n",
    "    model_list = []\n",
    "    for num_topics in range(start, limit, step):\n",
    "        model = gensim.models.ldamulticore.LdaMulticore(corpus=corpus,\n",
    "                                                        id2word=id2word,\n",
    "                                                        num_topics=num_topics, \n",
    "                                                        chunksize=100,\n",
    "                                                        passes=10,\n",
    "                                                        per_word_topics=True,\n",
    "                                                        workers=12)\n",
    "        model_list.append(model)\n",
    "        coherencemodel = CoherenceModel(model=model, texts=texts, dictionary=dictionary, coherence='c_v')\n",
    "        coherence_values.append(coherencemodel.get_coherence())\n",
    "\n",
    "    return model_list, coherence_values"
   ]
  },
  {
   "cell_type": "code",
   "execution_count": 53,
   "metadata": {
    "colab": {},
    "colab_type": "code",
    "id": "pRA9EjvQ3L0c"
   },
   "outputs": [
    {
     "name": "stdout",
     "output_type": "stream",
     "text": [
      "Wall time: 5min 5s\n"
     ]
    }
   ],
   "source": [
    "%%time\n",
    "model_list, coherence_values = compute_coherence_values(dictionary=id2word, \n",
    "                                                        corpus=corpus, \n",
    "                                                        texts=df['lemmas'], \n",
    "                                                        start=10, \n",
    "                                                        limit=41, \n",
    "                                                        step=5)"
   ]
  },
  {
   "cell_type": "code",
   "execution_count": 54,
   "metadata": {
    "colab": {},
    "colab_type": "code",
    "id": "2e9X-Ql-3L0e"
   },
   "outputs": [],
   "source": [
    "# coherence_values = [0.5054, 0.5332, 0.5452, 0.564, 0.5678, 0.5518, 0.519]"
   ]
  },
  {
   "cell_type": "code",
   "execution_count": 55,
   "metadata": {
    "colab": {},
    "colab_type": "code",
    "id": "ybEBYQNF3L0g"
   },
   "outputs": [
    {
     "data": {
      "image/png": "[encoded data removed]",
      "text/plain": [
       "<Figure size 432x288 with 1 Axes>"
      ]
     },
     "metadata": {
      "needs_background": "light"
     },
     "output_type": "display_data"
    }
   ],
   "source": [
    "start=10; limit=41; step=5;\n",
    "x = range(start, limit, step)\n",
    "plt.plot(x, coherence_values)\n",
    "plt.xlabel(\"Num Topics\")\n",
    "plt.ylabel(\"Coherence score\")\n",
    "plt.legend((\"coherence_values\"), loc='best')\n",
    "plt.show()"
   ]
  },
  {
   "cell_type": "code",
   "execution_count": 56,
   "metadata": {
    "colab": {},
    "colab_type": "code",
    "id": "DmvQ2zKZ3L0i"
   },
   "outputs": [
    {
     "name": "stdout",
     "output_type": "stream",
     "text": [
      "Num Topics = 10  has Coherence Value of 0.6781\n",
      "Num Topics = 15  has Coherence Value of 0.6413\n",
      "Num Topics = 20  has Coherence Value of 0.6186\n",
      "Num Topics = 25  has Coherence Value of 0.6005\n",
      "Num Topics = 30  has Coherence Value of 0.5722\n",
      "Num Topics = 35  has Coherence Value of 0.6018\n",
      "Num Topics = 40  has Coherence Value of 0.5685\n"
     ]
    }
   ],
   "source": [
    "# Print the coherence scores\n",
    "for m, cv in zip(x, coherence_values):\n",
    "    print(\"Num Topics =\", m, \" has Coherence Value of\", round(cv, 4))"
   ]
  },
  {
   "cell_type": "code",
   "execution_count": null,
   "metadata": {
    "colab": {},
    "colab_type": "code",
    "id": "Yol5vG3R3L0k"
   },
   "outputs": [],
   "source": [
    "# Select the model and print the topics\n",
    "# optimal_model = model_list[4]\n",
    "# optimal_model =  models.LdaModel.load('optimal_model.model')\n",
    "# model_topics = optimal_model.show_topics(formatted=False)\n",
    "# pprint(optimal_model.print_topics(num_words=10))"
   ]
  },
  {
   "cell_type": "code",
   "execution_count": null,
   "metadata": {
    "colab": {},
    "colab_type": "code",
    "id": "8HwVEUDI3L0m"
   },
   "outputs": [],
   "source": []
  }
 ],
 "metadata": {
  "colab": {
   "collapsed_sections": [],
   "name": "DSPT6_LS_DS_414_Topic_Modeling.ipynb",
   "provenance": []
  },
  "kernelspec": {
   "display_name": "U4-S1-NLP",
   "language": "python",
   "name": "u4-s1-nlp"
  },
  "language_info": {
   "codemirror_mode": {
    "name": "ipython",
    "version": 3
   },
   "file_extension": ".py",
   "mimetype": "text/x-python",
   "name": "python",
   "nbconvert_exporter": "python",
   "pygments_lexer": "ipython3",
   "version": "3.7.0"
  }
 },
 "nbformat": 4,
 "nbformat_minor": 4
}
