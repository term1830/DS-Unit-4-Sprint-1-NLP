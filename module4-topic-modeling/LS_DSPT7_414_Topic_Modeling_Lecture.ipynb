{
 "cells": [
  {
   "cell_type": "markdown",
   "metadata": {
    "colab_type": "text",
    "id": "cOMBkFKn6uEK"
   },
   "source": [
    "# Topic Modeling (Prepare)\n",
    "\n",
    "On Monday we talked about summarizing your documents using just token counts. Today, we're going to learn about a much more sophisticated approach - learning 'topics' from documents. Topics are a latent structure. They are not directly observable in the data, but we know they're there by reading them.\n",
    "\n",
    "> **latent**: existing but not yet developed or manifest; hidden or concealed.\n",
    "\n",
    "## Use Cases\n",
    "Primary use case: what the hell are your documents about? Who might want to know that in industry - \n",
    "* Identifying common themes in customer reviews\n",
    "* Discovering the needle in a haystack \n",
    "* Monitoring communications (Email - State Department) \n",
    "\n",
    "## Learning Objectives\n",
    "*At the end of the lesson you should be able to:*\n",
    "* Part 0: Warm-Up\n",
    "* Part 1: Describe how an LDA Model works\n",
    "* Part 2: Estimate a LDA Model with Gensim\n",
    "* Part 3: Interpret LDA results & Select the appropriate number of topics"
   ]
  },
  {
   "cell_type": "markdown",
   "metadata": {
    "colab_type": "text",
    "id": "cxH0cRGX6uEL"
   },
   "source": [
    "# Part 0: Warm-Up\n",
    "How do we do a grid search? "
   ]
  },
  {
   "cell_type": "code",
   "execution_count": 48,
   "metadata": {
    "colab": {},
    "colab_type": "code",
    "id": "FFjplZ7r3Lyk"
   },
   "outputs": [
    {
     "name": "stderr",
     "output_type": "stream",
     "text": [
      "C:\\Users\\keith\\.conda\\envs\\U4-S1-NLP\\lib\\site-packages\\ipykernel\\ipkernel.py:287: DeprecationWarning: `should_run_async` will not call `transform_cell` automatically in the future. Please pass the result to `transformed_cell` argument and any exception that happen during thetransform in `preprocessing_exc_tuple` in IPython 7.17 and above.\n",
      "  and should_run_async(code)\n"
     ]
    }
   ],
   "source": [
    "import warnings\n",
    "warnings.filterwarnings(\"ignore\")"
   ]
  },
  {
   "cell_type": "code",
   "execution_count": 3,
   "metadata": {
    "colab": {},
    "colab_type": "code",
    "id": "rnyNg8sQ6uEL"
   },
   "outputs": [],
   "source": [
    "import pandas as pd\n",
    "from sklearn.datasets import fetch_20newsgroups\n",
    "from sklearn.ensemble import RandomForestClassifier\n",
    "from sklearn.model_selection import GridSearchCV\n",
    "from sklearn.feature_extraction.text import TfidfVectorizer"
   ]
  },
  {
   "cell_type": "code",
   "execution_count": 4,
   "metadata": {
    "colab": {},
    "colab_type": "code",
    "id": "boKWVkRz6uEO"
   },
   "outputs": [
    {
     "name": "stdout",
     "output_type": "stream",
     "text": [
      "Training Samples: 11314\n",
      "Testing Samples: 7532\n"
     ]
    }
   ],
   "source": [
    "# Load training data\n",
    "newsgroups_train = fetch_20newsgroups(subset='train', \n",
    "                                      remove=('headers', 'footers', 'quotes'))\n",
    "\n",
    "# Load testing data\n",
    "newsgroups_test = fetch_20newsgroups(subset='test', \n",
    "                                     remove=('headers', 'footers', 'quotes'))\n",
    "\n",
    "print(f'Training Samples: {len(newsgroups_train.data)}')\n",
    "print(f'Testing Samples: {len(newsgroups_test.data)}')"
   ]
  },
  {
   "cell_type": "code",
   "execution_count": 5,
   "metadata": {
    "colab": {},
    "colab_type": "code",
    "id": "hPpukADi7Ofv"
   },
   "outputs": [
    {
     "data": {
      "text/plain": [
       "dict_keys(['data', 'filenames', 'target_names', 'target', 'DESCR'])"
      ]
     },
     "execution_count": 5,
     "metadata": {},
     "output_type": "execute_result"
    }
   ],
   "source": [
    "newsgroups_train.keys()"
   ]
  },
  {
   "cell_type": "code",
   "execution_count": 6,
   "metadata": {
    "colab": {},
    "colab_type": "code",
    "id": "g9Jhb3j-7_e2"
   },
   "outputs": [
    {
     "data": {
      "text/plain": [
       "['alt.atheism',\n",
       " 'comp.graphics',\n",
       " 'comp.os.ms-windows.misc',\n",
       " 'comp.sys.ibm.pc.hardware',\n",
       " 'comp.sys.mac.hardware',\n",
       " 'comp.windows.x',\n",
       " 'misc.forsale',\n",
       " 'rec.autos',\n",
       " 'rec.motorcycles',\n",
       " 'rec.sport.baseball',\n",
       " 'rec.sport.hockey',\n",
       " 'sci.crypt',\n",
       " 'sci.electronics',\n",
       " 'sci.med',\n",
       " 'sci.space',\n",
       " 'soc.religion.christian',\n",
       " 'talk.politics.guns',\n",
       " 'talk.politics.mideast',\n",
       " 'talk.politics.misc',\n",
       " 'talk.religion.misc']"
      ]
     },
     "execution_count": 6,
     "metadata": {},
     "output_type": "execute_result"
    }
   ],
   "source": [
    "newsgroups_train['target_names']"
   ]
  },
  {
   "cell_type": "code",
   "execution_count": 7,
   "metadata": {
    "colab": {},
    "colab_type": "code",
    "id": "JbVoIoMm8HbR"
   },
   "outputs": [
    {
     "data": {
      "text/plain": [
       "\"Anybody seen mouse cursor distortion running the Diamond 1024x768x256 driver?\\nSorry, don't know the version of the driver (no indication in the menus) but it's a recently\\ndelivered Gateway system.  Am going to try the latest drivers from Diamond BBS but wondered\\nif anyone else had seen this.\\n\\npost or email\""
      ]
     },
     "execution_count": 7,
     "metadata": {},
     "output_type": "execute_result"
    }
   ],
   "source": [
    "newsgroups_train['data'][1000]"
   ]
  },
  {
   "cell_type": "markdown",
   "metadata": {
    "colab_type": "text",
    "id": "w-39zg9a6uEQ"
   },
   "source": [
    "### GridSearch on Just Classifier\n",
    "* Fit the vectorizer and prepare BEFORE it goes into the gridsearch"
   ]
  },
  {
   "cell_type": "code",
   "execution_count": 9,
   "metadata": {
    "colab": {},
    "colab_type": "code",
    "id": "2q3NmHEo6uEQ"
   },
   "outputs": [
    {
     "name": "stdout",
     "output_type": "stream",
     "text": [
      "(11314, 101631)\n"
     ]
    }
   ],
   "source": [
    "# Instantiate vectorizer\n",
    "vect = TfidfVectorizer()\n",
    "\n",
    "# Transform the training data\n",
    "X_train = vect.fit_transform(newsgroups_train['data'])\n",
    "print(X_train.shape)"
   ]
  },
  {
   "cell_type": "code",
   "execution_count": 10,
   "metadata": {
    "colab": {},
    "colab_type": "code",
    "id": "7OfA7KNQ6uEU"
   },
   "outputs": [
    {
     "name": "stdout",
     "output_type": "stream",
     "text": [
      "Fitting 5 folds for each of 4 candidates, totalling 20 fits\n"
     ]
    },
    {
     "name": "stderr",
     "output_type": "stream",
     "text": [
      "[Parallel(n_jobs=-1)]: Using backend LokyBackend with 12 concurrent workers.\n",
      "[Parallel(n_jobs=-1)]: Done  18 out of  20 | elapsed:  1.2min remaining:    7.9s\n",
      "[Parallel(n_jobs=-1)]: Done  20 out of  20 | elapsed:  1.2min finished\n"
     ]
    },
    {
     "data": {
      "text/plain": [
       "GridSearchCV(cv=5, error_score=nan,\n",
       "             estimator=RandomForestClassifier(bootstrap=True, ccp_alpha=0.0,\n",
       "                                              class_weight=None,\n",
       "                                              criterion='gini', max_depth=None,\n",
       "                                              max_features='auto',\n",
       "                                              max_leaf_nodes=None,\n",
       "                                              max_samples=None,\n",
       "                                              min_impurity_decrease=0.0,\n",
       "                                              min_impurity_split=None,\n",
       "                                              min_samples_leaf=1,\n",
       "                                              min_samples_split=2,\n",
       "                                              min_weight_fraction_leaf=0.0,\n",
       "                                              n_estimators=100, n_jobs=None,\n",
       "                                              oob_score=False,\n",
       "                                              random_state=None, verbose=0,\n",
       "                                              warm_start=False),\n",
       "             iid='deprecated', n_jobs=-1,\n",
       "             param_grid={'min_samples_leaf': [1, 2, 5, 10]},\n",
       "             pre_dispatch='2*n_jobs', refit=True, return_train_score=False,\n",
       "             scoring=None, verbose=1)"
      ]
     },
     "execution_count": 10,
     "metadata": {},
     "output_type": "execute_result"
    }
   ],
   "source": [
    "params_1 = {\n",
    "    'min_samples_leaf': [1, 2, 5, 10]\n",
    "}\n",
    "\n",
    "# Instantiate classifier\n",
    "clf = RandomForestClassifier()\n",
    "\n",
    "# GridSearch\n",
    "gs1 = GridSearchCV(clf, params_1, cv=5, n_jobs=-1, verbose=1)\n",
    "gs1.fit(X_train, newsgroups_train['target'])"
   ]
  },
  {
   "cell_type": "code",
   "execution_count": 11,
   "metadata": {},
   "outputs": [
    {
     "data": {
      "text/plain": [
       "0.6588297577646474"
      ]
     },
     "execution_count": 11,
     "metadata": {},
     "output_type": "execute_result"
    }
   ],
   "source": [
    "gs1.best_score_"
   ]
  },
  {
   "cell_type": "code",
   "execution_count": 12,
   "metadata": {},
   "outputs": [
    {
     "data": {
      "text/plain": [
       "{'min_samples_leaf': 2}"
      ]
     },
     "execution_count": 12,
     "metadata": {},
     "output_type": "execute_result"
    }
   ],
   "source": [
    "gs1.best_params_"
   ]
  },
  {
   "cell_type": "code",
   "execution_count": 13,
   "metadata": {
    "colab": {},
    "colab_type": "code",
    "id": "gDkMaXvG83Zt"
   },
   "outputs": [
    {
     "data": {
      "text/plain": [
       "(1, 101631)"
      ]
     },
     "execution_count": 13,
     "metadata": {},
     "output_type": "execute_result"
    }
   ],
   "source": [
    "test_sample = vect.transform([\"The new york yankees are the best team in the region.\"])\n",
    "test_sample.shape"
   ]
  },
  {
   "cell_type": "code",
   "execution_count": 14,
   "metadata": {
    "colab": {},
    "colab_type": "code",
    "id": "cMq_hw5W6uEX"
   },
   "outputs": [
    {
     "data": {
      "text/plain": [
       "9"
      ]
     },
     "execution_count": 14,
     "metadata": {},
     "output_type": "execute_result"
    }
   ],
   "source": [
    "gs1.predict(test_sample)[0]"
   ]
  },
  {
   "cell_type": "code",
   "execution_count": 15,
   "metadata": {},
   "outputs": [
    {
     "data": {
      "text/plain": [
       "'rec.sport.baseball'"
      ]
     },
     "execution_count": 15,
     "metadata": {},
     "output_type": "execute_result"
    }
   ],
   "source": [
    "newsgroups_train['target_names'][9]"
   ]
  },
  {
   "cell_type": "markdown",
   "metadata": {
    "colab_type": "text",
    "id": "WdVTuXKl6uEZ"
   },
   "source": [
    "### GridSearch with BOTH the Vectoizer & Classifier"
   ]
  },
  {
   "cell_type": "code",
   "execution_count": 16,
   "metadata": {
    "colab": {},
    "colab_type": "code",
    "id": "97TjUtoI6uEZ"
   },
   "outputs": [
    {
     "name": "stdout",
     "output_type": "stream",
     "text": [
      "Fitting 5 folds for each of 8 candidates, totalling 40 fits\n"
     ]
    },
    {
     "name": "stderr",
     "output_type": "stream",
     "text": [
      "[Parallel(n_jobs=-1)]: Using backend LokyBackend with 12 concurrent workers.\n",
      "[Parallel(n_jobs=-1)]: Done  40 out of  40 | elapsed:  1.2min finished\n"
     ]
    },
    {
     "data": {
      "text/plain": [
       "GridSearchCV(cv=5, error_score=nan,\n",
       "             estimator=Pipeline(memory=None,\n",
       "                                steps=[('vect',\n",
       "                                        TfidfVectorizer(analyzer='word',\n",
       "                                                        binary=False,\n",
       "                                                        decode_error='strict',\n",
       "                                                        dtype=<class 'numpy.float64'>,\n",
       "                                                        encoding='utf-8',\n",
       "                                                        input='content',\n",
       "                                                        lowercase=True,\n",
       "                                                        max_df=1.0,\n",
       "                                                        max_features=None,\n",
       "                                                        min_df=1,\n",
       "                                                        ngram_range=(1, 1),\n",
       "                                                        norm='l2',\n",
       "                                                        preprocessor=None,\n",
       "                                                        smooth_idf=True,\n",
       "                                                        stop_words=None,\n",
       "                                                        strip_acce...\n",
       "                                                               min_samples_split=2,\n",
       "                                                               min_weight_fraction_leaf=0.0,\n",
       "                                                               n_estimators=100,\n",
       "                                                               n_jobs=None,\n",
       "                                                               oob_score=False,\n",
       "                                                               random_state=42,\n",
       "                                                               verbose=0,\n",
       "                                                               warm_start=False))],\n",
       "                                verbose=False),\n",
       "             iid='deprecated', n_jobs=-1,\n",
       "             param_grid={'clf__max_depth': (10, None), 'vect__min_df': (2, 5),\n",
       "                         'vect__stop_words': (None, 'english')},\n",
       "             pre_dispatch='2*n_jobs', refit=True, return_train_score=False,\n",
       "             scoring=None, verbose=1)"
      ]
     },
     "execution_count": 16,
     "metadata": {},
     "output_type": "execute_result"
    }
   ],
   "source": [
    "from sklearn.pipeline import Pipeline\n",
    "\n",
    "# 1. Create a pipeline with a vectorize and a classifier\n",
    "# 2. Use Grid Search to optimize the entire pipeline\n",
    "pipe = Pipeline([\n",
    "    ('vect',TfidfVectorizer()),\n",
    "    ('clf',RandomForestClassifier(random_state=42))\n",
    "])\n",
    "\n",
    "params_2 = {\n",
    "    'vect__stop_words': (None,'english'),\n",
    "    'vect__min_df': (2,5),\n",
    "    'clf__max_depth': (10, None)\n",
    "}\n",
    "\n",
    "gs2 = GridSearchCV(pipe, params_2, cv=5, n_jobs=-1, verbose=1)\n",
    "gs2.fit(newsgroups_train['data'], newsgroups_train['target'])"
   ]
  },
  {
   "cell_type": "code",
   "execution_count": 17,
   "metadata": {},
   "outputs": [
    {
     "data": {
      "text/plain": [
       "0.6607746264533867"
      ]
     },
     "execution_count": 17,
     "metadata": {},
     "output_type": "execute_result"
    }
   ],
   "source": [
    "gs2.best_score_"
   ]
  },
  {
   "cell_type": "code",
   "execution_count": 18,
   "metadata": {},
   "outputs": [
    {
     "data": {
      "text/plain": [
       "{'clf__max_depth': None, 'vect__min_df': 2, 'vect__stop_words': 'english'}"
      ]
     },
     "execution_count": 18,
     "metadata": {},
     "output_type": "execute_result"
    }
   ],
   "source": [
    "gs2.best_params_"
   ]
  },
  {
   "cell_type": "code",
   "execution_count": 19,
   "metadata": {
    "colab": {},
    "colab_type": "code",
    "id": "IdIE67Us6uEc"
   },
   "outputs": [
    {
     "data": {
      "text/plain": [
       "array([9])"
      ]
     },
     "execution_count": 19,
     "metadata": {},
     "output_type": "execute_result"
    }
   ],
   "source": [
    "pred = gs2.predict([\"The new york yankees are the best team in the region.\"])\n",
    "pred"
   ]
  },
  {
   "cell_type": "code",
   "execution_count": 20,
   "metadata": {
    "colab": {},
    "colab_type": "code",
    "id": "xhcb5G0W-Dch"
   },
   "outputs": [
    {
     "data": {
      "text/plain": [
       "'rec.sport.baseball'"
      ]
     },
     "execution_count": 20,
     "metadata": {},
     "output_type": "execute_result"
    }
   ],
   "source": [
    "newsgroups_train['target_names'][pred[0]]"
   ]
  },
  {
   "cell_type": "markdown",
   "metadata": {
    "colab_type": "text",
    "id": "F2R2ACd36uEd"
   },
   "source": [
    "Advantages to using GS with the Pipe:\n",
    "* Allows us to make predictions on raw text increasing reproducibility. :)\n",
    "* Allows us to tune the parameters of the vectorizer along side the classifier. :D "
   ]
  },
  {
   "cell_type": "markdown",
   "metadata": {
    "colab_type": "text",
    "id": "xbZjG6U86uEe"
   },
   "source": [
    "# Part 1: Describe how an LDA Model works"
   ]
  },
  {
   "cell_type": "markdown",
   "metadata": {
    "colab_type": "text",
    "id": "dMzU-XOM3LzW"
   },
   "source": [
    "[Your Guide to Latent Dirichlet Allocation](https://medium.com/@lettier/how-does-lda-work-ill-explain-using-emoji-108abf40fa7d)\n",
    "\n",
    "[LDA Topic Modeling](https://lettier.com/projects/lda-topic-modeling/)\n",
    "\n",
    "[Topic Modeling with Gensim](https://www.machinelearningplus.com/nlp/topic-modeling-gensim-python/)"
   ]
  },
  {
   "cell_type": "code",
   "execution_count": 21,
   "metadata": {
    "colab": {},
    "colab_type": "code",
    "id": "yPIlE_IeF0cX"
   },
   "outputs": [
    {
     "name": "stdout",
     "output_type": "stream",
     "text": [
      "✔ Download and installation successful\n",
      "You can now load the model via spacy.load('en_core_web_lg')\n"
     ]
    }
   ],
   "source": [
    "# Download spacy model\n",
    "import spacy.cli\n",
    "spacy.cli.download(\"en_core_web_lg\")"
   ]
  },
  {
   "cell_type": "code",
   "execution_count": 22,
   "metadata": {
    "colab": {},
    "colab_type": "code",
    "id": "qapChu_UGBFc"
   },
   "outputs": [],
   "source": [
    "import re\n",
    "import numpy as np\n",
    "import pandas as pd\n",
    "from pprint import pprint\n",
    "\n",
    "import gensim\n",
    "import gensim.corpora as corpora\n",
    "from gensim.utils import simple_preprocess\n",
    "from gensim.models import CoherenceModel\n",
    "\n",
    "import spacy\n",
    "import pyLDAvis\n",
    "import pyLDAvis.gensim \n",
    "import matplotlib.pyplot as plt\n",
    "%matplotlib inline"
   ]
  },
  {
   "cell_type": "code",
   "execution_count": 23,
   "metadata": {
    "colab": {},
    "colab_type": "code",
    "id": "qaMsy1XAGLxc"
   },
   "outputs": [
    {
     "name": "stdout",
     "output_type": "stream",
     "text": [
      "(11314, 3)\n"
     ]
    },
    {
     "name": "stderr",
     "output_type": "stream",
     "text": [
      "C:\\Users\\keith\\.conda\\envs\\U4-S1-NLP\\lib\\site-packages\\ipykernel\\ipkernel.py:287: DeprecationWarning: `should_run_async` will not call `transform_cell` automatically in the future. Please pass the result to `transformed_cell` argument and any exception that happen during thetransform in `preprocessing_exc_tuple` in IPython 7.17 and above.\n",
      "  and should_run_async(code)\n"
     ]
    }
   ],
   "source": [
    "df = pd.DataFrame({\n",
    "    'content': newsgroups_train['data'],\n",
    "    'target': newsgroups_train['target'],\n",
    "    'target_names': [newsgroups_train['target_names'][i] for i in newsgroups_train['target']]\n",
    "})\n",
    "print(df.shape)"
   ]
  },
  {
   "cell_type": "code",
   "execution_count": 24,
   "metadata": {},
   "outputs": [
    {
     "name": "stderr",
     "output_type": "stream",
     "text": [
      "C:\\Users\\keith\\.conda\\envs\\U4-S1-NLP\\lib\\site-packages\\ipykernel\\ipkernel.py:287: DeprecationWarning: `should_run_async` will not call `transform_cell` automatically in the future. Please pass the result to `transformed_cell` argument and any exception that happen during thetransform in `preprocessing_exc_tuple` in IPython 7.17 and above.\n",
      "  and should_run_async(code)\n"
     ]
    },
    {
     "data": {
      "text/html": [
       "<div>\n",
       "<style scoped>\n",
       "    .dataframe tbody tr th:only-of-type {\n",
       "        vertical-align: middle;\n",
       "    }\n",
       "\n",
       "    .dataframe tbody tr th {\n",
       "        vertical-align: top;\n",
       "    }\n",
       "\n",
       "    .dataframe thead th {\n",
       "        text-align: right;\n",
       "    }\n",
       "</style>\n",
       "<table border=\"1\" class=\"dataframe\">\n",
       "  <thead>\n",
       "    <tr style=\"text-align: right;\">\n",
       "      <th></th>\n",
       "      <th>content</th>\n",
       "      <th>target</th>\n",
       "      <th>target_names</th>\n",
       "    </tr>\n",
       "  </thead>\n",
       "  <tbody>\n",
       "    <tr>\n",
       "      <th>10820</th>\n",
       "      <td>bm967@cleveland.Freenet.Edu (David Kantrowitz) writes ...\\n\\nSure.  Buy a switch box and a multisync monitor.  I have just that\\narrangement on my desk and it works fine.\\n</td>\n",
       "      <td>4</td>\n",
       "      <td>comp.sys.mac.hardware</td>\n",
       "    </tr>\n",
       "    <tr>\n",
       "      <th>6173</th>\n",
       "      <td>THE DIVINE MASTERS       \\n      \\n               Most Christians would agree, and correctly so, that \\n          Jesus Christ was a Divine Master, and a projection of God \\n          into the physical world, God Incarnate. \\n          \\n               But there are some very important related facts that \\n          Christians are COMPLETELY IGNORANT of, as are followers of \\n          most other world religions. \\n           \\n               First, Jesus Christ was NOT unique, John 3:16 NOTWITH-\\n          STANDING.  There is ALWAYS at least one such Divine Master \\n          (God Incarnate) PHYSICALLY ALIVE in this world AT ALL TIMES, \\n          a continuous succession THROUGHOUT HISTORY, both before and \\n          after the life of Jesus. \\n    \\n               The followers of some of these Masters founded the \\n          world's major religions, usually PERVERTING the teachings of \\n          their Master in the process.  Christians, for example, added \\n          THREATS of \"ETERNAL DAMNATION\" in Hell, and DELETED the \\n          teaching of REincarnation. \\n       \\n               Secondly, and more importantly, after a particular \\n          Master physically dies and leaves this world, there is \\n          NOTHING that He can do for ANYbody except for the relatively \\n          few people that He INITIATED while He was still PHYSICALLY \\n          alive.  (THAT IS SIMPLY THE WAY GOD SET THINGS UP IN THE \\n          UNIVERSES.)                             \\n\\n               Therefore, all those Christians who worship Jesus, and \\n          pray to Jesus, and expect Jesus to return and save them from \\n          their sins, are only KIDDING THEMSELVES, and have allowed \\n          themselves to be DUPED by a religion that was mostly \\n          MANUFACTURED by the Romans. \\n      \\n               And emotional \"feelings\" are a TOTALLY DECEIVING \\n          indicator for religious validity. \\n    \\n               These things are similarly true for followers of most \\n          other major world religions, including Islam. \\n     \\n               Thirdly, the primary function of each Master is to tune \\n          His Initiates into the \"AUDIBLE LIFE STREAM\" or \"SOUND \\n          CURRENT\", (referred to as \"THE WORD\" in John 1:1-5, and as \\n          \"The River of Life\" in Revelation 22:1), and to personally \\n          guide each of them thru the upper levels of Heaven while they \\n          are still connected to their living physical bodies by a \\n          \"silver cord\". \\n    \\n               True Salvation, which completes a Soul's cycles of \\n          REincarnation in the physical and psychic planes, is achieved \\n          only by reaching at least the \"SOUL PLANE\", which is five \\n          levels or universes above the physical universe, and this \\n          canNOT be done without the help of a PHYSICALLY-Living Divine \\n          Master. \\n    \\n               One such Divine Master alive today is an American, Sri \\n          Harold Klemp, the Living \"Eck\" Master or \"Mahanta\" for the \\n          \"Eckankar\" organization, now headquartered in Minneapolis, \\n          (P.O. Box 27300;  zip 55427). \\n    \\n               Another Divine Master is Maharaj Gurinder Singh Ji, now \\n          living in Punjab, India, and is associated with the \"Sant \\n          Mat\" organization. \\n      \\n               One of the classic books on this subject is \"THE PATH OF \\n          THE MASTERS\" (Radha Soami Books, P.O. Box 242, Gardena, CA  \\n          90247), written in 1939 by Dr. Julian Johnson, a theologian \\n          and surgeon who spent the last years of his life in India \\n          studying under and closely observing the Sant Mat Master of \\n          that time, Maharaj Sawan Singh Ji. \\n    \\n               Several of the Eckankar books, including some authored \\n          by Sri Paul Twitchell or Sri Harold Klemp, can be found in \\n          most public and university libraries and some book stores, or \\n          obtained thru inter-library loan.  The book \"ECKANKAR--THE \\n          KEY TO SECRET WORLDS\", by Sri Paul Twitchell, is ANOTHER \\n          classic. \\n    \\n               Many Christians are likely to confuse the Masters with \\n          the \"Anti-Christ\", which is or was to be a temporary world \\n          dictator during the so-called \"last days\".  But the Masters \\n          don't ever rule, even when asked or expected to do so as \\n          Jesus was. \\n    \\n               People who continue following Christianity, Islam, or \\n          other orthodox religions with a physically-DEAD Master, will \\n          CONTINUE on their cycles of REincarnation, between the \\n          Psychic Planes and this MISERABLE physical world, until they \\n          finally accept Initiation from a PHYSICALLY-LIVING Divine \\n          Master. \\n    \\n          \\n    \\n          RE-INCARNATION\\n          \\n               The book \"HERE AND HEREAFTER\", by Ruth Montgomery, \\n          describes several kinds of evidence supporting REincarnation \\n          as a FACT OF LIFE, including HYPNOTIC REGRESSIONS to past \\n          lives [about 50% accurate; the subconscious mind sometimes \\n          makes things up, especially with a bad hypnotist], \\n          SPONTANEOUS RECALL (especially by young children, some of \\n          whom can identify their most recent previous relatives, \\n          homes, possessions, etc.), DREAM RECALL of past life experi-\\n          ences, DEJA VU (familiarity with a far off land while travel-\\n          ing there for the first time on vacation), the psychic read-\\n          ings of the late EDGAR CAYCE, and EVEN SUPPORTING STATEMENTS \\n          FROM THE CHRISTIAN BIBLE including Matthew 17:11-13 (John the \\n          Baptist was the REINCARNATION of Elias.) and John 9:1-2 (How \\n          can a person POSSIBLY sin before he is born, unless he LIVED \\n          BEFORE?!).  [ ALWAYS use the \"KING JAMES VERSION\".  Later \\n          versions are PER-VERSIONS! ] \\n          \\n               Strong INTERESTS, innate TALENTS, strong PHOBIAS, etc., \\n          typically originate from a person's PAST LIVES.  For example, \\n          a strong fear of swimming in or traveling over water usually \\n          results from having DROWNED at the end of a PREVIOUS LIFE.  \\n          And sometimes a person will take AN IMMEDIATE DISLIKE to \\n          another person being met for the first time in THIS life, \\n          because of a bad encounter with him during a PREVIOUS \\n          INCARNATION. \\n\\n               The teaching of REincarnation also includes the LAW OF \\n          KARMA (Galatians 6:7, Revelation 13:10, etc.).  People would \\n          behave much better toward each other if they knew that their \\n          actions in the present will surely be reaped by them in the \\n          future, or in a FUTURE INCARNATION! \\n\\n\\n\\n          \"2nd COMINGS\"\\n\\n               If a Divine Master physically dies (\"translates\") \\n          before a particular Initiate of His does, then when that \\n          Initiate physically dies (\"translates\"), the Master will meet \\n          him on the Astral level and take him directly to the Soul \\n          Plane.  This is the ONE AND ONLY correct meaning of a 2nd \\n          Coming.  It is an INDIVIDUAL experience, NOT something that \\n          happens for everyone all at once.  People who are still \\n          waiting for Jesus' \"2nd Coming\" are WAITING IN VAIN. \\n    \\n          \\n          \\n          PLANES OF EXISTENCE\\n\\n               The physical universe is the LOWEST of at least a DOZEN \\n          major levels of existence.  Above the Physical Plane is the \\n          Astral Plane, the Causal Plane, the Mental Plane, the Etheric \\n          Plane (often counted as the upper part of the Mental Plane), \\n          the Soul Plane, and several higher Spiritual Planes.  The \\n          Soul Plane is the FIRST TRUE HEAVEN, (counting upward from \\n          the Physical).  The planes between (but NOT including) the \\n          Physical and Soul Planes are called the Psychic Planes. \\n    \\n               It is likely that ESP, telepathy, astrological \\n          influences, radionic effects, biological transmutations [See \\n          the 1972 book with that title.], and other phenomena without \\n          an apparent physical origin, result from INTERACTIONS between \\n          the Psychic Planes and the Physical Plane. \\n    \\n               The major planes are also SUB-DIVIDED.  For example, a \\n          sub-plane of the Astral Plane is called \"Hades\", and the \\n          Christian Hell occupies a SMALL part of it, created there \\n          LESS THAN 2000 YEARS AGO by the EARLY CATHOLIC CHURCH by some \\n          kind of black magic or by simply teaching its existence in a \\n          THREATENING manner.  The Christian \"Heaven\" is located \\n          elsewhere on the Astral Plane.  Good Christians will go there \\n          for a short while and then REincarnate back to Earth. \\n          \\n          \\n          \\n          SOUND CURRENT vs. BLIND FAITH\\n\\n               The Christian religion demands of its followers an \\n          extraordinary amount of BLIND FAITH backed up by little more \\n          than GOOD FEELING (which is TOTALLY DECEIVING). \\n       \\n               If a person is not HEARING some form of the \"SOUND \\n          CURRENT\" (\"THE WORD\", \"THE BANI\", \"THE AUDIBLE LIFE STREAM\"), \\n          then his cycles of REINCARNATION in this MISERABLE world WILL \\n          CONTINUE. \\n    \\n               The \"SOUND CURRENT\" manifests differently for different \\n          Initiates, and can sound like a rushing wind, ocean waves on \\n          the sea shore, buzzing bees, higher-pitched buzzing sound, a \\n          flute, various heavenly music, or other sounds.  In Eckankar, \\n          Members start hearing it near the end of their first year as \\n          a Member.  This and other experiences (such as \"SOUL TRAVEL\") \\n          REPLACE blind faith. \\n    \\n\\n\\n               For more information, answers to your questions, etc., \\n          please consult my CITED SOURCES (3 books, 2 addresses). \\n\\n\\n\\n               UN-altered REPRODUCTION and DISSEMINATION of this \\n          IMPORTANT Information is ENCOURAGED. \\n</td>\n",
       "      <td>19</td>\n",
       "      <td>talk.religion.misc</td>\n",
       "    </tr>\n",
       "    <tr>\n",
       "      <th>4606</th>\n",
       "      <td>Let me try sending this message again, I botched up the margins the\\nfirst time; *sorry* 'bout that :)\\n\\nDoes anyone out there know of any products using Motorola's Neuron(r)\\nchips MC143150 or MC143120. If so, what are they and are they utilizing\\nStandard Network Variable Types (SNVT)?\\n________________________________________________________________________</td>\n",
       "      <td>12</td>\n",
       "      <td>sci.electronics</td>\n",
       "    </tr>\n",
       "  </tbody>\n",
       "</table>\n",
       "</div>"
      ],
      "text/plain": [
       "                                                                                                                                                                                                                                                                                                                                                                                                                                                                                                                                                                                                                                                                                                                                                                                                                                                                                                                                                                                                                                                                                                                                                                                                                                                                                                                                                                                                                                                                                                                                                                                                                                                                                                                                                                                                                                                                                                                                                                                                                                                                                                                                                                                                                                                                                                                                                                                                                                                                                                                                                                                                                                                                                                                                                                                                                                                                                                                                                                                                                                                                                                                                                                                                                                                                                                                                                                                                                                                                                                                                                                                                                                                                                                                                                                                                                                                                                                                                                                                                                                                                                                                                                                                                                                                                                                                                                                                                                                                                                                                                                                                                                                                                                                                                                                                                                                                                                                                                                                                                                                                                                                                                                                                                                                                                                                                                                                                                                                                                                                                                                                                                                                                                                                                                                                                                                                                                                                                                                                                                                                                                                                                                                                                                                                                                                                                                                                                                                                                                                                                                                                                                                                                                                                                                                                                                                                                                                                                                                                                                                                                                                                                                                                                                                                                                                                                                                                                                                                                                                                                                                                                                                                                                                                                                                                                                                                                                                                                                                                                                                                                                                                                                                                                                                                                                                                                                                                                                                                                                                                                                                                                                                                                                                                                                                                                                                                                                                                                                                                                                                                                                                                                                                                                                                                                                                                                                                                                                                                                                                                                                                                                                                                                                                                                                                                                                                                                                                                                                                                                                                                                                                                                                                                                                                                                                                                                                                                                                                                                                                                                                                                                                                                                                                                                             content  \\\n",
       "10820  bm967@cleveland.Freenet.Edu (David Kantrowitz) writes ...\\n\\nSure.  Buy a switch box and a multisync monitor.  I have just that\\narrangement on my desk and it works fine.\\n                                                                                                                                                                                                                                                                                                                                                                                                                                                                                                                                                                                                                                                                                                                                                                                                                                                                                                                                                                                                                                                                                                                                                                                                                                                                                                                                                                                                                                                                                                                                                                                                                                                                                                                                                                                                                                                                                                                                                                                                                                                                                                                                                                                                                                                                                                                                                                                                                                                                                                                                                                                                                                                                                                                                                                                                                                                                                                                                                                                                                                                                                                                                                                                                                                                                                                                                                                                                                                                                                                                                                                                                                                                                                                                                                                                                                                                                                                                                                                                                                                                                                                                                                                                                                                                                                                                                                                                                                                                                                                                                                                                                                                                                                                                                                                                                                                                                                                                                                                                                                                                                                                                                                                                                                                                                                                                                                                                                                                                                                                                                                                                                                                                                                                                                                                                                                                                                                                                                                                                                                                                                                                                                                                                                                                                                                                                                                                                                                                                                                                                                                                                                                                                                                                                                                                                                                                                                                                                                                                                                                                                                                                                                                                                                                                                                                                                                                                                                                                                                                                                                                                                                                                                                                                                                                                                                                                                                                                                                                                                                                                                                                                                                                                                                                                                                                                                                                                                                                                                                                                                                                                                                                                                                                                                                                                                                                                                                                                                                                                                                                                                                                                                                                                                                                                                                                                                                                                                                                                                                                                                                                                                                                                                                                                                                                                                                                                                                                                                                                                                                                                                                                                                                                                                                                                                                                                                                                                                                                                                                                                                                                    \n",
       "6173   THE DIVINE MASTERS       \\n      \\n               Most Christians would agree, and correctly so, that \\n          Jesus Christ was a Divine Master, and a projection of God \\n          into the physical world, God Incarnate. \\n          \\n               But there are some very important related facts that \\n          Christians are COMPLETELY IGNORANT of, as are followers of \\n          most other world religions. \\n           \\n               First, Jesus Christ was NOT unique, John 3:16 NOTWITH-\\n          STANDING.  There is ALWAYS at least one such Divine Master \\n          (God Incarnate) PHYSICALLY ALIVE in this world AT ALL TIMES, \\n          a continuous succession THROUGHOUT HISTORY, both before and \\n          after the life of Jesus. \\n    \\n               The followers of some of these Masters founded the \\n          world's major religions, usually PERVERTING the teachings of \\n          their Master in the process.  Christians, for example, added \\n          THREATS of \"ETERNAL DAMNATION\" in Hell, and DELETED the \\n          teaching of REincarnation. \\n       \\n               Secondly, and more importantly, after a particular \\n          Master physically dies and leaves this world, there is \\n          NOTHING that He can do for ANYbody except for the relatively \\n          few people that He INITIATED while He was still PHYSICALLY \\n          alive.  (THAT IS SIMPLY THE WAY GOD SET THINGS UP IN THE \\n          UNIVERSES.)                             \\n\\n               Therefore, all those Christians who worship Jesus, and \\n          pray to Jesus, and expect Jesus to return and save them from \\n          their sins, are only KIDDING THEMSELVES, and have allowed \\n          themselves to be DUPED by a religion that was mostly \\n          MANUFACTURED by the Romans. \\n      \\n               And emotional \"feelings\" are a TOTALLY DECEIVING \\n          indicator for religious validity. \\n    \\n               These things are similarly true for followers of most \\n          other major world religions, including Islam. \\n     \\n               Thirdly, the primary function of each Master is to tune \\n          His Initiates into the \"AUDIBLE LIFE STREAM\" or \"SOUND \\n          CURRENT\", (referred to as \"THE WORD\" in John 1:1-5, and as \\n          \"The River of Life\" in Revelation 22:1), and to personally \\n          guide each of them thru the upper levels of Heaven while they \\n          are still connected to their living physical bodies by a \\n          \"silver cord\". \\n    \\n               True Salvation, which completes a Soul's cycles of \\n          REincarnation in the physical and psychic planes, is achieved \\n          only by reaching at least the \"SOUL PLANE\", which is five \\n          levels or universes above the physical universe, and this \\n          canNOT be done without the help of a PHYSICALLY-Living Divine \\n          Master. \\n    \\n               One such Divine Master alive today is an American, Sri \\n          Harold Klemp, the Living \"Eck\" Master or \"Mahanta\" for the \\n          \"Eckankar\" organization, now headquartered in Minneapolis, \\n          (P.O. Box 27300;  zip 55427). \\n    \\n               Another Divine Master is Maharaj Gurinder Singh Ji, now \\n          living in Punjab, India, and is associated with the \"Sant \\n          Mat\" organization. \\n      \\n               One of the classic books on this subject is \"THE PATH OF \\n          THE MASTERS\" (Radha Soami Books, P.O. Box 242, Gardena, CA  \\n          90247), written in 1939 by Dr. Julian Johnson, a theologian \\n          and surgeon who spent the last years of his life in India \\n          studying under and closely observing the Sant Mat Master of \\n          that time, Maharaj Sawan Singh Ji. \\n    \\n               Several of the Eckankar books, including some authored \\n          by Sri Paul Twitchell or Sri Harold Klemp, can be found in \\n          most public and university libraries and some book stores, or \\n          obtained thru inter-library loan.  The book \"ECKANKAR--THE \\n          KEY TO SECRET WORLDS\", by Sri Paul Twitchell, is ANOTHER \\n          classic. \\n    \\n               Many Christians are likely to confuse the Masters with \\n          the \"Anti-Christ\", which is or was to be a temporary world \\n          dictator during the so-called \"last days\".  But the Masters \\n          don't ever rule, even when asked or expected to do so as \\n          Jesus was. \\n    \\n               People who continue following Christianity, Islam, or \\n          other orthodox religions with a physically-DEAD Master, will \\n          CONTINUE on their cycles of REincarnation, between the \\n          Psychic Planes and this MISERABLE physical world, until they \\n          finally accept Initiation from a PHYSICALLY-LIVING Divine \\n          Master. \\n    \\n          \\n    \\n          RE-INCARNATION\\n          \\n               The book \"HERE AND HEREAFTER\", by Ruth Montgomery, \\n          describes several kinds of evidence supporting REincarnation \\n          as a FACT OF LIFE, including HYPNOTIC REGRESSIONS to past \\n          lives [about 50% accurate; the subconscious mind sometimes \\n          makes things up, especially with a bad hypnotist], \\n          SPONTANEOUS RECALL (especially by young children, some of \\n          whom can identify their most recent previous relatives, \\n          homes, possessions, etc.), DREAM RECALL of past life experi-\\n          ences, DEJA VU (familiarity with a far off land while travel-\\n          ing there for the first time on vacation), the psychic read-\\n          ings of the late EDGAR CAYCE, and EVEN SUPPORTING STATEMENTS \\n          FROM THE CHRISTIAN BIBLE including Matthew 17:11-13 (John the \\n          Baptist was the REINCARNATION of Elias.) and John 9:1-2 (How \\n          can a person POSSIBLY sin before he is born, unless he LIVED \\n          BEFORE?!).  [ ALWAYS use the \"KING JAMES VERSION\".  Later \\n          versions are PER-VERSIONS! ] \\n          \\n               Strong INTERESTS, innate TALENTS, strong PHOBIAS, etc., \\n          typically originate from a person's PAST LIVES.  For example, \\n          a strong fear of swimming in or traveling over water usually \\n          results from having DROWNED at the end of a PREVIOUS LIFE.  \\n          And sometimes a person will take AN IMMEDIATE DISLIKE to \\n          another person being met for the first time in THIS life, \\n          because of a bad encounter with him during a PREVIOUS \\n          INCARNATION. \\n\\n               The teaching of REincarnation also includes the LAW OF \\n          KARMA (Galatians 6:7, Revelation 13:10, etc.).  People would \\n          behave much better toward each other if they knew that their \\n          actions in the present will surely be reaped by them in the \\n          future, or in a FUTURE INCARNATION! \\n\\n\\n\\n          \"2nd COMINGS\"\\n\\n               If a Divine Master physically dies (\"translates\") \\n          before a particular Initiate of His does, then when that \\n          Initiate physically dies (\"translates\"), the Master will meet \\n          him on the Astral level and take him directly to the Soul \\n          Plane.  This is the ONE AND ONLY correct meaning of a 2nd \\n          Coming.  It is an INDIVIDUAL experience, NOT something that \\n          happens for everyone all at once.  People who are still \\n          waiting for Jesus' \"2nd Coming\" are WAITING IN VAIN. \\n    \\n          \\n          \\n          PLANES OF EXISTENCE\\n\\n               The physical universe is the LOWEST of at least a DOZEN \\n          major levels of existence.  Above the Physical Plane is the \\n          Astral Plane, the Causal Plane, the Mental Plane, the Etheric \\n          Plane (often counted as the upper part of the Mental Plane), \\n          the Soul Plane, and several higher Spiritual Planes.  The \\n          Soul Plane is the FIRST TRUE HEAVEN, (counting upward from \\n          the Physical).  The planes between (but NOT including) the \\n          Physical and Soul Planes are called the Psychic Planes. \\n    \\n               It is likely that ESP, telepathy, astrological \\n          influences, radionic effects, biological transmutations [See \\n          the 1972 book with that title.], and other phenomena without \\n          an apparent physical origin, result from INTERACTIONS between \\n          the Psychic Planes and the Physical Plane. \\n    \\n               The major planes are also SUB-DIVIDED.  For example, a \\n          sub-plane of the Astral Plane is called \"Hades\", and the \\n          Christian Hell occupies a SMALL part of it, created there \\n          LESS THAN 2000 YEARS AGO by the EARLY CATHOLIC CHURCH by some \\n          kind of black magic or by simply teaching its existence in a \\n          THREATENING manner.  The Christian \"Heaven\" is located \\n          elsewhere on the Astral Plane.  Good Christians will go there \\n          for a short while and then REincarnate back to Earth. \\n          \\n          \\n          \\n          SOUND CURRENT vs. BLIND FAITH\\n\\n               The Christian religion demands of its followers an \\n          extraordinary amount of BLIND FAITH backed up by little more \\n          than GOOD FEELING (which is TOTALLY DECEIVING). \\n       \\n               If a person is not HEARING some form of the \"SOUND \\n          CURRENT\" (\"THE WORD\", \"THE BANI\", \"THE AUDIBLE LIFE STREAM\"), \\n          then his cycles of REINCARNATION in this MISERABLE world WILL \\n          CONTINUE. \\n    \\n               The \"SOUND CURRENT\" manifests differently for different \\n          Initiates, and can sound like a rushing wind, ocean waves on \\n          the sea shore, buzzing bees, higher-pitched buzzing sound, a \\n          flute, various heavenly music, or other sounds.  In Eckankar, \\n          Members start hearing it near the end of their first year as \\n          a Member.  This and other experiences (such as \"SOUL TRAVEL\") \\n          REPLACE blind faith. \\n    \\n\\n\\n               For more information, answers to your questions, etc., \\n          please consult my CITED SOURCES (3 books, 2 addresses). \\n\\n\\n\\n               UN-altered REPRODUCTION and DISSEMINATION of this \\n          IMPORTANT Information is ENCOURAGED. \\n   \n",
       "4606   Let me try sending this message again, I botched up the margins the\\nfirst time; *sorry* 'bout that :)\\n\\nDoes anyone out there know of any products using Motorola's Neuron(r)\\nchips MC143150 or MC143120. If so, what are they and are they utilizing\\nStandard Network Variable Types (SNVT)?\\n________________________________________________________________________                                                                                                                                                                                                                                                                                                                                                                                                                                                                                                                                                                                                                                                                                                                                                                                                                                                                                                                                                                                                                                                                                                                                                                                                                                                                                                                                                                                                                                                                                                                                                                                                                                                                                                                                                                                                                                                                                                                                                                                                                                                                                                                                                                                                                                                                                                                                                                                                                                                                                                                                                                                                                                                                                                                                                                                                                                                                                                                                                                                                                                                                                                                                                                                                                                                                                                                                                                                                                                                                                                                                                                                                                                                                                                                                                                                                                                                                                                                                                                                                                                                                                                                                                                                                                                                                                                                                                                                                                                                                                                                                                                                                                                                                                                                                                                                                                                                                                                                                                                                                                                                                                                                                                                                                                                                                                                                                                                                                                                                                                                                                                                                                                                                                                                                                                                                                                                                                                                                                                                                                                                                                                                                                                                                                                                                                                                                                                                                                                                                                                                                                                                                                                                                                                                                                                                                                                                                                                                                                                                                                                                                                                                                                                                                                                                                                                                                                                                                                                                                                                                                                                                                                                                                                                                                                                                                                                                                                                                                                                                                                                                                                                                                                                                                                                                                                                                                                                                                                                                                                                                                                                                                                                                                                                                                                                                                                                                                                                                                                                                                                                                                                                                                                                                                                                                                                                                                                                                                                                                                                                                                                                                                                                                                                                                                                                                                                                                                                                                                                                                                                                                                                                                                                                                                                                                                                                                                                                     \n",
       "\n",
       "       target           target_names  \n",
       "10820  4       comp.sys.mac.hardware  \n",
       "6173   19      talk.religion.misc     \n",
       "4606   12      sci.electronics        "
      ]
     },
     "execution_count": 24,
     "metadata": {},
     "output_type": "execute_result"
    }
   ],
   "source": [
    "pd.set_option('display.max_colwidth', 0)\n",
    "df.sample(3)"
   ]
  },
  {
   "cell_type": "code",
   "execution_count": 35,
   "metadata": {
    "colab": {},
    "colab_type": "code",
    "id": "na2bkOcFGter"
   },
   "outputs": [
    {
     "name": "stderr",
     "output_type": "stream",
     "text": [
      "C:\\Users\\keith\\.conda\\envs\\U4-S1-NLP\\lib\\site-packages\\ipykernel\\ipkernel.py:287: DeprecationWarning: `should_run_async` will not call `transform_cell` automatically in the future. Please pass the result to `transformed_cell` argument and any exception that happen during thetransform in `preprocessing_exc_tuple` in IPython 7.17 and above.\n",
      "  and should_run_async(code)\n",
      "<>:6: DeprecationWarning: invalid escape sequence \\s\n",
      "<>:11: DeprecationWarning: invalid escape sequence \\S\n",
      "<>:6: DeprecationWarning: invalid escape sequence \\s\n",
      "<>:11: DeprecationWarning: invalid escape sequence \\S\n",
      "<>:6: DeprecationWarning: invalid escape sequence \\s\n",
      "<>:11: DeprecationWarning: invalid escape sequence \\S\n",
      "<ipython-input-35-1f85b486a4f6>:6: DeprecationWarning: invalid escape sequence \\s\n",
      "  df['content'] = df['content'].apply(lambda x: re.sub('\\s+',' ', x))\n",
      "<ipython-input-35-1f85b486a4f6>:11: DeprecationWarning: invalid escape sequence \\S\n",
      "  df['content'] = df['content'].apply(lambda x: re.sub('From: \\S+@\\S+','', x))\n"
     ]
    }
   ],
   "source": [
    "# For reference on regex: https://docs.python.org/3/library/re.html\n",
    "\n",
    "# From 'content' column: \n",
    "\n",
    "# 1. Remove new line characters\n",
    "df['content'] = df['content'].apply(lambda x: re.sub('\\s+',' ', x))\n",
    "\n",
    "# 2. Remove extra whitespace \n",
    "df['content'] = df['content'].apply(lambda x: ' '.join(x.split()))\n",
    "# 3. Remove Emails\n",
    "df['content'] = df['content'].apply(lambda x: re.sub('From: \\S+@\\S+','', x))\n",
    "\n",
    "# 4. Remove non-alphanumeric characters\n",
    "df['content'] = df['content'].apply(lambda x: re.sub('[^a-zA-Z]', ' ', x))\n"
   ]
  },
  {
   "cell_type": "code",
   "execution_count": 36,
   "metadata": {
    "colab": {},
    "colab_type": "code",
    "id": "2prKILFo3Lzg"
   },
   "outputs": [
    {
     "name": "stderr",
     "output_type": "stream",
     "text": [
      "C:\\Users\\keith\\.conda\\envs\\U4-S1-NLP\\lib\\site-packages\\ipykernel\\ipkernel.py:287: DeprecationWarning: `should_run_async` will not call `transform_cell` automatically in the future. Please pass the result to `transformed_cell` argument and any exception that happen during thetransform in `preprocessing_exc_tuple` in IPython 7.17 and above.\n",
      "  and should_run_async(code)\n"
     ]
    },
    {
     "data": {
      "text/html": [
       "<div>\n",
       "<style scoped>\n",
       "    .dataframe tbody tr th:only-of-type {\n",
       "        vertical-align: middle;\n",
       "    }\n",
       "\n",
       "    .dataframe tbody tr th {\n",
       "        vertical-align: top;\n",
       "    }\n",
       "\n",
       "    .dataframe thead th {\n",
       "        text-align: right;\n",
       "    }\n",
       "</style>\n",
       "<table border=\"1\" class=\"dataframe\">\n",
       "  <thead>\n",
       "    <tr style=\"text-align: right;\">\n",
       "      <th></th>\n",
       "      <th>content</th>\n",
       "      <th>target</th>\n",
       "      <th>target_names</th>\n",
       "    </tr>\n",
       "  </thead>\n",
       "  <tbody>\n",
       "    <tr>\n",
       "      <th>626</th>\n",
       "      <td>Could somebody explain to me what a centrifuge is and what it is   used for  I vaguely remembre it being something that spins test tubes   around really fast but I cant remember why youd want to do that  Purely recreational  They get bored sitting in that rack all the time</td>\n",
       "      <td>13</td>\n",
       "      <td>sci.med</td>\n",
       "    </tr>\n",
       "    <tr>\n",
       "      <th>3393</th>\n",
       "      <td>How can you assume it was a sarcastic remark</td>\n",
       "      <td>10</td>\n",
       "      <td>rec.sport.hockey</td>\n",
       "    </tr>\n",
       "    <tr>\n",
       "      <th>5627</th>\n",
       "      <td>Hello  I m trying to get X  R  running on my PC and ran into the following error message when trying to start the Xserver         Setting TCP SO DONTLINGER  Option not supported by protocol X    Version       X Windows System  protocol Version     revision    vendor release       Fatal server error no screens found giving up xinit  software cased connection abort  errno       unable to connect to X xserver         does anyone know what this error means   has anyone experienced this problem   help will be much appreciated thanks in advance  please send replies to  christy alex qc ca</td>\n",
       "      <td>5</td>\n",
       "      <td>comp.windows.x</td>\n",
       "    </tr>\n",
       "  </tbody>\n",
       "</table>\n",
       "</div>"
      ],
      "text/plain": [
       "                                                                                                                                                                                                                                                                                                                                                                                                                                                                                                                                                                                                            content  \\\n",
       "626     Could somebody explain to me what a centrifuge is and what it is   used for  I vaguely remembre it being something that spins test tubes   around really fast but I cant remember why youd want to do that  Purely recreational  They get bored sitting in that rack all the time                                                                                                                                                                                                                                                                                                                             \n",
       "3393  How can you assume it was a sarcastic remark                                                                                                                                                                                                                                                                                                                                                                                                                                                                                                                                                                    \n",
       "5627  Hello  I m trying to get X  R  running on my PC and ran into the following error message when trying to start the Xserver         Setting TCP SO DONTLINGER  Option not supported by protocol X    Version       X Windows System  protocol Version     revision    vendor release       Fatal server error no screens found giving up xinit  software cased connection abort  errno       unable to connect to X xserver         does anyone know what this error means   has anyone experienced this problem   help will be much appreciated thanks in advance  please send replies to  christy alex qc ca    \n",
       "\n",
       "      target      target_names  \n",
       "626   13      sci.med           \n",
       "3393  10      rec.sport.hockey  \n",
       "5627  5       comp.windows.x    "
      ]
     },
     "execution_count": 36,
     "metadata": {},
     "output_type": "execute_result"
    }
   ],
   "source": [
    "df.sample(3)"
   ]
  },
  {
   "cell_type": "code",
   "execution_count": 37,
   "metadata": {
    "colab": {},
    "colab_type": "code",
    "id": "kSW10Cb33Lzk"
   },
   "outputs": [
    {
     "name": "stderr",
     "output_type": "stream",
     "text": [
      "C:\\Users\\keith\\.conda\\envs\\U4-S1-NLP\\lib\\site-packages\\ipykernel\\ipkernel.py:287: DeprecationWarning: `should_run_async` will not call `transform_cell` automatically in the future. Please pass the result to `transformed_cell` argument and any exception that happen during thetransform in `preprocessing_exc_tuple` in IPython 7.17 and above.\n",
      "  and should_run_async(code)\n"
     ]
    }
   ],
   "source": [
    "nlp = spacy.load(\"en_core_web_lg\")"
   ]
  },
  {
   "cell_type": "code",
   "execution_count": 38,
   "metadata": {
    "colab": {},
    "colab_type": "code",
    "id": "pkgfv9tc3Lzi"
   },
   "outputs": [
    {
     "name": "stderr",
     "output_type": "stream",
     "text": [
      "C:\\Users\\keith\\.conda\\envs\\U4-S1-NLP\\lib\\site-packages\\ipykernel\\ipkernel.py:287: DeprecationWarning: `should_run_async` will not call `transform_cell` automatically in the future. Please pass the result to `transformed_cell` argument and any exception that happen during thetransform in `preprocessing_exc_tuple` in IPython 7.17 and above.\n",
      "  and should_run_async(code)\n"
     ]
    }
   ],
   "source": [
    "# Leverage tqdm for progress_apply\n",
    "from tqdm import tqdm\n",
    "tqdm.pandas()\n",
    "\n",
    "# If you're on macOS, Linux, or python session executed from Windows Subsystem for Linux (WSL)\n",
    "# conda activate U4-S1-NLP\n",
    "# pip install pandarallel\n",
    "#\n",
    "# from pandarallel import pandarallel\n",
    "# pandarallel.initialize(progress_bar=True)\n",
    "#\n",
    "# df['lemmas'] = df['content'].parallel_apply(get_lemmas)\n",
    "#\n",
    "# Ref: https://github.com/nalepae/pandarallel"
   ]
  },
  {
   "cell_type": "code",
   "execution_count": 39,
   "metadata": {
    "colab": {},
    "colab_type": "code",
    "id": "6EBPQXqEKE9P"
   },
   "outputs": [
    {
     "name": "stderr",
     "output_type": "stream",
     "text": [
      "C:\\Users\\keith\\.conda\\envs\\U4-S1-NLP\\lib\\site-packages\\ipykernel\\ipkernel.py:287: DeprecationWarning: `should_run_async` will not call `transform_cell` automatically in the future. Please pass the result to `transformed_cell` argument and any exception that happen during thetransform in `preprocessing_exc_tuple` in IPython 7.17 and above.\n",
      "  and should_run_async(code)\n",
      "100%|████████████████████████████████████████████████████████████████████████████| 11314/11314 [04:58<00:00, 37.95it/s]\n"
     ]
    }
   ],
   "source": [
    "# Create 'lemmas' column\n",
    "def get_lemmas(x):\n",
    "    lemmas = []\n",
    "    for token in nlp(x):\n",
    "        if (token.is_stop!=True) and (token.is_punct!=True):\n",
    "            lemmas.append(token.lemma_)\n",
    "    return lemmas\n",
    "\n",
    "df['lemmas'] = df['content'].progress_apply(get_lemmas)"
   ]
  },
  {
   "cell_type": "code",
   "execution_count": 40,
   "metadata": {
    "colab": {},
    "colab_type": "code",
    "id": "-yvsyIpvKBlw"
   },
   "outputs": [
    {
     "name": "stderr",
     "output_type": "stream",
     "text": [
      "C:\\Users\\keith\\.conda\\envs\\U4-S1-NLP\\lib\\site-packages\\ipykernel\\ipkernel.py:287: DeprecationWarning: `should_run_async` will not call `transform_cell` automatically in the future. Please pass the result to `transformed_cell` argument and any exception that happen during thetransform in `preprocessing_exc_tuple` in IPython 7.17 and above.\n",
      "  and should_run_async(code)\n"
     ]
    },
    {
     "data": {
      "text/html": [
       "<div>\n",
       "<style scoped>\n",
       "    .dataframe tbody tr th:only-of-type {\n",
       "        vertical-align: middle;\n",
       "    }\n",
       "\n",
       "    .dataframe tbody tr th {\n",
       "        vertical-align: top;\n",
       "    }\n",
       "\n",
       "    .dataframe thead th {\n",
       "        text-align: right;\n",
       "    }\n",
       "</style>\n",
       "<table border=\"1\" class=\"dataframe\">\n",
       "  <thead>\n",
       "    <tr style=\"text-align: right;\">\n",
       "      <th></th>\n",
       "      <th>content</th>\n",
       "      <th>target</th>\n",
       "      <th>target_names</th>\n",
       "      <th>lemmas</th>\n",
       "    </tr>\n",
       "  </thead>\n",
       "  <tbody>\n",
       "    <tr>\n",
       "      <th>0</th>\n",
       "      <td>I was wondering if anyone out there could enlighten me on this car I saw the other day  It was a   door sports car  looked to be from the late   s  early   s  It was called a Bricklin  The doors were really small  In addition  the front bumper was separate from the rest of the body  This is all I know  If anyone can tellme a model name  engine specs  years of production  where this car is made  history  or whatever info you have on this funky looking car  please e mail</td>\n",
       "      <td>7</td>\n",
       "      <td>rec.autos</td>\n",
       "      <td>[wonder, enlighten, car, see, day,  ,   , door, sport, car,  , look, late,   , s,  , early,   , s,  , call, Bricklin,  , door, small,  , addition,  , bumper, separate, rest, body,  , know,  , tellme, model,  , engine, spec,  , year, production,  , car,  , history,  , info, funky, look, car,  , e, mail]</td>\n",
       "    </tr>\n",
       "    <tr>\n",
       "      <th>1</th>\n",
       "      <td>A fair number of brave souls who upgraded their SI clock oscillator have shared their experiences for this poll  Please send a brief message detailing your experiences with the procedure  Top speed attained  CPU rated speed  add on cards and adapters  heat sinks  hour of usage per day  floppy disk functionality with     and     m floppies are especially requested  I will be summarizing in the next two days  so please add to the network knowledge base if you have done the clock upgrade and haven t answered this poll  Thanks</td>\n",
       "      <td>4</td>\n",
       "      <td>comp.sys.mac.hardware</td>\n",
       "      <td>[fair, number, brave, soul, upgrade, SI, clock, oscillator, share, experience, poll,  , send, brief, message, detail, experience, procedure,  , speed, attain,  , cpu, rate, speed,  , add, card, adapter,  , heat, sink,  , hour, usage, day,  , floppy, disk, functionality,     ,     , m, floppy, especially, request,  , summarize, day,  , add, network, knowledge, base, clock, upgrade, haven, t, answer, poll,  , thank]</td>\n",
       "    </tr>\n",
       "    <tr>\n",
       "      <th>2</th>\n",
       "      <td>well folks  my mac plus finally gave up the ghost this weekend after starting life as a    k way back in       sooo  i m in the market for a new machine a bit sooner than i intended to be    i m looking into picking up a powerbook     or maybe     and have a bunch of questions that  hopefully  somebody can answer    does anybody know any dirt on when the next round of powerbook introductions are expected  i d heard the    c was supposed to make an appearence  this summer  but haven t heard anymore on it   and since i don t have access to macleak  i was wondering if anybody out there had more info      has anybody heard rumors about price drops to the powerbook line like the ones the duo s just went through recently    what s the impression of the display on the      i could probably swing a     if i got the   Mb disk rather than the      but i don t really have a feel for how much  better  the display is  yea  it looks great in the store  but is that all  wow  or is it really that good    could i solicit some opinions of people who use the     and     day to day on if its worth taking the disk size and money hit to get the active display   i realize this is a real subjective question  but i ve only played around with the machines in a computer store breifly and figured the opinions of somebody who actually uses the machine daily might prove helpful     how well does hellcats perform     thanks a bunch in advance for any info   if you could email  i ll post a summary  news reading time is at a premium with finals just around the corner            Tom Willis   twillis ecn purdue edu   Purdue Electrical Engineering</td>\n",
       "      <td>4</td>\n",
       "      <td>comp.sys.mac.hardware</td>\n",
       "      <td>[folk,  , mac, plus, finally, give, ghost, weekend, start, life,    , k, way,       , sooo,  , m, market, new, machine, bit, sooner, intend,    , m, look, pick, powerbook,     , maybe,     , bunch, question,  , hopefully,  , somebody, answer,    , anybody, know, dirt, round, powerbook, introduction, expect,  , d, hear,    , c, suppose, appearence,  , summer,  , haven, t, hear, anymore,   , don, t, access, macleak,  , wonder, anybody, info,      , anybody, hear, rumor, price, drop, powerbook, line, like, one, duo, s, go, recently,    , s, impression, display,      , probably, swing,     , get,   , Mb, disk,      , don, t, feel,  , ...]</td>\n",
       "    </tr>\n",
       "    <tr>\n",
       "      <th>3</th>\n",
       "      <td>Do you have Weitek s address phone number  I d like to get some information about this chip</td>\n",
       "      <td>1</td>\n",
       "      <td>comp.graphics</td>\n",
       "      <td>[Weitek, s, address, phone, number,  , d, like, information, chip]</td>\n",
       "    </tr>\n",
       "    <tr>\n",
       "      <th>4</th>\n",
       "      <td>From article  C owCB n p world std com   by tombaker world std com  Tom A Baker   My understanding is that the  expected errors  are basically known bugs in the warning system software   things are checked that don t have the right values in yet because they aren t set till after launch  and suchlike  Rather than fix the code and possibly introduce new bugs  they just tell the crew  ok  if you see a warning no      before liftoff  ignore it</td>\n",
       "      <td>14</td>\n",
       "      <td>sci.space</td>\n",
       "      <td>[article,  , C, owcb, n, p, world, std, com,   , tombaker, world, std, com,  , Tom, Baker,   , understanding,  , expect, error,  , basically, know, bug, warning, system, software,   , thing, check, don, t, right, value, aren, t, set, till, launch,  , suchlike,  , fix, code, possibly, introduce, new, bug,  , tell, crew,  , ok,  , warning,      , liftoff,  , ignore,  ]</td>\n",
       "    </tr>\n",
       "  </tbody>\n",
       "</table>\n",
       "</div>"
      ],
      "text/plain": [
       "                                                                                                                                                                                                                                                                                                                                                                                                                                                                                                                                                                                                                                                                                                                                                                                                                                                                                                                                                                                                                                                                                                                                                                                                                                                                                                                                                                                                                                                                                                                                                                                                                                                                                                   content  \\\n",
       "0  I was wondering if anyone out there could enlighten me on this car I saw the other day  It was a   door sports car  looked to be from the late   s  early   s  It was called a Bricklin  The doors were really small  In addition  the front bumper was separate from the rest of the body  This is all I know  If anyone can tellme a model name  engine specs  years of production  where this car is made  history  or whatever info you have on this funky looking car  please e mail                                                                                                                                                                                                                                                                                                                                                                                                                                                                                                                                                                                                                                                                                                                                                                                                                                                                                                                                                                                                                                                                                                                                                                                                                 \n",
       "1  A fair number of brave souls who upgraded their SI clock oscillator have shared their experiences for this poll  Please send a brief message detailing your experiences with the procedure  Top speed attained  CPU rated speed  add on cards and adapters  heat sinks  hour of usage per day  floppy disk functionality with     and     m floppies are especially requested  I will be summarizing in the next two days  so please add to the network knowledge base if you have done the clock upgrade and haven t answered this poll  Thanks                                                                                                                                                                                                                                                                                                                                                                                                                                                                                                                                                                                                                                                                                                                                                                                                                                                                                                                                                                                                                                                                                                                                                          \n",
       "2  well folks  my mac plus finally gave up the ghost this weekend after starting life as a    k way back in       sooo  i m in the market for a new machine a bit sooner than i intended to be    i m looking into picking up a powerbook     or maybe     and have a bunch of questions that  hopefully  somebody can answer    does anybody know any dirt on when the next round of powerbook introductions are expected  i d heard the    c was supposed to make an appearence  this summer  but haven t heard anymore on it   and since i don t have access to macleak  i was wondering if anybody out there had more info      has anybody heard rumors about price drops to the powerbook line like the ones the duo s just went through recently    what s the impression of the display on the      i could probably swing a     if i got the   Mb disk rather than the      but i don t really have a feel for how much  better  the display is  yea  it looks great in the store  but is that all  wow  or is it really that good    could i solicit some opinions of people who use the     and     day to day on if its worth taking the disk size and money hit to get the active display   i realize this is a real subjective question  but i ve only played around with the machines in a computer store breifly and figured the opinions of somebody who actually uses the machine daily might prove helpful     how well does hellcats perform     thanks a bunch in advance for any info   if you could email  i ll post a summary  news reading time is at a premium with finals just around the corner            Tom Willis   twillis ecn purdue edu   Purdue Electrical Engineering   \n",
       "3  Do you have Weitek s address phone number  I d like to get some information about this chip                                                                                                                                                                                                                                                                                                                                                                                                                                                                                                                                                                                                                                                                                                                                                                                                                                                                                                                                                                                                                                                                                                                                                                                                                                                                                                                                                                                                                                                                                                                                                                                                               \n",
       "4  From article  C owCB n p world std com   by tombaker world std com  Tom A Baker   My understanding is that the  expected errors  are basically known bugs in the warning system software   things are checked that don t have the right values in yet because they aren t set till after launch  and suchlike  Rather than fix the code and possibly introduce new bugs  they just tell the crew  ok  if you see a warning no      before liftoff  ignore it                                                                                                                                                                                                                                                                                                                                                                                                                                                                                                                                                                                                                                                                                                                                                                                                                                                                                                                                                                                                                                                                                                                                                                                                                                              \n",
       "\n",
       "   target           target_names  \\\n",
       "0  7       rec.autos               \n",
       "1  4       comp.sys.mac.hardware   \n",
       "2  4       comp.sys.mac.hardware   \n",
       "3  1       comp.graphics           \n",
       "4  14      sci.space               \n",
       "\n",
       "                                                                                                                                                                                                                                                                                                                                                                                                                                                                                                                                                                                                                                                               lemmas  \n",
       "0  [wonder, enlighten, car, see, day,  ,   , door, sport, car,  , look, late,   , s,  , early,   , s,  , call, Bricklin,  , door, small,  , addition,  , bumper, separate, rest, body,  , know,  , tellme, model,  , engine, spec,  , year, production,  , car,  , history,  , info, funky, look, car,  , e, mail]                                                                                                                                                                                                                                                                                                                                                     \n",
       "1  [fair, number, brave, soul, upgrade, SI, clock, oscillator, share, experience, poll,  , send, brief, message, detail, experience, procedure,  , speed, attain,  , cpu, rate, speed,  , add, card, adapter,  , heat, sink,  , hour, usage, day,  , floppy, disk, functionality,     ,     , m, floppy, especially, request,  , summarize, day,  , add, network, knowledge, base, clock, upgrade, haven, t, answer, poll,  , thank]                                                                                                                                                                                                                                   \n",
       "2  [folk,  , mac, plus, finally, give, ghost, weekend, start, life,    , k, way,       , sooo,  , m, market, new, machine, bit, sooner, intend,    , m, look, pick, powerbook,     , maybe,     , bunch, question,  , hopefully,  , somebody, answer,    , anybody, know, dirt, round, powerbook, introduction, expect,  , d, hear,    , c, suppose, appearence,  , summer,  , haven, t, hear, anymore,   , don, t, access, macleak,  , wonder, anybody, info,      , anybody, hear, rumor, price, drop, powerbook, line, like, one, duo, s, go, recently,    , s, impression, display,      , probably, swing,     , get,   , Mb, disk,      , don, t, feel,  , ...]  \n",
       "3  [Weitek, s, address, phone, number,  , d, like, information, chip]                                                                                                                                                                                                                                                                                                                                                                                                                                                                                                                                                                                                  \n",
       "4  [article,  , C, owcb, n, p, world, std, com,   , tombaker, world, std, com,  , Tom, Baker,   , understanding,  , expect, error,  , basically, know, bug, warning, system, software,   , thing, check, don, t, right, value, aren, t, set, till, launch,  , suchlike,  , fix, code, possibly, introduce, new, bug,  , tell, crew,  , ok,  , warning,      , liftoff,  , ignore,  ]                                                                                                                                                                                                                                                                                   "
      ]
     },
     "execution_count": 40,
     "metadata": {},
     "output_type": "execute_result"
    }
   ],
   "source": [
    "df.head()"
   ]
  },
  {
   "cell_type": "markdown",
   "metadata": {
    "colab_type": "text",
    "id": "cPuCuK0z3Lzs"
   },
   "source": [
    "### The two main inputs to the LDA topic model are the dictionary (id2word) and the corpus."
   ]
  },
  {
   "cell_type": "code",
   "execution_count": 51,
   "metadata": {
    "colab": {},
    "colab_type": "code",
    "id": "1klqRpqtJxWc"
   },
   "outputs": [],
   "source": [
    "# Create Dictionary\n",
    "id2word = corpora.Dictionary(df['lemmas'] )\n",
    "\n",
    "# Term Document Frequency\n",
    "corpus = [id2word.doc2bow(text) for text in df['lemmas']]"
   ]
  },
  {
   "cell_type": "code",
   "execution_count": 52,
   "metadata": {},
   "outputs": [
    {
     "data": {
      "text/plain": [
       "77754"
      ]
     },
     "execution_count": 52,
     "metadata": {},
     "output_type": "execute_result"
    }
   ],
   "source": [
    "# How many words do we have?\n",
    "len(id2word.keys())"
   ]
  },
  {
   "cell_type": "code",
   "execution_count": 53,
   "metadata": {},
   "outputs": [],
   "source": [
    "# Let's remove extreme values from the dataset\n",
    "id2word.filter_extremes(no_below=5, no_above=0.75)"
   ]
  },
  {
   "cell_type": "code",
   "execution_count": 54,
   "metadata": {},
   "outputs": [
    {
     "data": {
      "text/plain": [
       "14778"
      ]
     },
     "execution_count": 54,
     "metadata": {},
     "output_type": "execute_result"
    }
   ],
   "source": [
    "# How many words do we have?\n",
    "len(id2word.keys())"
   ]
  },
  {
   "cell_type": "code",
   "execution_count": 55,
   "metadata": {
    "colab": {},
    "colab_type": "code",
    "id": "ArZPxcP5LH1J"
   },
   "outputs": [
    {
     "data": {
      "text/plain": [
       "'sheet'"
      ]
     },
     "execution_count": 55,
     "metadata": {},
     "output_type": "execute_result"
    }
   ],
   "source": [
    "id2word[300]"
   ]
  },
  {
   "cell_type": "code",
   "execution_count": 56,
   "metadata": {
    "colab": {},
    "colab_type": "code",
    "id": "_IIBnI2e3Lzw"
   },
   "outputs": [
    {
     "data": {
      "text/plain": [
       "'Of course  The term must be rigidly defined in any bill  I doubt she uses this term for that  You are using a quote allegedly from her  can you back it up  I read the article as presenting first an argument about weapons of mass destruction  as commonly understood  and then switching to other topics  The first point evidently was to show that not all weapons should be allowed  and then the later analysis was  given this understanding  to consider another class '"
      ]
     },
     "execution_count": 56,
     "metadata": {},
     "output_type": "execute_result"
    }
   ],
   "source": [
    "df['content'][5]"
   ]
  },
  {
   "cell_type": "code",
   "execution_count": 57,
   "metadata": {
    "colab": {},
    "colab_type": "code",
    "id": "bGFG9E2j3Lzz"
   },
   "outputs": [
    {
     "data": {
      "text/plain": [
       "[(0, 11),\n",
       " (117, 1),\n",
       " (177, 1),\n",
       " (193, 1),\n",
       " (221, 1),\n",
       " (225, 1),\n",
       " (226, 1),\n",
       " (227, 1),\n",
       " (228, 1),\n",
       " (229, 1),\n",
       " (230, 1),\n",
       " (231, 1),\n",
       " (232, 1),\n",
       " (233, 1),\n",
       " (234, 1),\n",
       " (235, 1),\n",
       " (236, 1),\n",
       " (237, 1),\n",
       " (238, 1),\n",
       " (239, 1),\n",
       " (240, 1),\n",
       " (241, 1),\n",
       " (242, 1),\n",
       " (243, 1),\n",
       " (244, 1),\n",
       " (245, 1),\n",
       " (246, 2),\n",
       " (247, 1),\n",
       " (248, 1),\n",
       " (249, 2)]"
      ]
     },
     "execution_count": 57,
     "metadata": {},
     "output_type": "execute_result"
    }
   ],
   "source": [
    "corpus[5]"
   ]
  },
  {
   "cell_type": "code",
   "execution_count": 49,
   "metadata": {
    "colab": {},
    "colab_type": "code",
    "id": "TB6wox963Lz2"
   },
   "outputs": [
    {
     "data": {
      "text/plain": [
       "'rm'"
      ]
     },
     "execution_count": 49,
     "metadata": {},
     "output_type": "execute_result"
    }
   ],
   "source": [
    "id2word[252]"
   ]
  },
  {
   "cell_type": "code",
   "execution_count": 58,
   "metadata": {
    "colab": {},
    "colab_type": "code",
    "id": "kk3g75XX3Lz4"
   },
   "outputs": [
    {
     "data": {
      "text/plain": [
       "'controller'"
      ]
     },
     "execution_count": 58,
     "metadata": {},
     "output_type": "execute_result"
    }
   ],
   "source": [
    "id2word[276]"
   ]
  },
  {
   "cell_type": "code",
   "execution_count": null,
   "metadata": {
    "colab": {},
    "colab_type": "code",
    "id": "6K2jWxHJLOzK"
   },
   "outputs": [],
   "source": [
    "# Human readable format of corpus (term-frequency)\n",
    "[(id2word[word_id], word_count) for word_id, word_count in corpus[5]]"
   ]
  },
  {
   "cell_type": "markdown",
   "metadata": {
    "colab_type": "text",
    "id": "le-XzI923Lz8"
   },
   "source": [
    "# Part 2: Estimate a LDA Model with Gensim"
   ]
  },
  {
   "cell_type": "markdown",
   "metadata": {
    "colab_type": "text",
    "id": "AlNG4bSI3Lz8"
   },
   "source": [
    " ### Train an LDA model"
   ]
  },
  {
   "cell_type": "code",
   "execution_count": null,
   "metadata": {
    "colab": {},
    "colab_type": "code",
    "id": "Fasvjf0VLQ2a"
   },
   "outputs": [],
   "source": [
    "%%time\n",
    "lda_model = gensim.models.ldamodel.LdaModel(corpus=corpus,\n",
    "                                            id2word=id2word,\n",
    "                                            num_topics=20, \n",
    "                                            chunksize=100,\n",
    "                                            passes=10,\n",
    "                                            per_word_topics=True)\n",
    "\n",
    "# https://radimrehurek.com/gensim/models/ldamodel.html"
   ]
  },
  {
   "cell_type": "code",
   "execution_count": null,
   "metadata": {
    "colab": {},
    "colab_type": "code",
    "id": "49CabmIj3Lz_"
   },
   "outputs": [],
   "source": [
    "# lda_model.save('lda_model.model')"
   ]
  },
  {
   "cell_type": "code",
   "execution_count": null,
   "metadata": {
    "colab": {},
    "colab_type": "code",
    "id": "XDgUshRE3L0C"
   },
   "outputs": [],
   "source": [
    "%%time\n",
    "lda_multicore = gensim.models.ldamulticore.LdaMulticore(corpus=corpus,\n",
    "                                                        id2word=id2word,\n",
    "                                                        num_topics=20, \n",
    "                                                        chunksize=100,\n",
    "                                                        passes=10,\n",
    "                                                        per_word_topics=True,\n",
    "                                                        workers=12)\n",
    "\n",
    "# https://radimrehurek.com/gensim/models/ldamulticore.html"
   ]
  },
  {
   "cell_type": "code",
   "execution_count": null,
   "metadata": {
    "colab": {},
    "colab_type": "code",
    "id": "Rgb9AaPq3L0E"
   },
   "outputs": [],
   "source": [
    "lda_multicore.save('lda_multicore.model')"
   ]
  },
  {
   "cell_type": "code",
   "execution_count": null,
   "metadata": {
    "colab": {},
    "colab_type": "code",
    "id": "VLxvJPoK3L0G"
   },
   "outputs": [],
   "source": [
    "from gensim import models\n",
    "lda_multicore =  models.LdaModel.load('lda_multicore.model')"
   ]
  },
  {
   "cell_type": "markdown",
   "metadata": {
    "colab_type": "text",
    "id": "uDH3tzx13L0I"
   },
   "source": [
    "### View the topics in LDA model"
   ]
  },
  {
   "cell_type": "code",
   "execution_count": null,
   "metadata": {},
   "outputs": [],
   "source": [
    "newsgroups_train.target_names"
   ]
  },
  {
   "cell_type": "code",
   "execution_count": null,
   "metadata": {
    "colab": {},
    "colab_type": "code",
    "id": "JawR8yscLVNS"
   },
   "outputs": [],
   "source": [
    "pprint(lda_multicore.print_topics())\n",
    "doc_lda = lda_multicore[corpus]"
   ]
  },
  {
   "cell_type": "code",
   "execution_count": null,
   "metadata": {},
   "outputs": [],
   "source": [
    "doc_lda"
   ]
  },
  {
   "cell_type": "code",
   "execution_count": null,
   "metadata": {},
   "outputs": [],
   "source": [
    "distro = [lda[d] for d in corpus]"
   ]
  },
  {
   "cell_type": "markdown",
   "metadata": {
    "colab_type": "text",
    "id": "gKEP0bIC3L0K"
   },
   "source": [
    "### What is topic Perplexity?\n",
    "Perplexity is a statistical measure of how well a probability model predicts a sample. As applied to LDA, for a given value of , you estimate the LDA model. Then given the theoretical word distributions represented by the topics, compare that to the actual topic mixtures, or distribution of words in your documents.\n",
    "\n",
    "### What is topic coherence?\n",
    "Topic Coherence measures score a single topic by measuring the degree of semantic similarity between high scoring words in the topic. These measurements help distinguish between topics that are semantically interpretable topics and topics that are artifacts of statistical inference.\n",
    "A set of statements or facts is said to be coherent, if they support each other. Thus, a coherent fact set can be interpreted in a context that covers all or most of the facts. An example of a coherent fact set is “the game is a team sport”, “the game is played with a ball”, “the game demands great physical efforts”"
   ]
  },
  {
   "cell_type": "code",
   "execution_count": null,
   "metadata": {
    "colab": {},
    "colab_type": "code",
    "id": "xCjhr8k4LXSy"
   },
   "outputs": [],
   "source": [
    "# Compute Perplexity\n",
    "print('\\nPerplexity: ', lda_multicore.log_perplexity(corpus))  # a measure of how good the model is. lower the better.\n",
    "\n",
    "# Compute Coherence Score\n",
    "coherence_model_lda = CoherenceModel(model=lda_multicore, \n",
    "                                     texts=df['lemmas'], \n",
    "                                     dictionary=id2word, \n",
    "                                     coherence='c_v')\n",
    "coherence_lda = coherence_model_lda.get_coherence()\n",
    "print('\\nCoherence Score: ', coherence_lda)"
   ]
  },
  {
   "cell_type": "markdown",
   "metadata": {
    "colab_type": "text",
    "id": "7UvfgYt93L0X"
   },
   "source": [
    "# Part 3: Interpret LDA results & Select the appropriate number of topics"
   ]
  },
  {
   "cell_type": "code",
   "execution_count": null,
   "metadata": {
    "colab": {},
    "colab_type": "code",
    "id": "CYXi480VLaHK"
   },
   "outputs": [],
   "source": [
    "pyLDAvis.enable_notebook()\n",
    "vis = pyLDAvis.gensim.prepare(lda_multicore, corpus, id2word)\n",
    "pyLDAvis.display(vis)"
   ]
  },
  {
   "cell_type": "code",
   "execution_count": null,
   "metadata": {
    "colab": {},
    "colab_type": "code",
    "id": "rjtXk8J3LaXC"
   },
   "outputs": [],
   "source": [
    "def compute_coherence_values(dictionary, corpus, texts, limit, start=2, step=3):\n",
    "    \"\"\"\n",
    "    Compute c_v coherence for various number of topics\n",
    "\n",
    "    Parameters:\n",
    "    ----------\n",
    "    dictionary : Gensim dictionary\n",
    "    corpus : Gensim corpus\n",
    "    texts : List of input texts\n",
    "    limit : Max num of topics\n",
    "\n",
    "    Returns:\n",
    "    -------\n",
    "    model_list : List of LDA topic models\n",
    "    coherence_values : Coherence values corresponding to the LDA model with respective number of topics\n",
    "    \"\"\"\n",
    "    coherence_values = []\n",
    "    model_list = []\n",
    "    for num_topics in range(start, limit, step):\n",
    "        model = gensim.models.ldamulticore.LdaMulticore(corpus=corpus,\n",
    "                                                        id2word=id2word,\n",
    "                                                        num_topics=num_topics, \n",
    "                                                        chunksize=100,\n",
    "                                                        passes=10,\n",
    "                                                        per_word_topics=True,\n",
    "                                                        workers=12)\n",
    "        model_list.append(model)\n",
    "        coherencemodel = CoherenceModel(model=model, texts=texts, dictionary=dictionary, coherence='c_v')\n",
    "        coherence_values.append(coherencemodel.get_coherence())\n",
    "\n",
    "    return model_list, coherence_values"
   ]
  },
  {
   "cell_type": "code",
   "execution_count": null,
   "metadata": {
    "colab": {},
    "colab_type": "code",
    "id": "pRA9EjvQ3L0c"
   },
   "outputs": [],
   "source": [
    "%%time\n",
    "model_list, coherence_values = compute_coherence_values(dictionary=id2word, \n",
    "                                                        corpus=corpus, \n",
    "                                                        texts=df['lemmas'], \n",
    "                                                        start=2, \n",
    "                                                        limit=40, \n",
    "                                                        step=6)"
   ]
  },
  {
   "cell_type": "code",
   "execution_count": null,
   "metadata": {
    "colab": {},
    "colab_type": "code",
    "id": "2e9X-Ql-3L0e"
   },
   "outputs": [],
   "source": [
    "coherence_values = [0.5054, 0.5332, 0.5452, 0.564, 0.5678, 0.5518, 0.519]"
   ]
  },
  {
   "cell_type": "code",
   "execution_count": null,
   "metadata": {
    "colab": {},
    "colab_type": "code",
    "id": "ybEBYQNF3L0g"
   },
   "outputs": [],
   "source": [
    "limit=40; start=2; step=6;\n",
    "x = range(start, limit, step)\n",
    "plt.plot(x, coherence_values)\n",
    "plt.xlabel(\"Num Topics\")\n",
    "plt.ylabel(\"Coherence score\")\n",
    "plt.legend((\"coherence_values\"), loc='best')\n",
    "plt.show()"
   ]
  },
  {
   "cell_type": "code",
   "execution_count": null,
   "metadata": {
    "colab": {},
    "colab_type": "code",
    "id": "DmvQ2zKZ3L0i"
   },
   "outputs": [],
   "source": [
    "# Print the coherence scores\n",
    "for m, cv in zip(x, coherence_values):\n",
    "    print(\"Num Topics =\", m, \" has Coherence Value of\", round(cv, 4))"
   ]
  },
  {
   "cell_type": "code",
   "execution_count": null,
   "metadata": {
    "colab": {},
    "colab_type": "code",
    "id": "Yol5vG3R3L0k"
   },
   "outputs": [],
   "source": [
    "# Select the model and print the topics\n",
    "#optimal_model = model_list[4]\n",
    "optimal_model =  models.LdaModel.load('optimal_model.model')\n",
    "model_topics = optimal_model.show_topics(formatted=False)\n",
    "pprint(optimal_model.print_topics(num_words=10))"
   ]
  },
  {
   "cell_type": "code",
   "execution_count": null,
   "metadata": {
    "colab": {},
    "colab_type": "code",
    "id": "8HwVEUDI3L0m"
   },
   "outputs": [],
   "source": []
  }
 ],
 "metadata": {
  "colab": {
   "collapsed_sections": [],
   "name": "DSPT6_LS_DS_414_Topic_Modeling.ipynb",
   "provenance": []
  },
  "kernelspec": {
   "display_name": "U4-S1-NLP",
   "language": "python",
   "name": "u4-s1-nlp"
  },
  "language_info": {
   "codemirror_mode": {
    "name": "ipython",
    "version": 3
   },
   "file_extension": ".py",
   "mimetype": "text/x-python",
   "name": "python",
   "nbconvert_exporter": "python",
   "pygments_lexer": "ipython3",
   "version": "3.7.0"
  }
 },
 "nbformat": 4,
 "nbformat_minor": 4
}
